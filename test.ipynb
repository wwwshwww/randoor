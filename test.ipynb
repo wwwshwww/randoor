{
 "cells": [
  {
   "cell_type": "code",
   "execution_count": 1,
   "metadata": {},
   "outputs": [
    {
     "name": "stderr",
     "output_type": "stream",
     "text": [
      "/Users/reona/workspace_local/randoor/.venv/lib/python2.7/site-packages/quaternion/numba_wrapper.py:20: UserWarning: \n",
      "\n",
      "!!!!!!!!!!!!!!!!!!!!!!!!!!!!!!!!!!!!!!!!!!!!!!!!!!!!!\n",
      "Could not import from numba, which means that some\n",
      "parts of this code may run MUCH more slowly.  You\n",
      "may wish to install numba.\n",
      "!!!!!!!!!!!!!!!!!!!!!!!!!!!!!!!!!!!!!!!!!!!!!!!!!!!!!\n",
      "\n",
      "  warnings.warn(warning_text)\n"
     ]
    }
   ],
   "source": [
    "import quaternion\n",
    "import numpy as np\n",
    "import shapely\n",
    "from shapely.geometry import Polygon"
   ]
  },
  {
   "cell_type": "code",
   "execution_count": 2,
   "metadata": {},
   "outputs": [],
   "source": [
    "from randoor import geometric_utils"
   ]
  },
  {
   "cell_type": "code",
   "execution_count": 3,
   "metadata": {},
   "outputs": [
    {
     "data": {
      "image/svg+xml": "<svg xmlns=\"http://www.w3.org/2000/svg\" xmlns:xlink=\"http://www.w3.org/1999/xlink\" width=\"100.0\" height=\"100.0\" viewBox=\"-1.52735064736 -1.52735064736 3.05470129473 3.05470129473\" preserveAspectRatio=\"xMinYMin meet\"><g transform=\"matrix(1,0,0,-1,0,0.0)\"><path fill-rule=\"evenodd\" fill=\"#66cc99\" stroke=\"#555555\" stroke-width=\"0.0610940258945\" opacity=\"0.6\" d=\"M -1.11022302463e-16,1.41421356237 L 1.41421356237,1.11022302463e-16 L 1.11022302463e-16,-1.41421356237 L -1.41421356237,-1.11022302463e-16 L -1.11022302463e-16,1.41421356237 z\" /></g></svg>",
      "text/plain": [
       "<shapely.geometry.polygon.Polygon at 0x116e36190>"
      ]
     },
     "execution_count": 3,
     "metadata": {},
     "output_type": "execute_result"
    }
   ],
   "source": [
    "points = geometric_utils.get_square_horizon((0,0), 1, np.pi/4)\n",
    "Polygon(points)"
   ]
  },
  {
   "cell_type": "code",
   "execution_count": 4,
   "metadata": {},
   "outputs": [
    {
     "data": {
      "text/plain": [
       "array([[0, 1, 2, 0],\n",
       "       [3, 4, 5, 0],\n",
       "       [6, 7, 8, 0]])"
      ]
     },
     "execution_count": 4,
     "metadata": {},
     "output_type": "execute_result"
    }
   ],
   "source": [
    "geometric_utils.add_dimension(np.arange(9).reshape((3,3)), 0)"
   ]
  },
  {
   "cell_type": "code",
   "execution_count": 5,
   "metadata": {},
   "outputs": [],
   "source": [
    "from randoor.spawner import poly"
   ]
  },
  {
   "cell_type": "code",
   "execution_count": 6,
   "metadata": {},
   "outputs": [
    {
     "data": {
      "image/svg+xml": "<svg xmlns=\"http://www.w3.org/2000/svg\" xmlns:xlink=\"http://www.w3.org/1999/xlink\" width=\"100.0\" height=\"100.0\" viewBox=\"-14.7530743609 -14.7530743609 29.5061487217 29.5061487217\" preserveAspectRatio=\"xMinYMin meet\"><g transform=\"matrix(1,0,0,-1,0,0.0)\"><path fill-rule=\"evenodd\" fill=\"#66cc99\" stroke=\"#555555\" stroke-width=\"0.590122974435\" opacity=\"0.6\" d=\"M 3.66025403784,13.6602540378 L 13.6602540378,-3.66025403784 L -3.66025403784,-13.6602540378 L -13.6602540378,3.66025403784 L 3.66025403784,13.6602540378 z\" /></g></svg>",
      "text/plain": [
       "<shapely.geometry.polygon.Polygon at 0x1186a62d0>"
      ]
     },
     "execution_count": 6,
     "metadata": {},
     "output_type": "execute_result"
    }
   ],
   "source": [
    "area_points = geometric_utils.get_square_horizon((0,0), 10, np.pi/6)\n",
    "area_poly = Polygon(area_points)\n",
    "area_poly"
   ]
  },
  {
   "cell_type": "code",
   "execution_count": 7,
   "metadata": {},
   "outputs": [
    {
     "data": {
      "image/svg+xml": "<svg xmlns=\"http://www.w3.org/2000/svg\" xmlns:xlink=\"http://www.w3.org/1999/xlink\" width=\"100.0\" height=\"100.0\" viewBox=\"-7.42883161438 -9.09411230114 19.7036452823 17.6491453742\" preserveAspectRatio=\"xMinYMin meet\"><g transform=\"matrix(1,0,0,-1,0,-0.53907922806)\"><g><path fill-rule=\"evenodd\" fill=\"#66cc99\" stroke=\"#555555\" stroke-width=\"0.394072905646\" opacity=\"0.6\" d=\"M -0.0435369435789,-8.21678474863 L 0.104025968851,-6.22223588062 L 2.09857483686,-6.36979879305 L 1.95101192443,-8.36434766106 L -0.0435369435789,-8.21678474863 z\" /><path fill-rule=\"evenodd\" fill=\"#66cc99\" stroke=\"#555555\" stroke-width=\"0.394072905646\" opacity=\"0.6\" d=\"M 4.86090689174,-5.64650748401 L 4.7781654232,-5.77061639412 L 4.73791596603,-5.74378271079 L 4.10034064942,-6.24804986022 L 2.85966083526,-4.67938367561 L 3.37221999164,-4.273993539 L 4.22349918803,-2.997108621 L 5.88758619217,-4.10652938998 L 5.46172973437,-4.74529712977 L 5.66900683403,-5.00737004606 L 4.86090689174,-5.64650748401 z\" /><path fill-rule=\"evenodd\" fill=\"#66cc99\" stroke=\"#555555\" stroke-width=\"0.394072905646\" opacity=\"0.6\" d=\"M 11.3556309565,-4.05919442411 L 9.364620963,-3.86977635276 L 9.55403903435,-1.87876635925 L 11.5450490279,-2.06818443061 L 11.3556309565,-4.05919442411 z\" /><path fill-rule=\"evenodd\" fill=\"#66cc99\" stroke=\"#555555\" stroke-width=\"0.394072905646\" opacity=\"0.6\" d=\"M 5.06199097818,0.374894776833 L 3.51809428366,-0.896475742187 L 2.24672376464,0.647420952338 L 3.79062045916,1.91879147136 L 5.06199097818,0.374894776833 z\" /><path fill-rule=\"evenodd\" fill=\"#66cc99\" stroke=\"#555555\" stroke-width=\"0.394072905646\" opacity=\"0.6\" d=\"M 4.24726458555,4.22629619114 L 6.14908213262,4.84523885217 L 6.57222727562,3.54504594485 L 6.7564054353,3.50876993024 L 6.69141677312,3.17881383313 L 6.76802479365,2.94342130509 L 6.63663106279,2.90065948205 L 6.36990788122,1.54647035049 L 4.40760830147,1.93296790457 L 4.628550836,3.05472259117 L 4.24726458555,4.22629619114 z\" /><path fill-rule=\"evenodd\" fill=\"#66cc99\" stroke=\"#555555\" stroke-width=\"0.394072905646\" opacity=\"0.6\" d=\"M 0.277191803291,3.09135060604 L -1.14660556734,1.6867862439 L -2.55116992948,3.11058361454 L -1.12737255884,4.51514797667 L 0.277191803291,3.09135060604 z\" /><path fill-rule=\"evenodd\" fill=\"#66cc99\" stroke=\"#555555\" stroke-width=\"0.394072905646\" opacity=\"0.6\" d=\"M -6.69906697429,5.91483333435 L -5.53663239699,7.54233014033 L -3.90913559101,6.37989556302 L -5.07157016831,4.75239875704 L -6.69906697429,5.91483333435 z\" /><path fill-rule=\"evenodd\" fill=\"#66cc99\" stroke=\"#555555\" stroke-width=\"0.394072905646\" opacity=\"0.6\" d=\"M -0.274530889353,5.0974186025 L -2.01223224255,6.0875670798 L -1.02208376525,7.825268433 L 0.715617587945,6.8351199557 L -0.274530889353,5.0974186025 z\" /></g></g></svg>",
      "text/plain": [
       "<shapely.geometry.multipolygon.MultiPolygon at 0x118696b50>"
      ]
     },
     "execution_count": 7,
     "metadata": {},
     "output_type": "execute_result"
    }
   ],
   "source": [
    "from shapely.ops import unary_union\n",
    "xy, yaw, polys = poly.sprinkle_cube(area_poly, 10, 2)\n",
    "mulp = unary_union(polys)\n",
    "mulp"
   ]
  },
  {
   "cell_type": "code",
   "execution_count": 8,
   "metadata": {},
   "outputs": [
    {
     "data": {
      "image/svg+xml": "<svg xmlns=\"http://www.w3.org/2000/svg\" xmlns:xlink=\"http://www.w3.org/1999/xlink\" width=\"100.0\" height=\"100.0\" viewBox=\"-14.7530743609 -14.7530743609 29.5061487217 29.5061487217\" preserveAspectRatio=\"xMinYMin meet\"><g transform=\"matrix(1,0,0,-1,0,0.0)\"><path fill-rule=\"evenodd\" fill=\"#66cc99\" stroke=\"#555555\" stroke-width=\"0.590122974435\" opacity=\"0.6\" d=\"M 3.66025403784,13.6602540378 L 13.6602540378,-3.66025403784 L -3.66025403784,-13.6602540378 L -13.6602540378,3.66025403784 L 3.66025403784,13.6602540378 z M -0.0435369435789,-8.21678474863 L 0.104025968851,-6.22223588062 L 2.09857483686,-6.36979879305 L 1.95101192443,-8.36434766106 L -0.0435369435789,-8.21678474863 z M 4.86090689174,-5.64650748401 L 4.7781654232,-5.77061639412 L 4.73791596603,-5.74378271079 L 4.10034064942,-6.24804986022 L 2.85966083526,-4.67938367561 L 3.37221999164,-4.273993539 L 4.22349918803,-2.997108621 L 5.88758619217,-4.10652938998 L 5.46172973437,-4.74529712977 L 5.66900683403,-5.00737004606 L 4.86090689174,-5.64650748401 z M 11.3556309565,-4.05919442411 L 9.364620963,-3.86977635276 L 9.55403903435,-1.87876635925 L 11.5450490279,-2.06818443061 L 11.3556309565,-4.05919442411 z M 5.06199097818,0.374894776833 L 3.51809428366,-0.896475742187 L 2.24672376464,0.647420952338 L 3.79062045916,1.91879147136 L 5.06199097818,0.374894776833 z M 4.24726458555,4.22629619114 L 6.14908213262,4.84523885217 L 6.57222727562,3.54504594485 L 6.7564054353,3.50876993024 L 6.69141677312,3.17881383313 L 6.76802479365,2.94342130509 L 6.63663106279,2.90065948205 L 6.36990788122,1.54647035049 L 4.40760830147,1.93296790457 L 4.628550836,3.05472259117 L 4.24726458555,4.22629619114 z M 0.277191803291,3.09135060604 L -1.14660556734,1.6867862439 L -2.55116992948,3.11058361454 L -1.12737255884,4.51514797667 L 0.277191803291,3.09135060604 z M -6.69906697429,5.91483333435 L -5.53663239699,7.54233014033 L -3.90913559101,6.37989556302 L -5.07157016831,4.75239875704 L -6.69906697429,5.91483333435 z M -0.274530889353,5.0974186025 L -2.01223224255,6.0875670798 L -1.02208376525,7.825268433 L 0.715617587945,6.8351199557 L -0.274530889353,5.0974186025 z\" /></g></svg>",
      "text/plain": [
       "<shapely.geometry.polygon.Polygon at 0x1187dc590>"
      ]
     },
     "execution_count": 8,
     "metadata": {},
     "output_type": "execute_result"
    }
   ],
   "source": [
    "Polygon(area_points, [p.exterior.coords for p in mulp.geoms])"
   ]
  },
  {
   "cell_type": "code",
   "execution_count": 10,
   "metadata": {},
   "outputs": [
    {
     "data": {
      "text/plain": [
       "array([0, 1, 2, 3, 0, 4, 0, 5, 1, 6])"
      ]
     },
     "execution_count": 10,
     "metadata": {},
     "output_type": "execute_result"
    }
   ],
   "source": [
    "from sklearn.cluster import DBSCAN\n",
    "eps = 3\n",
    "points = np.array([p.centroid.coords[0] for p in polys])\n",
    "db = DBSCAN(eps=eps, min_samples=1).fit(points)\n",
    "db.labels_"
   ]
  },
  {
   "cell_type": "code",
   "execution_count": 11,
   "metadata": {},
   "outputs": [
    {
     "data": {
      "text/plain": [
       "array([[4.4076083 , 1.9329679 ],\n",
       "       [6.36990788, 1.54647035],\n",
       "       [6.75640544, 3.50876993],\n",
       "       [4.79410586, 3.89526748]])"
      ]
     },
     "execution_count": 11,
     "metadata": {},
     "output_type": "execute_result"
    }
   ],
   "source": [
    "from trimesh.convex import hull_points\n",
    "hull_points(polys[0].exterior.coords)"
   ]
  },
  {
   "cell_type": "code",
   "execution_count": 12,
   "metadata": {},
   "outputs": [
    {
     "data": {
      "image/svg+xml": "<svg xmlns=\"http://www.w3.org/2000/svg\" xmlns:xlink=\"http://www.w3.org/1999/xlink\" width=\"100.0\" height=\"100.0\" viewBox=\"2.01705518086 -1.12614432596 4.98063819656 6.2010517619\" preserveAspectRatio=\"xMinYMin meet\"><g transform=\"matrix(1,0,0,-1,0,3.94876310998)\"><path fill-rule=\"evenodd\" fill=\"#66cc99\" stroke=\"#555555\" stroke-width=\"0.124021035238\" opacity=\"0.6\" d=\"M 2.24672376464,0.647420952338 L 3.51809428366,-0.896475742187 L 5.06199097818,0.374894776833 L 6.36990788122,1.54647035049 L 6.76802479365,2.94342130509 L 6.7564054353,3.50876993024 L 6.14908213262,4.84523885217 L 4.24726458555,4.22629619114 L 2.24672376464,0.647420952338 z\" /></g></svg>",
      "text/plain": [
       "<shapely.geometry.polygon.Polygon at 0x1187dc550>"
      ]
     },
     "execution_count": 12,
     "metadata": {},
     "output_type": "execute_result"
    }
   ],
   "source": [
    "pp = np.array(polys)\n",
    "hpoints = np.concatenate([p.exterior.coords for p in pp[db.labels_==0]])\n",
    "hull = hull_points(hpoints)\n",
    "Polygon(hull)"
   ]
  },
  {
   "cell_type": "code",
   "execution_count": 15,
   "metadata": {},
   "outputs": [
    {
     "data": {
      "text/plain": [
       "array([[  0.90352258, -11.0264715 ]])"
      ]
     },
     "execution_count": 15,
     "metadata": {},
     "output_type": "execute_result"
    }
   ],
   "source": [
    "from trimesh.path.polygons import sample\n",
    "face_size = 0.001\n",
    "factor = 1 / face_size\n",
    "face = Polygon(area_poly.buffer(face_size).exterior.coords, [area_poly.exterior.coords])\n",
    "sample(face, 2, factor=factor)"
   ]
  },
  {
   "cell_type": "code",
   "execution_count": 16,
   "metadata": {},
   "outputs": [
    {
     "data": {
      "text/plain": [
       "array([[[ 5.2987331 , 10.82264163],\n",
       "        [-7.0007073 ,  7.50596542],\n",
       "        [10.68994163, -5.37589623],\n",
       "        [-5.04090478,  8.63733479],\n",
       "        [ 5.84998942,  9.86871773]]])"
      ]
     },
     "execution_count": 16,
     "metadata": {},
     "output_type": "execute_result"
    }
   ],
   "source": [
    "from randoor.spawner import geom\n",
    "geom.sample_from_faces([area_poly], 5, face_size)"
   ]
  },
  {
   "cell_type": "code",
   "execution_count": 23,
   "metadata": {},
   "outputs": [
    {
     "data": {
      "image/svg+xml": "<svg xmlns=\"http://www.w3.org/2000/svg\" xmlns:xlink=\"http://www.w3.org/1999/xlink\" width=\"100.0\" height=\"100.0\" viewBox=\"-14.7530743609 -14.7530743609 29.5061487217 29.5061487217\" preserveAspectRatio=\"xMinYMin meet\"><g transform=\"matrix(1,0,0,-1,0,0.0)\"><path fill-rule=\"evenodd\" fill=\"#66cc99\" stroke=\"#555555\" stroke-width=\"0.590122974435\" opacity=\"0.6\" d=\"M 3.66025403784,13.6602540378 L 13.6602540378,-3.66025403784 L -3.66025403784,-13.6602540378 L -13.6602540378,3.66025403784 L 3.66025403784,13.6602540378 z M 3.51809428366,-0.896475742187 L 2.24672376464,0.647420952338 L 4.24726458555,4.22629619114 L 6.14908213262,4.84523885217 L 6.7564054353,3.50876993024 L 6.76802479365,2.94342130509 L 6.36990788122,1.54647035049 L 5.06199097818,0.374894776833 L 3.51809428366,-0.896475742187 z M 4.10034064942,-6.24804986022 L 2.85966083526,-4.67938367561 L 4.22349918803,-2.997108621 L 5.88758619217,-4.10652938998 L 5.66900683403,-5.00737004606 L 4.7781654232,-5.77061639412 L 4.10034064942,-6.24804986022 z M -5.07157016831,4.75239875704 L -6.69906697429,5.91483333435 L -5.53663239699,7.54233014033 L -3.90913559101,6.37989556302 L -5.07157016831,4.75239875704 z M -0.274530889353,5.0974186025 L -2.01223224255,6.0875670798 L -1.02208376525,7.825268433 L 0.715617587945,6.8351199557 L -0.274530889353,5.0974186025 z M 11.3556309565,-4.05919442411 L 9.364620963,-3.86977635276 L 9.55403903435,-1.87876635925 L 11.5450490279,-2.06818443061 L 11.3556309565,-4.05919442411 z M -1.14660556734,1.6867862439 L -2.55116992948,3.11058361454 L -1.12737255884,4.51514797667 L 0.277191803291,3.09135060604 L -1.14660556734,1.6867862439 z M 1.95101192443,-8.36434766106 L -0.0435369435789,-8.21678474863 L 0.104025968851,-6.22223588062 L 2.09857483686,-6.36979879305 L 1.95101192443,-8.36434766106 z\" /></g></svg>",
      "text/plain": [
       "<shapely.geometry.polygon.Polygon at 0x11a8ba8d0>"
      ]
     },
     "execution_count": 23,
     "metadata": {},
     "output_type": "execute_result"
    }
   ],
   "source": [
    "zone_polys, zone_hull = poly.get_clustered_zones(polys, 3)\n",
    "Polygon(area_poly.exterior.coords, [p.exterior.coords for p in zone_hull])"
   ]
  },
  {
   "cell_type": "code",
   "execution_count": null,
   "metadata": {},
   "outputs": [],
   "source": []
  }
 ],
 "metadata": {
  "interpreter": {
   "hash": "33b203e14a488836ed93b692d2d39522cdda69eb434e3ffe65691b8de41f05e2"
  },
  "kernelspec": {
   "display_name": "Python 2.7.16 64-bit ('.venv': poetry)",
   "name": "python3"
  },
  "language_info": {
   "codemirror_mode": {
    "name": "ipython",
    "version": 2
   },
   "file_extension": ".py",
   "mimetype": "text/x-python",
   "name": "python",
   "nbconvert_exporter": "python",
   "pygments_lexer": "ipython2",
   "version": "2.7.16"
  },
  "orig_nbformat": 4
 },
 "nbformat": 4,
 "nbformat_minor": 2
}
