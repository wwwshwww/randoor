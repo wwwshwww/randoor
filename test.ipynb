{
 "cells": [
  {
   "cell_type": "code",
   "execution_count": 1,
   "metadata": {},
   "outputs": [
    {
     "name": "stderr",
     "output_type": "stream",
     "text": [
      "/Users/reona/workspace_local/randoor/.venv/lib/python2.7/site-packages/quaternion/numba_wrapper.py:20: UserWarning: \n",
      "\n",
      "!!!!!!!!!!!!!!!!!!!!!!!!!!!!!!!!!!!!!!!!!!!!!!!!!!!!!\n",
      "Could not import from numba, which means that some\n",
      "parts of this code may run MUCH more slowly.  You\n",
      "may wish to install numba.\n",
      "!!!!!!!!!!!!!!!!!!!!!!!!!!!!!!!!!!!!!!!!!!!!!!!!!!!!!\n",
      "\n",
      "  warnings.warn(warning_text)\n"
     ]
    }
   ],
   "source": [
    "import quaternion\n",
    "import numpy as np\n",
    "import shapely\n",
    "from shapely.geometry import Polygon"
   ]
  },
  {
   "cell_type": "code",
   "execution_count": 2,
   "metadata": {},
   "outputs": [],
   "source": [
    "from randoor import geometric_utils"
   ]
  },
  {
   "cell_type": "code",
   "execution_count": 3,
   "metadata": {},
   "outputs": [
    {
     "data": {
      "image/svg+xml": "<svg xmlns=\"http://www.w3.org/2000/svg\" xmlns:xlink=\"http://www.w3.org/1999/xlink\" width=\"100.0\" height=\"100.0\" viewBox=\"-1.52735064736 -1.52735064736 3.05470129473 3.05470129473\" preserveAspectRatio=\"xMinYMin meet\"><g transform=\"matrix(1,0,0,-1,0,0.0)\"><path fill-rule=\"evenodd\" fill=\"#66cc99\" stroke=\"#555555\" stroke-width=\"0.0610940258945\" opacity=\"0.6\" d=\"M -1.11022302463e-16,1.41421356237 L 1.41421356237,1.11022302463e-16 L 1.11022302463e-16,-1.41421356237 L -1.41421356237,-1.11022302463e-16 L -1.11022302463e-16,1.41421356237 z\" /></g></svg>",
      "text/plain": [
       "<shapely.geometry.polygon.Polygon at 0x11147ce90>"
      ]
     },
     "execution_count": 3,
     "metadata": {},
     "output_type": "execute_result"
    }
   ],
   "source": [
    "points = geometric_utils.get_square_horizon((0,0), 1, np.pi/4)\n",
    "Polygon(points)"
   ]
  },
  {
   "cell_type": "code",
   "execution_count": 4,
   "metadata": {},
   "outputs": [
    {
     "data": {
      "text/plain": [
       "array([[0, 1, 2, 0],\n",
       "       [3, 4, 5, 0],\n",
       "       [6, 7, 8, 0]])"
      ]
     },
     "execution_count": 4,
     "metadata": {},
     "output_type": "execute_result"
    }
   ],
   "source": [
    "geometric_utils.add_dimension(np.arange(9).reshape((3,3)), 0)"
   ]
  },
  {
   "cell_type": "code",
   "execution_count": 5,
   "metadata": {},
   "outputs": [],
   "source": [
    "from randoor import spawner"
   ]
  },
  {
   "cell_type": "code",
   "execution_count": 6,
   "metadata": {},
   "outputs": [
    {
     "data": {
      "image/svg+xml": "<svg xmlns=\"http://www.w3.org/2000/svg\" xmlns:xlink=\"http://www.w3.org/1999/xlink\" width=\"100.0\" height=\"100.0\" viewBox=\"-14.7530743609 -14.7530743609 29.5061487217 29.5061487217\" preserveAspectRatio=\"xMinYMin meet\"><g transform=\"matrix(1,0,0,-1,0,0.0)\"><path fill-rule=\"evenodd\" fill=\"#66cc99\" stroke=\"#555555\" stroke-width=\"0.590122974435\" opacity=\"0.6\" d=\"M 3.66025403784,13.6602540378 L 13.6602540378,-3.66025403784 L -3.66025403784,-13.6602540378 L -13.6602540378,3.66025403784 L 3.66025403784,13.6602540378 z\" /></g></svg>",
      "text/plain": [
       "<shapely.geometry.polygon.Polygon at 0x111bb8d50>"
      ]
     },
     "execution_count": 6,
     "metadata": {},
     "output_type": "execute_result"
    }
   ],
   "source": [
    "area_points = geometric_utils.get_square_horizon((0,0), 10, np.pi/6)\n",
    "area_poly = Polygon(area_points)\n",
    "area_poly"
   ]
  },
  {
   "cell_type": "code",
   "execution_count": 25,
   "metadata": {},
   "outputs": [
    {
     "data": {
      "image/svg+xml": "<svg xmlns=\"http://www.w3.org/2000/svg\" xmlns:xlink=\"http://www.w3.org/1999/xlink\" width=\"100.0\" height=\"100.0\" viewBox=\"-10.8901114841 -6.55682866838 19.8815727681 14.4630788848\" preserveAspectRatio=\"xMinYMin meet\"><g transform=\"matrix(1,0,0,-1,0,1.349421548)\"><g><path fill-rule=\"evenodd\" fill=\"#66cc99\" stroke=\"#555555\" stroke-width=\"0.397631455363\" opacity=\"0.6\" d=\"M 6.89675447461,-5.45042361496 L 4.93128694177,-5.82047412141 L 4.56123643531,-3.85500658857 L 6.52670396816,-3.48495608211 L 6.89675447461,-5.45042361496 z\" /><path fill-rule=\"evenodd\" fill=\"#66cc99\" stroke=\"#555555\" stroke-width=\"0.397631455363\" opacity=\"0.6\" d=\"M 2.55313635573,-3.07824598893 L 1.02151621538,-1.7921123467 L 2.30764985761,-0.260492206348 L 3.83926999796,-1.54662584858 L 2.55313635573,-3.07824598893 z\" /><path fill-rule=\"evenodd\" fill=\"#66cc99\" stroke=\"#555555\" stroke-width=\"0.397631455363\" opacity=\"0.6\" d=\"M -2.58632295421,0.281130357036 L -0.72956053611,1.02438894106 L 0.0136980479153,-0.83237347704 L -1.84306437019,-1.57563206107 L -2.58632295421,0.281130357036 z\" /><path fill-rule=\"evenodd\" fill=\"#66cc99\" stroke=\"#555555\" stroke-width=\"0.397631455363\" opacity=\"0.6\" d=\"M -8.57780713428,-1.12451074729 L -10.1537569371,0.106903975257 L -8.92234221458,1.6828537781 L -7.71132756422,0.736591868626 L -7.67363008668,2.27034594321 L -5.67423391907,2.22120365021 L -5.72337621207,0.221807482601 L -7.49185777625,0.265274225509 L -8.57780713428,-1.12451074729 z\" /><path fill-rule=\"evenodd\" fill=\"#66cc99\" stroke=\"#555555\" stroke-width=\"0.397631455363\" opacity=\"0.6\" d=\"M 1.68692146225,2.51321072959 L 3.11212798387,1.11007624896 L 1.70899350324,-0.315130272661 L 0.283786981623,1.08800420797 L 1.68692146225,2.51321072959 z\" /><path fill-rule=\"evenodd\" fill=\"#66cc99\" stroke=\"#555555\" stroke-width=\"0.397631455363\" opacity=\"0.6\" d=\"M 8.18759624058,1.19022134391 L 6.18873598212,1.25773184042 L 6.25624647862,3.25659209888 L 8.25510673708,3.18908160237 L 8.18759624058,1.19022134391 z\" /><path fill-rule=\"evenodd\" fill=\"#66cc99\" stroke=\"#555555\" stroke-width=\"0.397631455363\" opacity=\"0.6\" d=\"M -0.541441736816,6.46560702866 L 1.22418643966,5.5261619039 L 0.284741314896,3.76053372742 L -1.48088686158,4.69997885218 L -0.541441736816,6.46560702866 z\" /><path fill-rule=\"evenodd\" fill=\"#66cc99\" stroke=\"#555555\" stroke-width=\"0.397631455363\" opacity=\"0.6\" d=\"M -2.60094758504,5.78150792054 L -3.66272965909,4.08662773975 L -5.35760983988,5.1484098138 L -4.29582776583,6.84328999459 L -2.60094758504,5.78150792054 z\" /><path fill-rule=\"evenodd\" fill=\"#66cc99\" stroke=\"#555555\" stroke-width=\"0.397631455363\" opacity=\"0.6\" d=\"M 4.31220956199,7.16989566942 L 4.85070049072,5.24375249725 L 2.92455731856,4.70526156852 L 2.38606638982,6.63140474069 L 4.31220956199,7.16989566942 z\" /></g></g></svg>",
      "text/plain": [
       "<shapely.geometry.multipolygon.MultiPolygon at 0x111bb8e50>"
      ]
     },
     "execution_count": 25,
     "metadata": {},
     "output_type": "execute_result"
    }
   ],
   "source": [
    "from shapely.ops import unary_union\n",
    "polys = spawner.sprinkle_cube(area_poly, 10, 2)\n",
    "mulp = unary_union(polys)\n",
    "mulp"
   ]
  },
  {
   "cell_type": "code",
   "execution_count": 26,
   "metadata": {},
   "outputs": [
    {
     "data": {
      "image/svg+xml": "<svg xmlns=\"http://www.w3.org/2000/svg\" xmlns:xlink=\"http://www.w3.org/1999/xlink\" width=\"100.0\" height=\"100.0\" viewBox=\"-14.7530743609 -14.7530743609 29.5061487217 29.5061487217\" preserveAspectRatio=\"xMinYMin meet\"><g transform=\"matrix(1,0,0,-1,0,0.0)\"><path fill-rule=\"evenodd\" fill=\"#66cc99\" stroke=\"#555555\" stroke-width=\"0.590122974435\" opacity=\"0.6\" d=\"M 3.66025403784,13.6602540378 L 13.6602540378,-3.66025403784 L -3.66025403784,-13.6602540378 L -13.6602540378,3.66025403784 L 3.66025403784,13.6602540378 z M 6.89675447461,-5.45042361496 L 4.93128694177,-5.82047412141 L 4.56123643531,-3.85500658857 L 6.52670396816,-3.48495608211 L 6.89675447461,-5.45042361496 z M 2.55313635573,-3.07824598893 L 1.02151621538,-1.7921123467 L 2.30764985761,-0.260492206348 L 3.83926999796,-1.54662584858 L 2.55313635573,-3.07824598893 z M -2.58632295421,0.281130357036 L -0.72956053611,1.02438894106 L 0.0136980479153,-0.83237347704 L -1.84306437019,-1.57563206107 L -2.58632295421,0.281130357036 z M -8.57780713428,-1.12451074729 L -10.1537569371,0.106903975257 L -8.92234221458,1.6828537781 L -7.71132756422,0.736591868626 L -7.67363008668,2.27034594321 L -5.67423391907,2.22120365021 L -5.72337621207,0.221807482601 L -7.49185777625,0.265274225509 L -8.57780713428,-1.12451074729 z M 1.68692146225,2.51321072959 L 3.11212798387,1.11007624896 L 1.70899350324,-0.315130272661 L 0.283786981623,1.08800420797 L 1.68692146225,2.51321072959 z M 8.18759624058,1.19022134391 L 6.18873598212,1.25773184042 L 6.25624647862,3.25659209888 L 8.25510673708,3.18908160237 L 8.18759624058,1.19022134391 z M -0.541441736816,6.46560702866 L 1.22418643966,5.5261619039 L 0.284741314896,3.76053372742 L -1.48088686158,4.69997885218 L -0.541441736816,6.46560702866 z M -2.60094758504,5.78150792054 L -3.66272965909,4.08662773975 L -5.35760983988,5.1484098138 L -4.29582776583,6.84328999459 L -2.60094758504,5.78150792054 z M 4.31220956199,7.16989566942 L 4.85070049072,5.24375249725 L 2.92455731856,4.70526156852 L 2.38606638982,6.63140474069 L 4.31220956199,7.16989566942 z\" /></g></svg>",
      "text/plain": [
       "<shapely.geometry.polygon.Polygon at 0x111d899d0>"
      ]
     },
     "execution_count": 26,
     "metadata": {},
     "output_type": "execute_result"
    }
   ],
   "source": [
    "Polygon(area_points, [p.exterior.coords for p in mulp.geoms])"
   ]
  },
  {
   "cell_type": "code",
   "execution_count": null,
   "metadata": {},
   "outputs": [],
   "source": []
  }
 ],
 "metadata": {
  "interpreter": {
   "hash": "33b203e14a488836ed93b692d2d39522cdda69eb434e3ffe65691b8de41f05e2"
  },
  "kernelspec": {
   "display_name": "Python 2.7.16 64-bit ('.venv': poetry)",
   "name": "python3"
  },
  "language_info": {
   "codemirror_mode": {
    "name": "ipython",
    "version": 2
   },
   "file_extension": ".py",
   "mimetype": "text/x-python",
   "name": "python",
   "nbconvert_exporter": "python",
   "pygments_lexer": "ipython2",
   "version": "2.7.16"
  },
  "orig_nbformat": 4
 },
 "nbformat": 4,
 "nbformat_minor": 2
}
