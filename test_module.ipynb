{
 "cells": [
  {
   "cell_type": "code",
   "execution_count": 1,
   "metadata": {},
   "outputs": [
    {
     "name": "stderr",
     "output_type": "stream",
     "text": [
      "/Users/reona/workspace_local/randoor/.venv/lib/python2.7/site-packages/quaternion/numba_wrapper.py:20: UserWarning: \n",
      "\n",
      "!!!!!!!!!!!!!!!!!!!!!!!!!!!!!!!!!!!!!!!!!!!!!!!!!!!!!\n",
      "Could not import from numba, which means that some\n",
      "parts of this code may run MUCH more slowly.  You\n",
      "may wish to install numba.\n",
      "!!!!!!!!!!!!!!!!!!!!!!!!!!!!!!!!!!!!!!!!!!!!!!!!!!!!!\n",
      "\n",
      "  warnings.warn(warning_text)\n"
     ]
    }
   ],
   "source": [
    "import quaternion\n",
    "import numpy as np\n",
    "import shapely\n",
    "from shapely.geometry import Polygon"
   ]
  },
  {
   "cell_type": "code",
   "execution_count": 2,
   "metadata": {},
   "outputs": [],
   "source": [
    "from randoor import utils"
   ]
  },
  {
   "cell_type": "code",
   "execution_count": 3,
   "metadata": {},
   "outputs": [
    {
     "data": {
      "image/svg+xml": "<svg xmlns=\"http://www.w3.org/2000/svg\" xmlns:xlink=\"http://www.w3.org/1999/xlink\" width=\"100.0\" height=\"100.0\" viewBox=\"-1.52735064736 -1.52735064736 3.05470129473 3.05470129473\" preserveAspectRatio=\"xMinYMin meet\"><g transform=\"matrix(1,0,0,-1,0,0.0)\"><path fill-rule=\"evenodd\" fill=\"#66cc99\" stroke=\"#555555\" stroke-width=\"0.0610940258945\" opacity=\"0.6\" d=\"M -1.11022302463e-16,1.41421356237 L 1.41421356237,1.11022302463e-16 L 1.11022302463e-16,-1.41421356237 L -1.41421356237,-1.11022302463e-16 L -1.11022302463e-16,1.41421356237 z\" /></g></svg>",
      "text/plain": [
       "<shapely.geometry.polygon.Polygon at 0x11f12bfd0>"
      ]
     },
     "execution_count": 3,
     "metadata": {},
     "output_type": "execute_result"
    }
   ],
   "source": [
    "points = utils.get_square_horizon((0,0), 1, np.pi/4)\n",
    "Polygon(points)"
   ]
  },
  {
   "cell_type": "code",
   "execution_count": 4,
   "metadata": {},
   "outputs": [
    {
     "data": {
      "text/plain": [
       "array([[0, 1, 2, 0],\n",
       "       [3, 4, 5, 0],\n",
       "       [6, 7, 8, 0]])"
      ]
     },
     "execution_count": 4,
     "metadata": {},
     "output_type": "execute_result"
    }
   ],
   "source": [
    "utils.add_dimension(np.arange(9).reshape((3,3)), 0)"
   ]
  },
  {
   "cell_type": "code",
   "execution_count": 5,
   "metadata": {},
   "outputs": [],
   "source": [
    "from randoor.spawner import poly"
   ]
  },
  {
   "cell_type": "code",
   "execution_count": 6,
   "metadata": {},
   "outputs": [
    {
     "name": "stdout",
     "output_type": "stream",
     "text": [
      "[[  3.66025404  13.66025404]\n",
      " [ 13.66025404  -3.66025404]\n",
      " [ -3.66025404 -13.66025404]\n",
      " [-13.66025404   3.66025404]]\n"
     ]
    },
    {
     "data": {
      "image/svg+xml": "<svg xmlns=\"http://www.w3.org/2000/svg\" xmlns:xlink=\"http://www.w3.org/1999/xlink\" width=\"100.0\" height=\"100.0\" viewBox=\"-14.7530743609 -14.7530743609 29.5061487217 29.5061487217\" preserveAspectRatio=\"xMinYMin meet\"><g transform=\"matrix(1,0,0,-1,0,0.0)\"><path fill-rule=\"evenodd\" fill=\"#66cc99\" stroke=\"#555555\" stroke-width=\"0.590122974435\" opacity=\"0.6\" d=\"M 3.66025403784,13.6602540378 L 13.6602540378,-3.66025403784 L -3.66025403784,-13.6602540378 L -13.6602540378,3.66025403784 L 3.66025403784,13.6602540378 z\" /></g></svg>",
      "text/plain": [
       "<shapely.geometry.polygon.Polygon at 0x120a54710>"
      ]
     },
     "execution_count": 6,
     "metadata": {},
     "output_type": "execute_result"
    }
   ],
   "source": [
    "area_points = utils.get_square_horizon((0,0), 10, np.pi/6)\n",
    "print(area_points)\n",
    "area_poly = Polygon(area_points)\n",
    "area_poly"
   ]
  },
  {
   "cell_type": "code",
   "execution_count": 7,
   "metadata": {},
   "outputs": [
    {
     "data": {
      "image/svg+xml": "<svg xmlns=\"http://www.w3.org/2000/svg\" xmlns:xlink=\"http://www.w3.org/1999/xlink\" width=\"100.0\" height=\"100.0\" viewBox=\"-5.2434693361 -7.29944643526 16.9937989432 18.4817822558\" preserveAspectRatio=\"xMinYMin meet\"><g transform=\"matrix(1,0,0,-1,0,3.88288938531)\"><g><path fill-rule=\"evenodd\" fill=\"#66cc99\" stroke=\"#555555\" stroke-width=\"0.369635645117\" opacity=\"0.6\" d=\"M 5.53209780388,-4.42022725207 L 5.73736842894,-6.40966535628 L 3.74793032473,-6.61493598134 L 3.54265969967,-4.62549787713 L 5.53209780388,-4.42022725207 z\" /><path fill-rule=\"evenodd\" fill=\"#66cc99\" stroke=\"#555555\" stroke-width=\"0.369635645117\" opacity=\"0.6\" d=\"M -1.88503294922,-1.86777426904 L -0.676877981709,-3.46162544606 L -2.27072915872,-4.66978041357 L -3.47888412624,-3.07592923655 L -1.88503294922,-1.86777426904 z\" /><path fill-rule=\"evenodd\" fill=\"#66cc99\" stroke=\"#555555\" stroke-width=\"0.369635645117\" opacity=\"0.6\" d=\"M 3.55133689587,-3.81352579445 L 1.55940482724,-3.99298786278 L 1.37994275891,-2.00105579415 L 3.37187482754,-1.82159372582 L 3.55133689587,-3.81352579445 z\" /><path fill-rule=\"evenodd\" fill=\"#66cc99\" stroke=\"#555555\" stroke-width=\"0.369635645117\" opacity=\"0.6\" d=\"M 10.6287773164,-3.26557480423 L 8.6771127876,-2.82853296745 L 9.11415462439,-0.876868438667 L 11.0658191532,-1.31391027545 L 10.6287773164,-3.26557480423 z\" /><path fill-rule=\"evenodd\" fill=\"#66cc99\" stroke=\"#555555\" stroke-width=\"0.369635645117\" opacity=\"0.6\" d=\"M -1.09679240812,1.23728847314 L 0.509803108154,0.0461332157925 L -0.681352149189,-1.56046230048 L -2.28794766546,-0.369307043135 L -1.09679240812,1.23728847314 z\" /><path fill-rule=\"evenodd\" fill=\"#66cc99\" stroke=\"#555555\" stroke-width=\"0.369635645117\" opacity=\"0.6\" d=\"M 2.50779478134,-0.177330897757 L 0.606096548074,0.441978257356 L 1.22540570319,2.34367649062 L 3.12710393645,1.7243673355 L 2.50779478134,-0.177330897757 z\" /><path fill-rule=\"evenodd\" fill=\"#66cc99\" stroke=\"#555555\" stroke-width=\"0.369635645117\" opacity=\"0.6\" d=\"M -1.85647442248,7.96459405018 L -0.918644018713,6.19810766932 L -2.63880322259,5.28487243683 L -2.67104814974,5.19265719757 L -4.55895888219,5.85280344372 L -3.89881263603,7.74071417617 L -2.92171949915,7.39905376004 L -1.85647442248,7.96459405018 z\" /><path fill-rule=\"evenodd\" fill=\"#66cc99\" stroke=\"#555555\" stroke-width=\"0.369635645117\" opacity=\"0.6\" d=\"M 0.692403940322,8.00823581596 L 0.299620546863,7.86182188174 L 0.177331413285,8.18988588144 L -1.01868471508,8.61168358298 L -0.353501152523,10.4978253666 L 0.673517630557,10.1356277743 L 1.4750901864,10.434421953 L 2.17365540225,8.56038709759 L 0.919020582589,8.09270943349 L 0.867457068593,7.94650002042 L 0.692403940322,8.00823581596 z\" /></g></g></svg>",
      "text/plain": [
       "<shapely.geometry.multipolygon.MultiPolygon at 0x120a54790>"
      ]
     },
     "execution_count": 7,
     "metadata": {},
     "output_type": "execute_result"
    }
   ],
   "source": [
    "from shapely.ops import unary_union\n",
    "xy, yaw, polys = poly.sprinkle_cube(area_poly, 10, 2)\n",
    "mulp = unary_union(polys)\n",
    "mulp"
   ]
  },
  {
   "cell_type": "code",
   "execution_count": 8,
   "metadata": {},
   "outputs": [
    {
     "data": {
      "image/svg+xml": "<svg xmlns=\"http://www.w3.org/2000/svg\" xmlns:xlink=\"http://www.w3.org/1999/xlink\" width=\"100.0\" height=\"100.0\" viewBox=\"-14.7530743609 -14.7530743609 29.5061487217 29.5061487217\" preserveAspectRatio=\"xMinYMin meet\"><g transform=\"matrix(1,0,0,-1,0,0.0)\"><path fill-rule=\"evenodd\" fill=\"#66cc99\" stroke=\"#555555\" stroke-width=\"0.590122974435\" opacity=\"0.6\" d=\"M 3.66025403784,13.6602540378 L 13.6602540378,-3.66025403784 L -3.66025403784,-13.6602540378 L -13.6602540378,3.66025403784 L 3.66025403784,13.6602540378 z M 5.53209780388,-4.42022725207 L 5.73736842894,-6.40966535628 L 3.74793032473,-6.61493598134 L 3.54265969967,-4.62549787713 L 5.53209780388,-4.42022725207 z M -1.88503294922,-1.86777426904 L -0.676877981709,-3.46162544606 L -2.27072915872,-4.66978041357 L -3.47888412624,-3.07592923655 L -1.88503294922,-1.86777426904 z M 3.55133689587,-3.81352579445 L 1.55940482724,-3.99298786278 L 1.37994275891,-2.00105579415 L 3.37187482754,-1.82159372582 L 3.55133689587,-3.81352579445 z M 10.6287773164,-3.26557480423 L 8.6771127876,-2.82853296745 L 9.11415462439,-0.876868438667 L 11.0658191532,-1.31391027545 L 10.6287773164,-3.26557480423 z M -1.09679240812,1.23728847314 L 0.509803108154,0.0461332157925 L -0.681352149189,-1.56046230048 L -2.28794766546,-0.369307043135 L -1.09679240812,1.23728847314 z M 2.50779478134,-0.177330897757 L 0.606096548074,0.441978257356 L 1.22540570319,2.34367649062 L 3.12710393645,1.7243673355 L 2.50779478134,-0.177330897757 z M -1.85647442248,7.96459405018 L -0.918644018713,6.19810766932 L -2.63880322259,5.28487243683 L -2.67104814974,5.19265719757 L -4.55895888219,5.85280344372 L -3.89881263603,7.74071417617 L -2.92171949915,7.39905376004 L -1.85647442248,7.96459405018 z M 0.692403940322,8.00823581596 L 0.299620546863,7.86182188174 L 0.177331413285,8.18988588144 L -1.01868471508,8.61168358298 L -0.353501152523,10.4978253666 L 0.673517630557,10.1356277743 L 1.4750901864,10.434421953 L 2.17365540225,8.56038709759 L 0.919020582589,8.09270943349 L 0.867457068593,7.94650002042 L 0.692403940322,8.00823581596 z\" /></g></svg>",
      "text/plain": [
       "<shapely.geometry.polygon.Polygon at 0x120ab7710>"
      ]
     },
     "execution_count": 8,
     "metadata": {},
     "output_type": "execute_result"
    }
   ],
   "source": [
    "Polygon(area_points, [p.exterior.coords for p in mulp.geoms])"
   ]
  },
  {
   "cell_type": "code",
   "execution_count": 9,
   "metadata": {},
   "outputs": [
    {
     "data": {
      "text/plain": [
       "array([0, 1, 2, 0, 3, 4, 5, 6, 7, 6])"
      ]
     },
     "execution_count": 9,
     "metadata": {},
     "output_type": "execute_result"
    }
   ],
   "source": [
    "from sklearn.cluster import DBSCAN\n",
    "eps = 3\n",
    "points = np.array([p.centroid.coords[0] for p in polys])\n",
    "db = DBSCAN(eps=eps, min_samples=1).fit(points)\n",
    "db.labels_"
   ]
  },
  {
   "cell_type": "code",
   "execution_count": 10,
   "metadata": {},
   "outputs": [
    {
     "data": {
      "text/plain": [
       "array([[-0.35350115, 10.49782537],\n",
       "       [-1.01868472,  8.61168358],\n",
       "       [ 0.86745707,  7.94650002],\n",
       "       [ 1.53264063,  9.8326418 ]])"
      ]
     },
     "execution_count": 10,
     "metadata": {},
     "output_type": "execute_result"
    }
   ],
   "source": [
    "from trimesh.convex import hull_points\n",
    "hull_points(polys[0].exterior.coords)"
   ]
  },
  {
   "cell_type": "code",
   "execution_count": 11,
   "metadata": {},
   "outputs": [
    {
     "data": {
      "image/svg+xml": "<svg xmlns=\"http://www.w3.org/2000/svg\" xmlns:xlink=\"http://www.w3.org/1999/xlink\" width=\"100.0\" height=\"100.0\" viewBox=\"-1.14637831977 7.73412827705 3.44772732671 2.8913906943\" preserveAspectRatio=\"xMinYMin meet\"><g transform=\"matrix(1,0,0,-1,0,18.3596472484)\"><path fill-rule=\"evenodd\" fill=\"#66cc99\" stroke=\"#555555\" stroke-width=\"0.0689545465343\" opacity=\"0.6\" d=\"M -0.353501152523,10.4978253666 L -1.01868471508,8.61168358298 L 0.299620546863,7.86182188174 L 0.867457068593,7.94650002042 L 2.17365540225,8.56038709759 L 1.4750901864,10.434421953 L -0.353501152523,10.4978253666 z\" /></g></svg>",
      "text/plain": [
       "<shapely.geometry.polygon.Polygon at 0x120ab7850>"
      ]
     },
     "execution_count": 11,
     "metadata": {},
     "output_type": "execute_result"
    }
   ],
   "source": [
    "pp = np.array(polys)\n",
    "hpoints = np.concatenate([p.exterior.coords for p in pp[db.labels_==0]])\n",
    "hull = hull_points(hpoints)\n",
    "Polygon(hull)"
   ]
  },
  {
   "cell_type": "code",
   "execution_count": 12,
   "metadata": {},
   "outputs": [
    {
     "data": {
      "text/plain": [
       "array([[12.82655723, -2.21572471],\n",
       "       [10.31104249,  2.14162873]])"
      ]
     },
     "execution_count": 12,
     "metadata": {},
     "output_type": "execute_result"
    }
   ],
   "source": [
    "from trimesh.path.polygons import sample\n",
    "face_size = 0.001\n",
    "factor = 1 / face_size\n",
    "face = Polygon(area_poly.buffer(face_size).exterior.coords, [area_poly.exterior.coords])\n",
    "sample(face, 2, factor=factor)"
   ]
  },
  {
   "cell_type": "code",
   "execution_count": 13,
   "metadata": {},
   "outputs": [
    {
     "data": {
      "text/plain": [
       "array([[[  6.4488293 ,   8.8310941 ],\n",
       "        [  7.11418946,   7.67898084],\n",
       "        [ -9.6701701 ,  -3.25213561],\n",
       "        [-11.86332786,   4.6979531 ],\n",
       "        [  5.1012595 ,  11.16562369]]])"
      ]
     },
     "execution_count": 13,
     "metadata": {},
     "output_type": "execute_result"
    }
   ],
   "source": [
    "from randoor.spawner import geom\n",
    "geom.sample_from_faces([area_poly], 5, face_size)"
   ]
  },
  {
   "cell_type": "code",
   "execution_count": 14,
   "metadata": {},
   "outputs": [
    {
     "data": {
      "image/svg+xml": "<svg xmlns=\"http://www.w3.org/2000/svg\" xmlns:xlink=\"http://www.w3.org/1999/xlink\" width=\"100.0\" height=\"100.0\" viewBox=\"-14.7530743609 -14.7530743609 29.5061487217 29.5061487217\" preserveAspectRatio=\"xMinYMin meet\"><g transform=\"matrix(1,0,0,-1,0,0.0)\"><path fill-rule=\"evenodd\" fill=\"#66cc99\" stroke=\"#555555\" stroke-width=\"0.590122974435\" opacity=\"0.6\" d=\"M 3.66025403784,13.6602540378 L 13.6602540378,-3.66025403784 L -3.66025403784,-13.6602540378 L -13.6602540378,3.66025403784 L 3.66025403784,13.6602540378 z M -2.67104814974,5.19265719757 L -4.55895888219,5.85280344372 L -3.89881263603,7.74071417617 L -0.353501152523,10.4978253666 L 1.4750901864,10.434421953 L 2.17365540225,8.56038709759 L -0.918644018713,6.19810766932 L -2.67104814974,5.19265719757 z M 10.6287773164,-3.26557480423 L 8.6771127876,-2.82853296745 L 9.11415462439,-0.876868438667 L 11.0658191532,-1.31391027545 L 10.6287773164,-3.26557480423 z M -2.27072915872,-4.66978041357 L -3.47888412624,-3.07592923655 L -2.28794766546,-0.369307043135 L -1.09679240812,1.23728847314 L 1.22540570319,2.34367649062 L 3.12710393645,1.7243673355 L 2.50779478134,-0.177330897757 L -0.676877981709,-3.46162544606 L -2.27072915872,-4.66978041357 z M 3.74793032473,-6.61493598134 L 1.55940482724,-3.99298786278 L 1.37994275891,-2.00105579415 L 3.37187482754,-1.82159372582 L 5.53209780388,-4.42022725207 L 5.73736842894,-6.40966535628 L 3.74793032473,-6.61493598134 z\" /></g></svg>",
      "text/plain": [
       "<shapely.geometry.polygon.Polygon at 0x120ab78d0>"
      ]
     },
     "execution_count": 14,
     "metadata": {},
     "output_type": "execute_result"
    }
   ],
   "source": [
    "zone_polys, zone_hull = poly.get_clustered_zones(polys, 4)\n",
    "free_zone = Polygon(area_poly.exterior.coords, [p.exterior.coords for p in zone_hull])\n",
    "free_zone"
   ]
  },
  {
   "cell_type": "code",
   "execution_count": 15,
   "metadata": {},
   "outputs": [
    {
     "data": {
      "image/svg+xml": "<svg xmlns=\"http://www.w3.org/2000/svg\" xmlns:xlink=\"http://www.w3.org/1999/xlink\" width=\"100.0\" height=\"100.0\" viewBox=\"-12.3925824631 -12.3925824631 22.5985248079 24.7851649263\" preserveAspectRatio=\"xMinYMin meet\"><g transform=\"matrix(1,0,0,-1,0,0.0)\"><path fill-rule=\"evenodd\" fill=\"#66cc99\" stroke=\"#555555\" stroke-width=\"0.495703298525\" opacity=\"0.6\" d=\"M -6.12682972653,6.1621577305 L -6.14329744286,6.07612233045 L -6.1575574983,5.91975465394 L -6.15642217519,5.76274220068 L -6.13990240731,5.60659708641 L -6.10815728904,5.45282307397 L -6.06149254324,5.30290109113 L -6.00035757692,5.15827496855 L -5.92534115322,5.02033753486 L -5.8371657213,4.89041720295 L -5.73668045879,4.76976517662 L -5.62485309369,4.65954340086 L -5.50276058465,4.56081337161 L -5.37157874928,4.47452591303 L -5.23257094037,4.40151202052 L -5.08707587911,4.34247485776 L -3.19916514666,3.68232861161 L -3.05312487874,3.63894635795 L -2.90362058084,3.6096505443 L -2.7520077068,3.59470677589 L -2.5996608275,3.59425053773 L -2.44796116852,3.60828596619 L -2.29828408755,3.6366858116 L -2.15198660493,3.67919259187 L -2.0103951005,3.7354209269 L -1.87479328818,3.80486103262 L -0.122389157153,4.81031150437 L 0.0526481362411,4.92665513394 L 3.1449475572,7.28893456221 L 3.26480258651,7.39017437237 L 3.37416609618,7.50266592745 L 3.47198654208,7.62532760678 L 3.55732336812,7.75698000263 L 3.62935604981,7.89635726039 L 3.68739198371,8.04211924991 L 3.7308731469,8.19286445102 L 3.75938146244,8.34714342936 L 3.77264281922,8.50347277283 L 3.77052970761,8.6603493548 L 3.75306244545,8.81626478689 L 3.72040898269,8.96971992229 L 3.67288328656,9.11923927027 L 2.97431807071,10.9932741257 L 2.91224946304,11.1376809476 L 2.8363112341,11.2753008142 L 2.8059214667,11.3194840365 L 3.07461339179,11.4746133918 L 9.28797327346,0.712758391019 L 9.15246929563,0.722672741161 L 8.99550234773,0.718726007689 L 8.83967808611,0.699412827458 L 8.68649718361,0.664919196951 L 8.53743485604,0.615577308686 L 8.3939266551,0.55186235202 L 8.25735464323,0.474387936816 L 8.12903408355,0.383900184044 L 8.0102007732,0.28127054023 L 7.90199914192,0.167487384945 L 7.80547123056,0.0436465121763 L 7.72154665569,-0.0890594227738 L 7.65103365684,-0.229352389207 L 7.59461131272,-0.375881289165 L 7.55282300136,-0.52723496924 L 7.11578116458,-2.47889949802 L 7.08902933026,-2.63362033954 L 7.07757160778,-2.79021829621 L 7.08151834125,-2.94718524411 L 7.10083152148,-3.10300950572 L 7.13532515199,-3.25619040823 L 7.18466704025,-3.4052527358 L 7.24838199692,-3.54876093673 L 7.32585641212,-3.68533294861 L 7.41634416489,-3.81365350829 L 7.51897380871,-3.93248681864 L 7.63275696399,-4.04068844992 L 7.75659783676,-4.13721636127 L 7.88930377171,-4.22114093614 L 8.02959673814,-4.291653935 L 8.1761256381,-4.34807627912 L 8.32747931818,-4.38986459047 L 8.95365935633,-4.53008688278 L 7.25322433199,-5.51183350182 L 7.12364828725,-4.25601075202 L 7.09979968195,-4.10036662387 L 7.06076773051,-3.94782037721 L 7.00693046118,-3.79984943737 L 6.93880929318,-3.65788691741 L 6.85706398671,-3.52330773821 L 6.76248625305,-3.3974153123 L 4.60226327672,-0.798781786052 L 4.49775012121,-0.684753885247 L 4.38271471031,-0.581350712777 L 4.25823214709,-0.489538658609 L 4.12546582622,-0.410175783921 L 4.11611419247,-0.405749638482 L 4.64846252306,1.22892001141 L 4.68969909553,1.38042494377 L 4.71588702241,1.53524222939 L 4.72677409966,1.69188089315 L 4.72225547877,1.84883241912 L 4.70237467653,2.00458527829 L 4.66732315593,2.1576394855 L 4.61743848227,2.30652104504 L 4.55320107224,2.44979614613 L 4.47522956721,2.58608497121 L 4.3842748754,2.71407498439 L 4.2812129402,2.83253357189 L 4.1670363044,2.94031991274 L 4.04284455141,3.03639596557 L 3.9098337157,3.11983646547 L 3.76928476433,3.1898378348 L 3.62255126054,3.24572592211 L 1.72085302728,3.86503507723 L 1.57441413593,3.90514794853 L 1.42483234302,3.93119940867 L 1.27345466715,3.94295485821 L 1.12164429927,3.94030843664 L 0.970768326793,3.92328397558 L 0.822185422713,3.89203478424 L 0.677233610399,3.8468422688 L 0.537218214406,3.7881133983 L -1.7849798969,2.68172538082 L -1.92250993933,2.607759399 L -2.05217454521,2.52073888983 L -2.17273858427,2.42149277393 L -2.28305361438,2.31096642789 L -2.38206882113,2.19021267901 L -3.57322407848,0.583617162739 L -3.6714630961,0.43436269823 L -3.75244719043,0.275085028027 L -4.9433836512,-2.43153716539 L -4.99873115433,-2.57586422959 L -5.03989323198,-2.72485862856 L -5.0664856997,-2.87712972963 L -5.07826035786,-3.03125631717 L -5.07510730821,-3.18579985745 L -5.0570559796,-3.3393179251 L -5.02427485331,-3.490377666 L -4.97706989055,-3.63756917069 L -4.91588167675,-3.77951863372 L -4.84128130944,-3.91490117602 L -4.75396506785,-4.04245321056 L -3.54581010034,-5.63630438758 L -3.4449343211,-5.75663009805 L -3.33275030426,-5.86648885193 L -3.21033844322,-5.96482264936 L -3.07887763114,-6.05068448212 L -2.93963390749,-6.12324745382 L -2.79394826544,-6.18181274337 L -2.64322373738,-6.22581633503 L -2.4889118829,-6.25483445015 L -2.33249880951,-6.26858762841 L -2.17549086062,-6.26694341921 L -2.01940010861,-6.24991765716 L -1.86572979274,-6.21767430966 L -1.71595984215,-6.17052389778 L -1.57153262335,-6.10892050575 L -1.43383904941,-6.03345740793 L -1.30420518471,-5.94486135518 L 0.188217415317,-4.81359025293 L 0.23400217703,-4.88926227099 L 0.331073412541,-5.01826925618 L 2.51959891003,-7.64021737475 L 2.62558954828,-7.75526539933 L 2.74230821385,-7.85941345004 L 2.86863923752,-7.9516660154 L 2.94712455948,-7.99796136463 L -3.07461339179,-11.4746133918 L -11.4746133918,3.07461339179 L -6.12682972653,6.1621577305 z\" /></g></svg>",
      "text/plain": [
       "<shapely.geometry.polygon.Polygon at 0x11137c210>"
      ]
     },
     "execution_count": 15,
     "metadata": {},
     "output_type": "execute_result"
    }
   ],
   "source": [
    "pat = 1.6\n",
    "keyarea_range = 0.3\n",
    "\n",
    "path_area = free_zone.buffer(-pat)\n",
    "path_area"
   ]
  },
  {
   "cell_type": "code",
   "execution_count": 25,
   "metadata": {},
   "outputs": [
    {
     "data": {
      "image/svg+xml": "<svg xmlns=\"http://www.w3.org/2000/svg\" xmlns:xlink=\"http://www.w3.org/1999/xlink\" width=\"100.0\" height=\"100.0\" viewBox=\"-6.87848464677 2.87335938106 11.3721275146 9.01760105082\" preserveAspectRatio=\"xMinYMin meet\"><g transform=\"matrix(1,0,0,-1,0,14.7643198129)\"><path fill-rule=\"evenodd\" fill=\"#66cc99\" stroke=\"#555555\" stroke-width=\"0.227442550293\" opacity=\"0.6\" d=\"M -6.14329744286,6.07612233045 L -6.1575574983,5.91975465394 L -6.15642217519,5.76274220068 L -6.13990240731,5.60659708641 L -6.10815728904,5.45282307397 L -6.06149254324,5.30290109113 L -6.00035757692,5.15827496855 L -5.92534115322,5.02033753486 L -5.8371657213,4.89041720295 L -5.73668045879,4.76976517662 L -5.62485309369,4.65954340086 L -5.50276058465,4.56081337161 L -5.37157874928,4.47452591303 L -5.23257094037,4.40151202052 L -5.08707587911,4.34247485776 L -3.19916514666,3.68232861161 L -3.05312487874,3.63894635795 L -2.90362058084,3.6096505443 L -2.7520077068,3.59470677589 L -2.5996608275,3.59425053773 L -2.44796116852,3.60828596619 L -2.29828408755,3.6366858116 L -2.15198660493,3.67919259187 L -2.0103951005,3.7354209269 L -1.87479328818,3.80486103262 L -0.122389157153,4.81031150437 L 0.0526481362411,4.92665513394 L 3.1449475572,7.28893456221 L 3.26480258651,7.39017437237 L 3.37416609618,7.50266592745 L 3.47198654208,7.62532760678 L 3.55732336812,7.75698000263 L 3.62935604981,7.89635726039 L 3.68739198371,8.04211924991 L 3.7308731469,8.19286445102 L 3.75938146244,8.34714342936 L 3.77264281922,8.50347277283 L 3.77052970761,8.6603493548 L 3.75306244545,8.81626478689 L 3.72040898269,8.96971992229 L 3.67288328656,9.11923927027 L 2.97431807071,10.9932741257 L 2.91224946304,11.1376809476 L 2.8363112341,11.2753008142 L 2.8059214667,11.3194840365 L 3.0662252986,11.4697705239 L 3.09154018054,11.4329656007 L 3.18171682741,11.2695420091 L 3.25542329902,11.098058908 L 3.95398851487,9.22402405265 L 4.01042527903,9.04646982693 L 4.04920126605,8.86424185364 L 4.06994363987,8.67909227803 L 4.0724529599,8.49280133693 L 4.05670509872,8.30716024157 L 4.02285147402,8.12395395479 L 3.97121759274,7.94494402847 L 3.90229992123,7.77185166592 L 3.81676111172,7.60634117233 L 3.7154236308,7.45000395226 L 3.59926185129,7.30434320805 L 3.46939268356,7.17075948639 L 3.32706483626,7.05053721183 L 0.234765415295,4.68825778356 L 0.0269086293891,4.55009972345 L -1.72549550164,3.54464925169 L -1.88652265377,3.46218912615 L -2.05466256528,3.3954179783 L -2.22839082588,3.34494117673 L -2.40613235954,3.31121636031 L -2.58627570458,3.29454928901 L -2.76718762375,3.29509107183 L -2.94722791167,3.31283679681 L -3.12476426543,3.34762557552 L -3.29818708358,3.39914200174 L -5.18609781603,4.0592882479 L -5.35887320128,4.12939487867 L -5.52394497436,4.21609887603 L -5.67972340386,4.31856523309 L -5.82470825834,4.43580714282 L -5.9575032544,4.56669550154 L -6.07682950364,4.7099697828 L -6.18153782904,4.86425017695 L -6.27061983218,5.02805087946 L -6.34321760469,5.19979440002 L -6.39863199033,5.37782675464 L -6.43632931827,5.56043339442 L -6.45594654263,5.7458557176 L -6.45729473882,5.93230800585 L -6.45353507851,5.97353430759 L -6.12682972653,6.1621577305 L -6.14329744286,6.07612233045 z\" /></g></svg>",
      "text/plain": [
       "<shapely.geometry.polygon.Polygon at 0x123956310>"
      ]
     },
     "execution_count": 25,
     "metadata": {},
     "output_type": "execute_result"
    }
   ],
   "source": [
    "key_area = path_area.intersection(zone_hull[0].buffer(pat+keyarea_range))\n",
    "key_area"
   ]
  },
  {
   "cell_type": "code",
   "execution_count": 17,
   "metadata": {},
   "outputs": [
    {
     "data": {
      "image/svg+xml": "<svg xmlns=\"http://www.w3.org/2000/svg\" xmlns:xlink=\"http://www.w3.org/1999/xlink\" width=\"100.0\" height=\"100.0\" viewBox=\"-10.4964827148 -10.0690199268 16.9885519314 18.1588828683\" preserveAspectRatio=\"xMinYMin meet\"><g transform=\"matrix(1,0,0,-1,0,-1.97915698536)\"><path fill-rule=\"evenodd\" fill=\"#66cc99\" stroke=\"#555555\" stroke-width=\"0.363177657366\" opacity=\"0.6\" d=\"M -9.20639027816,-4.58704254137 L -3.77363367501,0.615943915718 L 5.81951799926,7.41731172413 L -2.27583227138,-9.39646870949 L -9.00136549,-8.91180414262 L -9.82393149744,-5.6601205528 L -9.20639027816,-4.58704254137 z\" /></g></svg>",
      "text/plain": [
       "<shapely.geometry.polygon.Polygon at 0x120a54550>"
      ]
     },
     "execution_count": 17,
     "metadata": {},
     "output_type": "execute_result"
    }
   ],
   "source": [
    "wall = poly.random_triangulation()\n",
    "wall"
   ]
  },
  {
   "cell_type": "code",
   "execution_count": 18,
   "metadata": {},
   "outputs": [
    {
     "data": {
      "image/svg+xml": "<svg xmlns=\"http://www.w3.org/2000/svg\" xmlns:xlink=\"http://www.w3.org/1999/xlink\" width=\"100.0\" height=\"100.0\" viewBox=\"-9.26356418892 -8.85866366638 13.0103863608 13.7286173456\" preserveAspectRatio=\"xMinYMin meet\"><g transform=\"matrix(1,0,0,-1,0,-3.98870998713)\"><path fill-rule=\"evenodd\" fill=\"#66cc99\" stroke=\"#555555\" stroke-width=\"0.274572346913\" opacity=\"0.6\" d=\"M -8.41117712828,-5.2100922789 L -8.75509687982,-5.8077086186 L -8.20904414763,-7.96630828403 L -2.88195369088,-8.35019635728 L 3.23835486282,4.36148637015 L -3.13516809086,-0.157223988574 L -8.41117712828,-5.2100922789 z\" /></g></svg>",
      "text/plain": [
       "<shapely.geometry.polygon.Polygon at 0x120ab75d0>"
      ]
     },
     "execution_count": 18,
     "metadata": {},
     "output_type": "execute_result"
    }
   ],
   "source": [
    "Polygon(wall.exterior.buffer(1).interiors[0])"
   ]
  },
  {
   "cell_type": "code",
   "execution_count": 19,
   "metadata": {},
   "outputs": [],
   "source": [
    "from randoor.generator import empty_room\n",
    "generator = empty_room.EmptyRoomGenerator(9, 0.05)\n",
    "config = generator.generate_new()"
   ]
  },
  {
   "cell_type": "code",
   "execution_count": 20,
   "metadata": {},
   "outputs": [
    {
     "data": {
      "image/svg+xml": "<svg xmlns=\"http://www.w3.org/2000/svg\" xmlns:xlink=\"http://www.w3.org/1999/xlink\" width=\"100.0\" height=\"100.0\" viewBox=\"-4.18529235987 -4.10582445578 8.31704469647 8.32290650962\" preserveAspectRatio=\"xMinYMin meet\"><g transform=\"matrix(1,0,0,-1,0,0.111257598063)\"><path fill-rule=\"evenodd\" fill=\"#66cc99\" stroke=\"#555555\" stroke-width=\"0.166458130192\" opacity=\"0.6\" d=\"M -3.21857380077,3.89537219679 L -3.87703656321,3.26584781754 L -3.809849623,-0.0962602427954 L -3.56809237416,-2.87401905402 L -2.6629424358,-3.76271129522 L -0.732587126744,-3.79756865912 L 2.65283722821,-3.15757557121 L 3.41870468481,-2.53930185362 L 3.82349653995,0.617058854972 L 3.37216338846,1.92757976337 L 2.05561658809,3.60841089321 L 0.238748899509,3.90882625719 L -3.21857380077,3.89537219679 z\" /></g></svg>",
      "text/plain": [
       "<shapely.geometry.polygon.Polygon at 0x120a54250>"
      ]
     },
     "execution_count": 20,
     "metadata": {},
     "output_type": "execute_result"
    }
   ],
   "source": [
    "config.get_freespace_poly()"
   ]
  },
  {
   "cell_type": "code",
   "execution_count": 21,
   "metadata": {},
   "outputs": [
    {
     "data": {
      "image/svg+xml": "<svg xmlns=\"http://www.w3.org/2000/svg\" xmlns:xlink=\"http://www.w3.org/1999/xlink\" width=\"100.0\" height=\"100.0\" viewBox=\"-4.29415815609 -4.21400182056 8.53607937501 8.53912388573\" preserveAspectRatio=\"xMinYMin meet\"><g transform=\"matrix(1,0,0,-1,0,0.111120244602)\"><path fill-rule=\"evenodd\" fill=\"#66cc99\" stroke=\"#555555\" stroke-width=\"0.170782477715\" opacity=\"0.6\" d=\"M -3.25884841757,3.99521622658 L 0.246767257888,4.00885821754 L 2.11033709556,3.70072074853 L 3.46124465761,1.97602134309 L 3.9256573713,0.627521749374 L 3.51278151866,-2.59187385423 L 2.69610132852,-3.25116795649 L -0.724113549181,-3.89773797294 L -2.70457651508,-3.86197579073 L -3.6645126091,-2.91949353154 L -3.90976287164,-0.101600455018 L -3.97789430847,3.30777125029 L -3.25884841757,3.99521622658 z M -3.21857380077,3.89537219679 L -3.87703656321,3.26584781754 L -3.809849623,-0.0962602427954 L -3.56809237416,-2.87401905402 L -2.6629424358,-3.76271129522 L -0.732587126744,-3.79756865912 L 2.65283722821,-3.15757557121 L 3.41870468481,-2.53930185362 L 3.82349653995,0.617058854972 L 3.37216338846,1.92757976337 L 2.05561658809,3.60841089321 L 0.238748899509,3.90882625719 L -3.21857380077,3.89537219679 z\" /></g></svg>",
      "text/plain": [
       "<shapely.geometry.polygon.Polygon at 0x120ac9b90>"
      ]
     },
     "execution_count": 21,
     "metadata": {},
     "output_type": "execute_result"
    }
   ],
   "source": [
    "config.get_collision_poly()"
   ]
  },
  {
   "cell_type": "code",
   "execution_count": 23,
   "metadata": {},
   "outputs": [
    {
     "name": "stdout",
     "output_type": "stream",
     "text": [
      "[ 0.50711637 -0.22047123]\n"
     ]
    },
    {
     "data": {
      "image/png": "[encoded data removed]",
      "text/plain": [
       "<Figure size 288x288 with 1 Axes>"
      ]
     },
     "metadata": {},
     "output_type": "display_data"
    }
   ],
   "source": [
    "import matplotlib.pyplot as plt\n",
    "import numpy as np\n",
    "from shapely.geometry import Polygon\n",
    "from shapely.affinity import affine_transform\n",
    "from descartes import PolygonPatch\n",
    "from randoor import utils\n",
    "\n",
    "fig = plt.figure(1, figsize=(4,4))\n",
    "plt.xlim(-1.5,1.5)\n",
    "plt.ylim(-1.5,1.5)\n",
    "ax = fig.add_subplot(111)\n",
    "\n",
    "x = 0\n",
    "y = 0.5\n",
    "yaw = np.pi / 6\n",
    "\n",
    "affine = utils.get_affine(x,y,yaw)\n",
    "\n",
    "p = Polygon(utils.get_square_horizon((0,0), 0.5))\n",
    "ax.add_patch(PolygonPatch(p, alpha=0.5, zorder=1))\n",
    "\n",
    "abcdeoo = [affine[0,0], affine[0,1], affine[1,0], affine[1,1], affine[0,2], affine[1,2]]\n",
    "pp = affine_transform(p, abcdeoo)\n",
    "ax.add_patch(PolygonPatch(pp, alpha=0.5, zorder=2))\n",
    "\n",
    "sample_xy = geom.sample_from_faces([p], face_size=0.01)\n",
    "print(sample_xy[0][0])\n",
    "# ss = Polygon(utils.get_square_horizon(sample_xy[0][0], 0.2))\n",
    "ss = poly.simple_cube(0.2, sample_xy[0][0])\n",
    "ax.add_patch(PolygonPatch(ss, color='yellow', alpha=0.5, zorder=3))\n",
    "\n",
    "plt.show()"
   ]
  },
  {
   "cell_type": "code",
   "execution_count": 31,
   "metadata": {},
   "outputs": [
    {
     "data": {
      "text/plain": [
       "200"
      ]
     },
     "execution_count": 31,
     "metadata": {},
     "output_type": "execute_result"
    }
   ],
   "source": [
    "sum([len(geom.sample_sure(key_area, 2, keyarea_range)) for _ in range(100)])"
   ]
  },
  {
   "cell_type": "code",
   "execution_count": null,
   "metadata": {},
   "outputs": [],
   "source": []
  }
 ],
 "metadata": {
  "interpreter": {
   "hash": "33b203e14a488836ed93b692d2d39522cdda69eb434e3ffe65691b8de41f05e2"
  },
  "kernelspec": {
   "display_name": "Python 2.7.16 64-bit ('.venv': poetry)",
   "name": "python3"
  },
  "language_info": {
   "codemirror_mode": {
    "name": "ipython",
    "version": 2
   },
   "file_extension": ".py",
   "mimetype": "text/x-python",
   "name": "python",
   "nbconvert_exporter": "python",
   "pygments_lexer": "ipython2",
   "version": "2.7.16"
  },
  "orig_nbformat": 4
 },
 "nbformat": 4,
 "nbformat_minor": 2
}
