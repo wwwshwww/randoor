{
 "cells": [
  {
   "cell_type": "code",
   "execution_count": 1,
   "metadata": {},
   "outputs": [
    {
     "name": "stderr",
     "output_type": "stream",
     "text": [
      "/Users/reona/workspace_local/randoor/.venv/lib/python2.7/site-packages/quaternion/numba_wrapper.py:20: UserWarning: \n",
      "\n",
      "!!!!!!!!!!!!!!!!!!!!!!!!!!!!!!!!!!!!!!!!!!!!!!!!!!!!!\n",
      "Could not import from numba, which means that some\n",
      "parts of this code may run MUCH more slowly.  You\n",
      "may wish to install numba.\n",
      "!!!!!!!!!!!!!!!!!!!!!!!!!!!!!!!!!!!!!!!!!!!!!!!!!!!!!\n",
      "\n",
      "  warnings.warn(warning_text)\n"
     ]
    }
   ],
   "source": [
    "import quaternion\n",
    "import numpy as np\n",
    "import shapely\n",
    "from shapely.geometry import Polygon"
   ]
  },
  {
   "cell_type": "code",
   "execution_count": 2,
   "metadata": {},
   "outputs": [],
   "source": [
    "from randoor import utils"
   ]
  },
  {
   "cell_type": "code",
   "execution_count": 3,
   "metadata": {},
   "outputs": [
    {
     "data": {
      "image/svg+xml": "<svg xmlns=\"http://www.w3.org/2000/svg\" xmlns:xlink=\"http://www.w3.org/1999/xlink\" width=\"100.0\" height=\"100.0\" viewBox=\"-1.52735064736 -1.52735064736 3.05470129473 3.05470129473\" preserveAspectRatio=\"xMinYMin meet\"><g transform=\"matrix(1,0,0,-1,0,0.0)\"><path fill-rule=\"evenodd\" fill=\"#66cc99\" stroke=\"#555555\" stroke-width=\"0.0610940258945\" opacity=\"0.6\" d=\"M -1.11022302463e-16,1.41421356237 L 1.41421356237,1.11022302463e-16 L 1.11022302463e-16,-1.41421356237 L -1.41421356237,-1.11022302463e-16 L -1.11022302463e-16,1.41421356237 z\" /></g></svg>",
      "text/plain": [
       "<shapely.geometry.polygon.Polygon at 0x113696090>"
      ]
     },
     "execution_count": 3,
     "metadata": {},
     "output_type": "execute_result"
    }
   ],
   "source": [
    "points = utils.get_square_horizon((0,0), 1, np.pi/4)\n",
    "Polygon(points)"
   ]
  },
  {
   "cell_type": "code",
   "execution_count": 4,
   "metadata": {},
   "outputs": [
    {
     "data": {
      "text/plain": [
       "array([[0, 1, 2, 0],\n",
       "       [3, 4, 5, 0],\n",
       "       [6, 7, 8, 0]])"
      ]
     },
     "execution_count": 4,
     "metadata": {},
     "output_type": "execute_result"
    }
   ],
   "source": [
    "utils.add_dimension(np.arange(9).reshape((3,3)), 0)"
   ]
  },
  {
   "cell_type": "code",
   "execution_count": 5,
   "metadata": {},
   "outputs": [],
   "source": [
    "from randoor.spawner import poly"
   ]
  },
  {
   "cell_type": "code",
   "execution_count": 6,
   "metadata": {},
   "outputs": [
    {
     "name": "stdout",
     "output_type": "stream",
     "text": [
      "[[  3.66025404  13.66025404]\n",
      " [ 13.66025404  -3.66025404]\n",
      " [ -3.66025404 -13.66025404]\n",
      " [-13.66025404   3.66025404]]\n"
     ]
    },
    {
     "data": {
      "image/svg+xml": "<svg xmlns=\"http://www.w3.org/2000/svg\" xmlns:xlink=\"http://www.w3.org/1999/xlink\" width=\"100.0\" height=\"100.0\" viewBox=\"-14.7530743609 -14.7530743609 29.5061487217 29.5061487217\" preserveAspectRatio=\"xMinYMin meet\"><g transform=\"matrix(1,0,0,-1,0,0.0)\"><path fill-rule=\"evenodd\" fill=\"#66cc99\" stroke=\"#555555\" stroke-width=\"0.590122974435\" opacity=\"0.6\" d=\"M 3.66025403784,13.6602540378 L 13.6602540378,-3.66025403784 L -3.66025403784,-13.6602540378 L -13.6602540378,3.66025403784 L 3.66025403784,13.6602540378 z\" /></g></svg>",
      "text/plain": [
       "<shapely.geometry.polygon.Polygon at 0x114fad850>"
      ]
     },
     "execution_count": 6,
     "metadata": {},
     "output_type": "execute_result"
    }
   ],
   "source": [
    "area_points = utils.get_square_horizon((0,0), 10, np.pi/6)\n",
    "print(area_points)\n",
    "area_poly = Polygon(area_points)\n",
    "area_poly"
   ]
  },
  {
   "cell_type": "code",
   "execution_count": 7,
   "metadata": {},
   "outputs": [
    {
     "data": {
      "image/svg+xml": "<svg xmlns=\"http://www.w3.org/2000/svg\" xmlns:xlink=\"http://www.w3.org/1999/xlink\" width=\"100.0\" height=\"100.0\" viewBox=\"-10.5734906749 -11.2503897672 17.4672133784 20.0372410977\" preserveAspectRatio=\"xMinYMin meet\"><g transform=\"matrix(1,0,0,-1,0,-2.46353843672)\"><g><path fill-rule=\"evenodd\" fill=\"#66cc99\" stroke=\"#555555\" stroke-width=\"0.400744821955\" opacity=\"0.6\" d=\"M -1.64435018817,-10.5082697266 L -3.63916919612,-10.3644047708 L -3.49530424034,-8.36958576283 L -1.50048523238,-8.51345071862 L -1.64435018817,-10.5082697266 z\" /><path fill-rule=\"evenodd\" fill=\"#66cc99\" stroke=\"#555555\" stroke-width=\"0.400744821955\" opacity=\"0.6\" d=\"M 2.9166973601,-7.15075985055 L 1.66284820812,-5.59259994089 L 3.22100811778,-4.33875078891 L 4.47485726976,-5.89691069857 L 2.9166973601,-7.15075985055 z\" /><path fill-rule=\"evenodd\" fill=\"#66cc99\" stroke=\"#555555\" stroke-width=\"0.400744821955\" opacity=\"0.6\" d=\"M -1.75554039421,-1.49419397889 L -0.151598470315,-0.299467941349 L 1.04312756722,-1.90340986524 L -0.560814356672,-3.09813590278 L -1.75554039421,-1.49419397889 z\" /><path fill-rule=\"evenodd\" fill=\"#66cc99\" stroke=\"#555555\" stroke-width=\"0.400744821955\" opacity=\"0.6\" d=\"M 0.775385079004,2.06937604674 L 2.68239088285,2.67214371682 L 3.28515855293,0.765137912974 L 1.37815274908,0.162370242897 L 0.775385079004,2.06937604674 z\" /><path fill-rule=\"evenodd\" fill=\"#66cc99\" stroke=\"#555555\" stroke-width=\"0.400744821955\" opacity=\"0.6\" d=\"M -1.66330513228,0.184411961662 L -2.39905056475,2.04416427275 L -0.539298253668,2.77990970522 L 0.196447178809,0.920157394139 L -1.66330513228,0.184411961662 z\" /><path fill-rule=\"evenodd\" fill=\"#66cc99\" stroke=\"#555555\" stroke-width=\"0.400744821955\" opacity=\"0.6\" d=\"M -5.10846576452,3.99945265425 L -4.35993344322,2.14481000296 L -6.2145760945,1.39627768166 L -6.9631084158,3.25092033295 L -5.10846576452,3.99945265425 z\" /><path fill-rule=\"evenodd\" fill=\"#66cc99\" stroke=\"#555555\" stroke-width=\"0.400744821955\" opacity=\"0.6\" d=\"M -8.85336972072,4.21350678977 L -8.16059776778,3.82514017441 L -7.05942662304,3.5557816946 L -7.13427640958,3.24978640833 L -7.10880266465,3.23550587625 L -7.1601933578,3.14383468348 L -7.53463796699,1.6130583024 L -7.96001267751,1.71710959899 L -8.08680357817,1.49093882017 L -8.90071394412,1.9472153953 L -9.47736135918,2.08826964635 L -9.43816496711,2.24850939808 L -9.83137063425,2.46893973369 L -9.03811813692,3.88395085982 L -9.00215001523,4.03099303855 L -8.96128968776,4.02099815651 L -8.85336972072,4.21350678977 z\" /><path fill-rule=\"evenodd\" fill=\"#66cc99\" stroke=\"#555555\" stroke-width=\"0.400744821955\" opacity=\"0.6\" d=\"M -0.286854833477,3.22397171772 L -2.28582760807,3.28806420106 L -2.22173512473,5.28703697566 L -0.222762350133,5.22294449232 L -0.286854833477,3.22397171772 z\" /><path fill-rule=\"evenodd\" fill=\"#66cc99\" stroke=\"#555555\" stroke-width=\"0.400744821955\" opacity=\"0.6\" d=\"M 5.90816621056,5.81616544791 L 3.9230368209,6.05960190019 L 4.16647327318,8.04473128986 L 6.15160266284,7.80129483758 L 5.90816621056,5.81616544791 z\" /></g></g></svg>",
      "text/plain": [
       "<shapely.geometry.multipolygon.MultiPolygon at 0x114fad990>"
      ]
     },
     "execution_count": 7,
     "metadata": {},
     "output_type": "execute_result"
    }
   ],
   "source": [
    "from shapely.ops import unary_union\n",
    "xy, yaw, polys = poly.sprinkle_cube(area_poly, 10, 2)\n",
    "mulp = unary_union(polys)\n",
    "mulp"
   ]
  },
  {
   "cell_type": "code",
   "execution_count": 8,
   "metadata": {},
   "outputs": [
    {
     "data": {
      "image/svg+xml": "<svg xmlns=\"http://www.w3.org/2000/svg\" xmlns:xlink=\"http://www.w3.org/1999/xlink\" width=\"100.0\" height=\"100.0\" viewBox=\"-14.7530743609 -14.7530743609 29.5061487217 29.5061487217\" preserveAspectRatio=\"xMinYMin meet\"><g transform=\"matrix(1,0,0,-1,0,0.0)\"><path fill-rule=\"evenodd\" fill=\"#66cc99\" stroke=\"#555555\" stroke-width=\"0.590122974435\" opacity=\"0.6\" d=\"M 3.66025403784,13.6602540378 L 13.6602540378,-3.66025403784 L -3.66025403784,-13.6602540378 L -13.6602540378,3.66025403784 L 3.66025403784,13.6602540378 z M -1.64435018817,-10.5082697266 L -3.63916919612,-10.3644047708 L -3.49530424034,-8.36958576283 L -1.50048523238,-8.51345071862 L -1.64435018817,-10.5082697266 z M 2.9166973601,-7.15075985055 L 1.66284820812,-5.59259994089 L 3.22100811778,-4.33875078891 L 4.47485726976,-5.89691069857 L 2.9166973601,-7.15075985055 z M -1.75554039421,-1.49419397889 L -0.151598470315,-0.299467941349 L 1.04312756722,-1.90340986524 L -0.560814356672,-3.09813590278 L -1.75554039421,-1.49419397889 z M 0.775385079004,2.06937604674 L 2.68239088285,2.67214371682 L 3.28515855293,0.765137912974 L 1.37815274908,0.162370242897 L 0.775385079004,2.06937604674 z M -1.66330513228,0.184411961662 L -2.39905056475,2.04416427275 L -0.539298253668,2.77990970522 L 0.196447178809,0.920157394139 L -1.66330513228,0.184411961662 z M -5.10846576452,3.99945265425 L -4.35993344322,2.14481000296 L -6.2145760945,1.39627768166 L -6.9631084158,3.25092033295 L -5.10846576452,3.99945265425 z M -8.85336972072,4.21350678977 L -8.16059776778,3.82514017441 L -7.05942662304,3.5557816946 L -7.13427640958,3.24978640833 L -7.10880266465,3.23550587625 L -7.1601933578,3.14383468348 L -7.53463796699,1.6130583024 L -7.96001267751,1.71710959899 L -8.08680357817,1.49093882017 L -8.90071394412,1.9472153953 L -9.47736135918,2.08826964635 L -9.43816496711,2.24850939808 L -9.83137063425,2.46893973369 L -9.03811813692,3.88395085982 L -9.00215001523,4.03099303855 L -8.96128968776,4.02099815651 L -8.85336972072,4.21350678977 z M -0.286854833477,3.22397171772 L -2.28582760807,3.28806420106 L -2.22173512473,5.28703697566 L -0.222762350133,5.22294449232 L -0.286854833477,3.22397171772 z M 5.90816621056,5.81616544791 L 3.9230368209,6.05960190019 L 4.16647327318,8.04473128986 L 6.15160266284,7.80129483758 L 5.90816621056,5.81616544791 z\" /></g></svg>",
      "text/plain": [
       "<shapely.geometry.polygon.Polygon at 0x11500f810>"
      ]
     },
     "execution_count": 8,
     "metadata": {},
     "output_type": "execute_result"
    }
   ],
   "source": [
    "Polygon(area_points, [p.exterior.coords for p in mulp.geoms])"
   ]
  },
  {
   "cell_type": "code",
   "execution_count": 9,
   "metadata": {},
   "outputs": [
    {
     "data": {
      "text/plain": [
       "array([0, 1, 1, 2, 3, 4, 5, 4, 6, 1])"
      ]
     },
     "execution_count": 9,
     "metadata": {},
     "output_type": "execute_result"
    }
   ],
   "source": [
    "from sklearn.cluster import DBSCAN\n",
    "eps = 3\n",
    "points = np.array([p.centroid.coords[0] for p in polys])\n",
    "db = DBSCAN(eps=eps, min_samples=1).fit(points)\n",
    "db.labels_"
   ]
  },
  {
   "cell_type": "code",
   "execution_count": 10,
   "metadata": {},
   "outputs": [
    {
     "data": {
      "text/plain": [
       "array([[ -3.49530424,  -8.36958576],\n",
       "       [ -3.6391692 , -10.36440477],\n",
       "       [ -1.64435019, -10.50826973],\n",
       "       [ -1.50048523,  -8.51345072]])"
      ]
     },
     "execution_count": 10,
     "metadata": {},
     "output_type": "execute_result"
    }
   ],
   "source": [
    "from trimesh.convex import hull_points\n",
    "hull_points(polys[0].exterior.coords)"
   ]
  },
  {
   "cell_type": "code",
   "execution_count": 11,
   "metadata": {},
   "outputs": [
    {
     "data": {
      "image/svg+xml": "<svg xmlns=\"http://www.w3.org/2000/svg\" xmlns:xlink=\"http://www.w3.org/1999/xlink\" width=\"100.0\" height=\"100.0\" viewBox=\"-3.72471655467 -10.5938170851 2.30977868084 2.30977868084\" preserveAspectRatio=\"xMinYMin meet\"><g transform=\"matrix(1,0,0,-1,0,-18.8778554894)\"><path fill-rule=\"evenodd\" fill=\"#66cc99\" stroke=\"#555555\" stroke-width=\"0.0461955736168\" opacity=\"0.6\" d=\"M -3.49530424034,-8.36958576283 L -3.63916919612,-10.3644047708 L -1.64435018817,-10.5082697266 L -1.50048523238,-8.51345071862 L -3.49530424034,-8.36958576283 z\" /></g></svg>",
      "text/plain": [
       "<shapely.geometry.polygon.Polygon at 0x114fad410>"
      ]
     },
     "execution_count": 11,
     "metadata": {},
     "output_type": "execute_result"
    }
   ],
   "source": [
    "pp = np.array(polys)\n",
    "hpoints = np.concatenate([p.exterior.coords for p in pp[db.labels_==0]])\n",
    "hull = hull_points(hpoints)\n",
    "Polygon(hull)"
   ]
  },
  {
   "cell_type": "code",
   "execution_count": 12,
   "metadata": {},
   "outputs": [
    {
     "data": {
      "text/plain": [
       "array([[ 4.70803287, -8.8290124 ]])"
      ]
     },
     "execution_count": 12,
     "metadata": {},
     "output_type": "execute_result"
    }
   ],
   "source": [
    "from trimesh.path.polygons import sample\n",
    "face_size = 0.001\n",
    "factor = 1 / face_size\n",
    "face = Polygon(area_poly.buffer(face_size).exterior.coords, [area_poly.exterior.coords])\n",
    "sample(face, 2, factor=factor)"
   ]
  },
  {
   "cell_type": "code",
   "execution_count": 13,
   "metadata": {},
   "outputs": [
    {
     "data": {
      "text/plain": [
       "array([[[-0.41335954, 11.30888705],\n",
       "        [ 3.59366514, 13.62294662],\n",
       "        [ 9.29533164, -6.18135787],\n",
       "        [ 5.24451415, 10.91810403],\n",
       "        [ 5.5091237 , -8.36699295]]])"
      ]
     },
     "execution_count": 13,
     "metadata": {},
     "output_type": "execute_result"
    }
   ],
   "source": [
    "from randoor.spawner import geom\n",
    "geom.sample_from_faces([area_poly], 5, face_size)"
   ]
  },
  {
   "cell_type": "code",
   "execution_count": 14,
   "metadata": {},
   "outputs": [
    {
     "data": {
      "image/svg+xml": "<svg xmlns=\"http://www.w3.org/2000/svg\" xmlns:xlink=\"http://www.w3.org/1999/xlink\" width=\"100.0\" height=\"100.0\" viewBox=\"-14.7530743609 -14.7530743609 29.5061487217 29.5061487217\" preserveAspectRatio=\"xMinYMin meet\"><g transform=\"matrix(1,0,0,-1,0,0.0)\"><path fill-rule=\"evenodd\" fill=\"#66cc99\" stroke=\"#555555\" stroke-width=\"0.590122974435\" opacity=\"0.6\" d=\"M 3.66025403784,13.6602540378 L 13.6602540378,-3.66025403784 L -3.66025403784,-13.6602540378 L -13.6602540378,3.66025403784 L 3.66025403784,13.6602540378 z M -1.64435018817,-10.5082697266 L -3.63916919612,-10.3644047708 L -3.49530424034,-8.36958576283 L -1.50048523238,-8.51345071862 L -1.64435018817,-10.5082697266 z M -6.2145760945,1.39627768166 L -8.08680357817,1.49093882017 L -9.47736135918,2.08826964635 L -9.83137063425,2.46893973369 L -9.00215001523,4.03099303855 L -8.85336972072,4.21350678977 L -5.10846576452,3.99945265425 L -4.35993344322,2.14481000296 L -6.2145760945,1.39627768166 z M -0.560814356672,-3.09813590278 L -1.75554039421,-1.49419397889 L -2.39905056475,2.04416427275 L -2.22173512473,5.28703697566 L -0.222762350133,5.22294449232 L 2.68239088285,2.67214371682 L 3.28515855293,0.765137912974 L 1.04312756722,-1.90340986524 L -0.560814356672,-3.09813590278 z M 5.90816621056,5.81616544791 L 3.9230368209,6.05960190019 L 4.16647327318,8.04473128986 L 6.15160266284,7.80129483758 L 5.90816621056,5.81616544791 z M 2.9166973601,-7.15075985055 L 1.66284820812,-5.59259994089 L 3.22100811778,-4.33875078891 L 4.47485726976,-5.89691069857 L 2.9166973601,-7.15075985055 z\" /></g></svg>",
      "text/plain": [
       "<shapely.geometry.polygon.Polygon at 0x11500fad0>"
      ]
     },
     "execution_count": 14,
     "metadata": {},
     "output_type": "execute_result"
    }
   ],
   "source": [
    "zone_polys, zone_hull = poly.get_clustered_zones(polys, 4)\n",
    "free_zone = Polygon(area_poly.exterior.coords, [p.exterior.coords for p in zone_hull])\n",
    "free_zone"
   ]
  },
  {
   "cell_type": "code",
   "execution_count": 15,
   "metadata": {},
   "outputs": [
    {
     "data": {
      "image/svg+xml": "<svg xmlns=\"http://www.w3.org/2000/svg\" xmlns:xlink=\"http://www.w3.org/1999/xlink\" width=\"100.0\" height=\"100.0\" viewBox=\"-12.3925824631 -10.6065288084 24.7851649263 22.9991112715\" preserveAspectRatio=\"xMinYMin meet\"><g transform=\"matrix(1,0,0,-1,0,1.78605365473)\"><g><path fill-rule=\"evenodd\" fill=\"#66cc99\" stroke=\"#555555\" stroke-width=\"0.495703298525\" opacity=\"0.6\" d=\"M -11.3716965216,2.89635614371 L -11.4746133918,3.07461339179 L -11.2521848881,3.20303254828 L -11.309479999,3.08146949294 L -11.360995495,2.93824537529 L -11.3716965216,2.89635614371 z\" /><path fill-rule=\"evenodd\" fill=\"#66cc99\" stroke=\"#555555\" stroke-width=\"0.495703298525\" opacity=\"0.6\" d=\"M -10.0390745716,0.5881872189 L -8.71830454971,0.0208345643632 L -8.58543853307,-0.0293779829177 L -8.44864290713,-0.0676093183277 L -8.3089957218,-0.0935581508932 L -8.16759749936,-0.107019984775 L -6.29537001569,-0.201681123282 L -6.12180725532,-0.201030661293 L -5.94933613976,-0.181584088712 L -5.77998619961,-0.143570240457 L -5.61575023746,-0.0874364393656 L -3.77289613452,0.656338033058 L -3.32971875692,-1.78048488405 L -3.29673340936,-1.92398938376 L -3.2506951355,-2.06385378929 L -3.1919938503,-2.19889353791 L -3.12112671637,-2.32796492869 L -3.03869393333,-2.44997480892 L -1.84396789579,-4.05391673281 L -1.74410625703,-4.17508542738 L -1.63284887043,-4.28588250931 L -1.51126720542,-4.38524094213 L -1.38053215991,-4.47220384981 L -1.24190278384,-4.54593373203 L -1.09671415391,-4.6057205297 L -0.946364515974,-4.65098846329 L -0.792301819242,-4.68130157784 L -0.636009771701,-4.69636794149 L -0.478993551207,-4.69604245693 L -0.322765309797,-4.68032825875 L -0.16882961084,-4.64937668327 L -0.0186689392662,-4.60348581107 L 0.126270575571,-4.54309759635 L 0.264593086913,-4.46879361063 L 0.394966473359,-4.3812894419 L 1.99890839725,-3.18656340436 L 2.14089753348,-3.06741205648 L 2.26815341386,-2.93263854493 L 4.51018439956,-0.264090766708 L 4.60725773242,-0.136002342248 L 4.69099135496,0.00117840308767 L 4.76054041203,0.146067343634 L 4.8152031679,0.297202579615 L 4.85442808652,0.453059187407 L 4.87781939649,0.612064605715 L 4.88514108427,0.772614502387 L 4.87631927554,0.9330889618 L 4.85144298055,1.09186882948 L 4.81076319601,1.24735204903 L 4.20799552593,3.15435785288 L 4.15805690518,3.29053662635 L 4.09599100501,3.42163333959 L 4.02230789376,3.54657061707 L 3.93761311203,3.66432170256 L 3.84260269622,3.77391889721 L 3.73805745843,3.87446151225 L 0.832904225441,6.42526228775 L 0.709737967136,6.52311492664 L 0.577558122108,6.60840006422 L 0.437642346218,6.6802933308 L 0.291343071157,6.7380998031 L 0.140074431782,6.78126072136 L -0.0147014029682,6.80935889034 L -0.171488363459,6.82212271199 L -2.17046113806,6.88621519534 L -2.32520250219,6.88368800259 L -2.47897582892,6.86622259493 L -2.63034242002,6.83398237814 L -2.77788609459,6.78726899063 L -2.92022643883,6.72651948133 L -3.05603172113,6.65230222067 L -3.18403135168,6.56531158293 L -3.30302777014,6.46636144966 L -3.41190764988,6.3563775951 L -3.50965231431,6.23638902458 L -3.59534726753,6.10751834727 L -3.66819075036,5.97097127301 L -3.72750124154,5.82802533178 L -3.77272383407,5.68001792114 L -3.80343542683,5.5283337936 L -3.81934868316,5.3743921009 L -3.84118297736,4.97507077488 L -3.85051425668,4.98816798432 L -3.94906265393,5.10207880447 L -4.05788601739,5.20621783229 L -4.17601992289,5.29966215754 L -4.30241743354,5.38158364954 L -4.43595837799,5.4512562963 L -4.5754592777,5.50806263864 L -4.71968383528,5.55149924231 L -4.86735389095,5.58118115953 L -5.01716074988,5.59684534057 L -6.91781146055,5.70548421343 L 3.07461339179,11.4746133918 L 4.13241151726,9.64245329432 L 4.04765675897,9.64031351461 L 3.89183448613,9.62098429514 L 3.73865713494,9.58647489755 L 3.58959988703,9.53711766622 L 3.44609824519,9.47338793827 L 3.30953420865,9.3958994658 L 3.18122296376,9.30539850518 L 3.06240021795,9.20275663013 L 2.9542102992,9.08896233801 L 2.85769513558,8.96511153006 L 2.77378422088,8.83239695726 L 2.70328566307,8.69209673351 L 2.64687840181,8.54556202664 L 2.60510566985,8.394204046 L 2.57836976145,8.23948045168 L 2.33493330917,6.25435106202 L 2.32349170573,6.09775192681 L 2.32745459614,5.94078538599 L 2.34678381562,5.78496311315 L 2.3812932132,5.63178576196 L 2.43065044453,5.48272851405 L 2.49438017249,5.3392268722 L 2.57186864495,5.20266283567 L 2.66236960557,5.07435159078 L 2.76501148063,4.95552884496 L 2.87880577275,4.84733892622 L 3.0026565807,4.7508237626 L 3.13537115349,4.6669128479 L 3.27567137725,4.59641429009 L 3.42220608411,4.54000702883 L 3.57356406475,4.49823429687 L 3.72828765907,4.47149838847 L 5.71341704873,4.22806193618 L 5.87001618395,4.21662033274 L 6.02698272477,4.22058322316 L 6.18280499761,4.23991244264 L 6.3359823488,4.27442184022 L 6.4850395967,4.32377907155 L 6.62854123855,4.3875087995 L 6.76510527508,4.46499727197 L 6.89341651997,4.55549823259 L 7.01081593382,4.6569106001 L 11.4746133918,-3.07461339179 L 6.04320487352,-6.21043856189 L 6.06556981076,-6.06905485884 L 6.0747831734,-5.9123088433 L 6.06858837499,-5.75541453521 L 6.0470450748,-5.59988291253 L 6.01036074661,-5.44721182979 L 5.95888868055,-5.29887159299 L 5.89312458075,-5.1562907997 L 5.81370179144,-5.0208425809 L 5.72138519749,-4.89383137698 L 4.46753604551,-3.33567146732 L 4.3632147062,-3.21832046561 L 4.24789329306,-3.1117598204 L 4.12268241432,-3.01701576895 L 3.9887879192,-2.93500074829 L 3.84749928488,-2.86650460788 L 3.70017719815,-2.812187003 L 3.54824045123,-2.77257104189 L 3.39315227806,-2.74803824791 L 3.23640626252,-2.73882488527 L 3.07951195443,-2.74501968368 L 2.92398033174,-2.76656298386 L 2.77130924901,-2.80324731205 L 2.62296901221,-2.85471937812 L 2.48038821892,-2.92048347792 L 2.34494000012,-2.99990626723 L 2.2179287962,-3.09222286118 L 0.659768886536,-4.34607201316 L 0.542417884822,-4.45039335247 L 0.435857239611,-4.56571476561 L 0.341113188168,-4.69092564435 L 0.259098167501,-4.82482013947 L 0.190602027093,-4.96610877379 L 0.13628442222,-5.11343086052 L 0.0966684611099,-5.26536760744 L 0.0721356671244,-5.42045578061 L 0.0629223044807,-5.57720179615 L 0.0691171028974,-5.73409610424 L 0.0906604030796,-5.88962772693 L 0.12734473127,-6.04229880966 L 0.178816797333,-6.19063904646 L 0.244580897137,-6.33321983975 L 0.324003686449,-6.46866805855 L 0.416320280392,-6.59567926247 L 1.67016943237,-8.15383917213 L 1.77449077168,-8.27119017385 L 1.88981218483,-8.37775081906 L 2.01502306357,-8.4724948705 L 2.06848667295,-8.50524318494 L 0.0189222832534,-9.68855973706 L 0.0953699739826,-8.62854268325 L 0.0989664802204,-8.47156732027 L 0.0871593921165,-8.31499531732 L 0.060062418384,-8.16033454837 L 0.0179365176924,-8.00907448117 L -0.0388126145061,-7.86267183286 L -0.109638453046,-7.72253654096 L -0.193858906386,-7.59001818496 L -0.290662885519,-7.46639298906 L -0.399118115209,-7.35285153147 L -0.518180112305,-7.2504872785 L -0.646702244691,-7.16028605387 L -0.783446773973,-7.08311654467 L -0.927096775583,-7.01972193547 L -1.07626882148,-6.970712751 L -1.22952630331,-6.93656097651 L -1.38539326775,-6.91759551226 L -3.3802122757,-6.77373055647 L -3.53718763868,-6.77013405023 L -3.69375964163,-6.78194113833 L -3.84842041059,-6.80903811207 L -3.99968047779,-6.85116401276 L -4.1460831261,-6.90791314496 L -4.28621841799,-6.9787389835 L -4.41873677399,-7.06295943684 L -4.5423619699,-7.15976341597 L -4.65590342748,-7.26821864566 L -4.75826768045,-7.38728064275 L -4.84846890509,-7.51580277514 L -4.92563841428,-7.65254730442 L -4.98903302349,-7.79619730603 L -5.03804220795,-7.94536935193 L -5.05870040886,-8.03807387159 L -10.0390745716,0.5881872189 z\" /></g></g></svg>",
      "text/plain": [
       "<shapely.geometry.multipolygon.MultiPolygon at 0x113687cd0>"
      ]
     },
     "execution_count": 15,
     "metadata": {},
     "output_type": "execute_result"
    }
   ],
   "source": [
    "pat = 1.6\n",
    "keyarea_range = 0.3\n",
    "\n",
    "path_area = free_zone.buffer(-pat)\n",
    "path_area"
   ]
  },
  {
   "cell_type": "code",
   "execution_count": 16,
   "metadata": {},
   "outputs": [
    {
     "data": {
      "image/svg+xml": "<svg xmlns=\"http://www.w3.org/2000/svg\" xmlns:xlink=\"http://www.w3.org/1999/xlink\" width=\"100.0\" height=\"100.0\" viewBox=\"-5.49191150499 -9.91512801326 6.11734345753 3.67145943535\" preserveAspectRatio=\"xMinYMin meet\"><g transform=\"matrix(1,0,0,-1,0,-16.1587965912)\"><path fill-rule=\"evenodd\" fill=\"#66cc99\" stroke=\"#555555\" stroke-width=\"0.122346869151\" opacity=\"0.6\" d=\"M 0.0189222832534,-9.68855973706 L 0.0953699739826,-8.62854268325 L 0.0989664802204,-8.47156732027 L 0.0871593921165,-8.31499531732 L 0.060062418384,-8.16033454837 L 0.0179365176924,-8.00907448117 L -0.0388126145061,-7.86267183286 L -0.109638453046,-7.72253654096 L -0.193858906386,-7.59001818496 L -0.290662885519,-7.46639298906 L -0.399118115209,-7.35285153147 L -0.518180112305,-7.2504872785 L -0.646702244691,-7.16028605387 L -0.783446773973,-7.08311654467 L -0.927096775583,-7.01972193547 L -1.07626882148,-6.970712751 L -1.22952630331,-6.93656097651 L -1.38539326775,-6.91759551226 L -3.3802122757,-6.77373055647 L -3.53718763868,-6.77013405023 L -3.69375964163,-6.78194113833 L -3.84842041059,-6.80903811207 L -3.99968047779,-6.85116401276 L -4.1460831261,-6.90791314496 L -4.28621841799,-6.9787389835 L -4.41873677399,-7.06295943684 L -4.5423619699,-7.15976341597 L -4.65590342748,-7.26821864566 L -4.75826768045,-7.38728064275 L -4.84846890509,-7.51580277514 L -4.92563841428,-7.65254730442 L -4.98903302349,-7.79619730603 L -5.03804220795,-7.94536935193 L -5.05870040886,-8.03807387159 L -5.26534322879,-7.68015800845 L -5.1938260719,-7.51810259347 L -5.10218727973,-7.35571846495 L -4.99507332547,-7.20309843274 L -4.87351577508,-7.06171231119 L -4.73868529419,-6.93292172593 L -4.59188037405,-6.81796700071 L -4.4345148263,-6.71795521237 L -4.26810416718,-6.6338495291 L -4.09425102231,-6.56645993462 L -3.91462969251,-6.51643542755 L -3.73097002938,-6.48425777124 L -3.54504077587,-6.47023685412 L -3.35863253234,-6.47450770527 L -1.36381352438,-6.61837266106 L -1.17872150411,-6.64089414987 L -0.996728244433,-6.68144938208 L -0.819586439933,-6.73964778863 L -0.649002063022,-6.81492888706 L -0.486617934499,-6.90656767923 L -0.333997902291,-7.01368163348 L -0.192611780739,-7.13523918388 L -0.0638211954823,-7.27006966477 L 0.0511335297385,-7.4168745849 L 0.151145318079,-7.57424013265 L 0.235251001345,-7.74065079178 L 0.302640595831,-7.91450393665 L 0.352665102902,-8.09412526645 L 0.38484275921,-8.27778492958 L 0.398863676333,-8.46371418308 L 0.394592825176,-8.65012242662 L 0.332769449821,-9.50735999095 L 0.0189222832534,-9.68855973706 z\" /></g></svg>",
      "text/plain": [
       "<shapely.geometry.polygon.Polygon at 0x11500f6d0>"
      ]
     },
     "execution_count": 16,
     "metadata": {},
     "output_type": "execute_result"
    }
   ],
   "source": [
    "key_area = path_area.intersection(zone_hull[0].buffer(pat+keyarea_range))\n",
    "key_area"
   ]
  },
  {
   "cell_type": "code",
   "execution_count": 17,
   "metadata": {},
   "outputs": [
    {
     "data": {
      "image/svg+xml": "<svg xmlns=\"http://www.w3.org/2000/svg\" xmlns:xlink=\"http://www.w3.org/1999/xlink\" width=\"100.0\" height=\"100.0\" viewBox=\"-8.78290696796 -10.5880677438 17.085100819 13.6049446884\" preserveAspectRatio=\"xMinYMin meet\"><g transform=\"matrix(1,0,0,-1,0,-7.57119079909)\"><path fill-rule=\"evenodd\" fill=\"#66cc99\" stroke=\"#555555\" stroke-width=\"0.341702016379\" opacity=\"0.6\" d=\"M -8.09778014369,-1.4309507795 L -8.15012545615,1.3620061032 L 7.66941233919,2.38409543286 L 7.46289312398,-5.4535190727 L 5.77953450352,-8.32251674977 L -6.155689422,-9.95528623195 L -6.90779004151,-9.36212902597 L -8.09778014369,-1.4309507795 z\" /></g></svg>",
      "text/plain": [
       "<shapely.geometry.polygon.Polygon at 0x114fad4d0>"
      ]
     },
     "execution_count": 17,
     "metadata": {},
     "output_type": "execute_result"
    }
   ],
   "source": [
    "wall = poly.random_triangulation()\n",
    "wall"
   ]
  },
  {
   "cell_type": "code",
   "execution_count": 18,
   "metadata": {},
   "outputs": [
    {
     "data": {
      "image/svg+xml": "<svg xmlns=\"http://www.w3.org/2000/svg\" xmlns:xlink=\"http://www.w3.org/1999/xlink\" width=\"100.0\" height=\"100.0\" viewBox=\"-7.68333366339 -9.45784146046 14.8751756837 11.3243334714\" preserveAspectRatio=\"xMinYMin meet\"><g transform=\"matrix(1,0,0,-1,0,-7.59134944949)\"><path fill-rule=\"evenodd\" fill=\"#66cc99\" stroke=\"#555555\" stroke-width=\"0.297503513675\" opacity=\"0.6\" d=\"M -7.09917723176,-1.34703707842 L -5.9776146734,-8.82215182821 L -5.87014579057,-8.90690902773 L 5.16281326099,-7.39757171241 L 6.47002589058,-5.16965072627 L 6.6409095876,1.31555957825 L -7.13240123066,0.425675549809 L -7.09917723176,-1.34703707842 z\" /></g></svg>",
      "text/plain": [
       "<shapely.geometry.polygon.Polygon at 0x11500f990>"
      ]
     },
     "execution_count": 18,
     "metadata": {},
     "output_type": "execute_result"
    }
   ],
   "source": [
    "Polygon(wall.exterior.buffer(1).interiors[0])"
   ]
  },
  {
   "cell_type": "code",
   "execution_count": 19,
   "metadata": {},
   "outputs": [],
   "source": [
    "from randoor.generator import empty_room\n",
    "generator = empty_room.EmptyRoomGenerator(9, 0.05)\n",
    "config = generator.generate_new()"
   ]
  },
  {
   "cell_type": "code",
   "execution_count": 20,
   "metadata": {},
   "outputs": [
    {
     "data": {
      "image/svg+xml": "<svg xmlns=\"http://www.w3.org/2000/svg\" xmlns:xlink=\"http://www.w3.org/1999/xlink\" width=\"100.0\" height=\"100.0\" viewBox=\"-3.9154739513 -4.13034441353 7.96949648239 8.38268946702\" preserveAspectRatio=\"xMinYMin meet\"><g transform=\"matrix(1,0,0,-1,0,0.122000639963)\"><path fill-rule=\"evenodd\" fill=\"#66cc99\" stroke=\"#555555\" stroke-width=\"0.16765378934\" opacity=\"0.6\" d=\"M -3.19595678566,1.7688923278 L -3.52556842604,-0.397246979895 L -3.60500397104,-1.31199815688 L -3.46366264731,-2.9304623793 L -3.28729740646,-3.10610445776 L 1.22504574181,-3.68302738666 L 2.38639016597,-3.81987443327 L 2.9740986906,-2.58388074412 L 3.74355255083,2.84841449293 L 3.57595575727,3.22797041336 L 3.10374525909,3.326423438 L 0.701912757832,3.60704415216 L -0.828289383631,3.82539065008 L -1.56893167826,3.94187507323 L -2.99576688699,3.23289385837 L -3.19595678566,1.7688923278 z\" /></g></svg>",
      "text/plain": [
       "<shapely.geometry.polygon.Polygon at 0x114fad7d0>"
      ]
     },
     "execution_count": 20,
     "metadata": {},
     "output_type": "execute_result"
    }
   ],
   "source": [
    "config.get_freespace_poly()"
   ]
  },
  {
   "cell_type": "code",
   "execution_count": 21,
   "metadata": {},
   "outputs": [
    {
     "data": {
      "image/svg+xml": "<svg xmlns=\"http://www.w3.org/2000/svg\" xmlns:xlink=\"http://www.w3.org/1999/xlink\" width=\"100.0\" height=\"100.0\" viewBox=\"-4.02431013953 -4.24650707247 8.18980847848 8.61104796689\" preserveAspectRatio=\"xMinYMin meet\"><g transform=\"matrix(1,0,0,-1,0,0.118033821949)\"><path fill-rule=\"evenodd\" fill=\"#66cc99\" stroke=\"#555555\" stroke-width=\"0.172220959338\" opacity=\"0.6\" d=\"M -3.29493243587,1.7831888778 L -3.08767287232,3.29889131975 L -1.58488403104,4.04561319194 L -0.813457352406,3.9242871587 L 0.714780194875,3.70622099123 L 3.1197847544,3.42522966619 L 3.64667582664,3.31537607353 L 3.84657063648,2.86267493932 L 3.0709682411,-2.61302856413 L 2.44590621898,-3.92757936999 L 1.21285307444,-3.7822825247 L -3.33374393781,-3.20098008854 L -3.56010606677,-2.97554612761 L -3.70538243705,-1.31202266926 L -3.62491489266,-0.385387358357 L -3.29493243587,1.7831888778 z M -3.19595678566,1.7688923278 L -3.52556842604,-0.397246979895 L -3.60500397104,-1.31199815688 L -3.46366264731,-2.9304623793 L -3.28729740646,-3.10610445776 L 1.22504574181,-3.68302738666 L 2.38639016597,-3.81987443327 L 2.9740986906,-2.58388074412 L 3.74355255083,2.84841449293 L 3.57595575727,3.22797041336 L 3.10374525909,3.326423438 L 0.701912757832,3.60704415216 L -0.828289383631,3.82539065008 L -1.56893167826,3.94187507323 L -2.99576688699,3.23289385837 L -3.19595678566,1.7688923278 z\" /></g></svg>",
      "text/plain": [
       "<shapely.geometry.polygon.Polygon at 0x114fad650>"
      ]
     },
     "execution_count": 21,
     "metadata": {},
     "output_type": "execute_result"
    }
   ],
   "source": [
    "config.get_collision_poly()"
   ]
  },
  {
   "cell_type": "code",
   "execution_count": 24,
   "metadata": {},
   "outputs": [
    {
     "name": "stdout",
     "output_type": "stream",
     "text": [
      "[ 0.32450729 -0.50702844]\n"
     ]
    },
    {
     "data": {
      "image/png": "[encoded data removed]",
      "text/plain": [
       "<Figure size 288x288 with 1 Axes>"
      ]
     },
     "metadata": {},
     "output_type": "display_data"
    }
   ],
   "source": [
    "import matplotlib.pyplot as plt\n",
    "import numpy as np\n",
    "from shapely.geometry import Polygon\n",
    "from shapely.affinity import affine_transform\n",
    "from descartes import PolygonPatch\n",
    "from randoor import utils\n",
    "\n",
    "fig = plt.figure(1, figsize=(4,4))\n",
    "plt.xlim(-1.5,1.5)\n",
    "plt.ylim(-1.5,1.5)\n",
    "ax = fig.add_subplot(111)\n",
    "\n",
    "x = 0\n",
    "y = 0.5\n",
    "yaw = np.pi / 6\n",
    "\n",
    "affine = utils.get_affine(x,y,yaw)\n",
    "\n",
    "p = Polygon(utils.get_square_horizon((0,0), 0.5))\n",
    "ax.add_patch(PolygonPatch(p, alpha=0.5, zorder=1))\n",
    "\n",
    "abcdeoo = [affine[0,0], affine[0,1], affine[1,0], affine[1,1], affine[0,2], affine[1,2]]\n",
    "pp = affine_transform(p, abcdeoo)\n",
    "ax.add_patch(PolygonPatch(pp, alpha=0.5, zorder=2))\n",
    "\n",
    "sample_xy = geom.sample_from_faces([p], face_size=0.01)\n",
    "print(sample_xy[0][0])\n",
    "# ss = Polygon(utils.get_square_horizon(sample_xy[0][0], 0.2))\n",
    "ss = poly.simple_cube(0.2, sample_xy[0][0])\n",
    "ax.add_patch(PolygonPatch(ss, color='yellow', alpha=0.5, zorder=3))\n",
    "\n",
    "plt.show()"
   ]
  },
  {
   "cell_type": "code",
   "execution_count": 23,
   "metadata": {},
   "outputs": [
    {
     "data": {
      "text/plain": [
       "200"
      ]
     },
     "execution_count": 23,
     "metadata": {},
     "output_type": "execute_result"
    }
   ],
   "source": [
    "sum([len(geom.sample_sure(key_area, 2, keyarea_range)) for _ in range(100)])"
   ]
  },
  {
   "cell_type": "code",
   "execution_count": null,
   "metadata": {},
   "outputs": [],
   "source": []
  }
 ],
 "metadata": {
  "interpreter": {
   "hash": "33b203e14a488836ed93b692d2d39522cdda69eb434e3ffe65691b8de41f05e2"
  },
  "kernelspec": {
   "display_name": "Python 2.7.16 64-bit ('.venv': poetry)",
   "name": "python3"
  },
  "language_info": {
   "codemirror_mode": {
    "name": "ipython",
    "version": 2
   },
   "file_extension": ".py",
   "mimetype": "text/x-python",
   "name": "python",
   "nbconvert_exporter": "python",
   "pygments_lexer": "ipython2",
   "version": "2.7.16"
  },
  "orig_nbformat": 4
 },
 "nbformat": 4,
 "nbformat_minor": 2
}
