{
 "cells": [
  {
   "cell_type": "code",
   "execution_count": 1,
   "metadata": {},
   "outputs": [
    {
     "name": "stderr",
     "output_type": "stream",
     "text": [
      "/Users/reona/workspace_local/randoor/.venv/lib/python2.7/site-packages/quaternion/numba_wrapper.py:20: UserWarning: \n",
      "\n",
      "!!!!!!!!!!!!!!!!!!!!!!!!!!!!!!!!!!!!!!!!!!!!!!!!!!!!!\n",
      "Could not import from numba, which means that some\n",
      "parts of this code may run MUCH more slowly.  You\n",
      "may wish to install numba.\n",
      "!!!!!!!!!!!!!!!!!!!!!!!!!!!!!!!!!!!!!!!!!!!!!!!!!!!!!\n",
      "\n",
      "  warnings.warn(warning_text)\n"
     ]
    }
   ],
   "source": [
    "import quaternion\n",
    "import numpy as np\n",
    "import shapely\n",
    "from shapely.geometry import Polygon"
   ]
  },
  {
   "cell_type": "code",
   "execution_count": 2,
   "metadata": {},
   "outputs": [],
   "source": [
    "from randoor import utils"
   ]
  },
  {
   "cell_type": "code",
   "execution_count": 3,
   "metadata": {},
   "outputs": [
    {
     "data": {
      "image/svg+xml": "<svg xmlns=\"http://www.w3.org/2000/svg\" xmlns:xlink=\"http://www.w3.org/1999/xlink\" width=\"100.0\" height=\"100.0\" viewBox=\"-1.52735064736 -1.52735064736 3.05470129473 3.05470129473\" preserveAspectRatio=\"xMinYMin meet\"><g transform=\"matrix(1,0,0,-1,0,0.0)\"><path fill-rule=\"evenodd\" fill=\"#66cc99\" stroke=\"#555555\" stroke-width=\"0.0610940258945\" opacity=\"0.6\" d=\"M -1.11022302463e-16,1.41421356237 L 1.41421356237,1.11022302463e-16 L 1.11022302463e-16,-1.41421356237 L -1.41421356237,-1.11022302463e-16 L -1.11022302463e-16,1.41421356237 z\" /></g></svg>",
      "text/plain": [
       "<shapely.geometry.polygon.Polygon at 0x111e4af50>"
      ]
     },
     "execution_count": 3,
     "metadata": {},
     "output_type": "execute_result"
    }
   ],
   "source": [
    "points = utils.get_square_horizon((0,0), 1, np.pi/4)\n",
    "Polygon(points)"
   ]
  },
  {
   "cell_type": "code",
   "execution_count": 4,
   "metadata": {},
   "outputs": [
    {
     "data": {
      "text/plain": [
       "array([[0, 1, 2, 0],\n",
       "       [3, 4, 5, 0],\n",
       "       [6, 7, 8, 0]])"
      ]
     },
     "execution_count": 4,
     "metadata": {},
     "output_type": "execute_result"
    }
   ],
   "source": [
    "utils.add_dimension(np.arange(9).reshape((3,3)), 0)"
   ]
  },
  {
   "cell_type": "code",
   "execution_count": 5,
   "metadata": {},
   "outputs": [],
   "source": [
    "from randoor.spawner import poly"
   ]
  },
  {
   "cell_type": "code",
   "execution_count": 24,
   "metadata": {},
   "outputs": [
    {
     "name": "stdout",
     "output_type": "stream",
     "text": [
      "[[  3.66025404  13.66025404]\n",
      " [ 13.66025404  -3.66025404]\n",
      " [ -3.66025404 -13.66025404]\n",
      " [-13.66025404   3.66025404]]\n"
     ]
    },
    {
     "data": {
      "image/svg+xml": "<svg xmlns=\"http://www.w3.org/2000/svg\" xmlns:xlink=\"http://www.w3.org/1999/xlink\" width=\"100.0\" height=\"100.0\" viewBox=\"-14.7530743609 -14.7530743609 29.5061487217 29.5061487217\" preserveAspectRatio=\"xMinYMin meet\"><g transform=\"matrix(1,0,0,-1,0,0.0)\"><path fill-rule=\"evenodd\" fill=\"#66cc99\" stroke=\"#555555\" stroke-width=\"0.590122974435\" opacity=\"0.6\" d=\"M 3.66025403784,13.6602540378 L 13.6602540378,-3.66025403784 L -3.66025403784,-13.6602540378 L -13.6602540378,3.66025403784 L 3.66025403784,13.6602540378 z\" /></g></svg>",
      "text/plain": [
       "<shapely.geometry.polygon.Polygon at 0x1137ebfd0>"
      ]
     },
     "execution_count": 24,
     "metadata": {},
     "output_type": "execute_result"
    }
   ],
   "source": [
    "area_points = utils.get_square_horizon((0,0), 10, np.pi/6)\n",
    "print(area_points)\n",
    "area_poly = Polygon(area_points)\n",
    "area_poly"
   ]
  },
  {
   "cell_type": "code",
   "execution_count": 7,
   "metadata": {},
   "outputs": [
    {
     "data": {
      "image/svg+xml": "<svg xmlns=\"http://www.w3.org/2000/svg\" xmlns:xlink=\"http://www.w3.org/1999/xlink\" width=\"100.0\" height=\"100.0\" viewBox=\"-7.73498462428 -10.435507867 11.9499256405 19.170481926\" preserveAspectRatio=\"xMinYMin meet\"><g transform=\"matrix(1,0,0,-1,0,-1.70053380803)\"><g><path fill-rule=\"evenodd\" fill=\"#66cc99\" stroke=\"#555555\" stroke-width=\"0.383409638521\" opacity=\"0.6\" d=\"M -2.99205953869,-8.61654458161 L -4.65646334164,-9.72549001793 L -5.76540877795,-8.06108621497 L -4.101004975,-6.95214077866 L -2.99205953869,-8.61654458161 z\" /><path fill-rule=\"evenodd\" fill=\"#66cc99\" stroke=\"#555555\" stroke-width=\"0.383409638521\" opacity=\"0.6\" d=\"M 1.78848780518,-7.30685236813 L 1.64150230392,-9.30144387077 L -0.353089198722,-9.15445836952 L -0.206103697462,-7.15986686687 L 1.78848780518,-7.30685236813 z\" /><path fill-rule=\"evenodd\" fill=\"#66cc99\" stroke=\"#555555\" stroke-width=\"0.383409638521\" opacity=\"0.6\" d=\"M 3.50492316709,-1.6611301432 L 2.01003553239,-2.98978019481 L 0.681385480787,-1.49489256011 L 2.17627311548,-0.166242508508 L 3.50492316709,-1.6611301432 z\" /><path fill-rule=\"evenodd\" fill=\"#66cc99\" stroke=\"#555555\" stroke-width=\"0.383409638521\" opacity=\"0.6\" d=\"M -3.30412851882,-0.0523957739951 L -1.30891738735,-0.190716202099 L -1.44723781545,-2.18592733358 L -3.44244894693,-2.04760690547 L -3.30412851882,-0.0523957739951 z\" /><path fill-rule=\"evenodd\" fill=\"#66cc99\" stroke=\"#555555\" stroke-width=\"0.383409638521\" opacity=\"0.6\" d=\"M -3.55649543843,-0.834722967643 L -5.4706984901,-0.255217422389 L -4.89119294485,1.65898562928 L -3.48753251164,1.2340416799 L -3.69599297963,2.32516363081 L -1.73152387879,2.70047836787 L -1.35620914173,0.736009267033 L -3.18685471911,0.386261712725 L -3.55649543843,-0.834722967643 z\" /><path fill-rule=\"evenodd\" fill=\"#66cc99\" stroke=\"#555555\" stroke-width=\"0.383409638521\" opacity=\"0.6\" d=\"M -0.920978334478,3.53515459102 L 0.370670260316,5.06212672815 L 1.89764239744,3.77047813335 L 0.605993802651,2.24350599623 L -0.920978334478,3.53515459102 z\" /><path fill-rule=\"evenodd\" fill=\"#66cc99\" stroke=\"#555555\" stroke-width=\"0.383409638521\" opacity=\"0.6\" d=\"M -1.90380410398,4.39695673049 L -3.69662655883,3.51051009061 L -4.58307319872,5.30333254546 L -2.79025074386,6.18977918535 L -1.90380410398,4.39695673049 z\" /><path fill-rule=\"evenodd\" fill=\"#66cc99\" stroke=\"#555555\" stroke-width=\"0.383409638521\" opacity=\"0.6\" d=\"M -4.70376195144,4.30874368439 L -6.67244978056,3.95622668978 L -7.02496677517,5.9249145189 L -5.05627894605,6.27743151351 L -4.70376195144,4.30874368439 z\" /><path fill-rule=\"evenodd\" fill=\"#66cc99\" stroke=\"#555555\" stroke-width=\"0.383409638521\" opacity=\"0.6\" d=\"M 2.82461925421,7.09292556855 L 1.89258861286,5.32337226797 L 0.123035312281,6.25540290931 L 1.05506595363,8.02495620989 L 2.82461925421,7.09292556855 z\" /></g></g></svg>",
      "text/plain": [
       "<shapely.geometry.multipolygon.MultiPolygon at 0x113773750>"
      ]
     },
     "execution_count": 7,
     "metadata": {},
     "output_type": "execute_result"
    }
   ],
   "source": [
    "from shapely.ops import unary_union\n",
    "xy, yaw, polys = poly.sprinkle_cube(area_poly, 10, 2)\n",
    "mulp = unary_union(polys)\n",
    "mulp"
   ]
  },
  {
   "cell_type": "code",
   "execution_count": 8,
   "metadata": {},
   "outputs": [
    {
     "data": {
      "image/svg+xml": "<svg xmlns=\"http://www.w3.org/2000/svg\" xmlns:xlink=\"http://www.w3.org/1999/xlink\" width=\"100.0\" height=\"100.0\" viewBox=\"-14.7530743609 -14.7530743609 29.5061487217 29.5061487217\" preserveAspectRatio=\"xMinYMin meet\"><g transform=\"matrix(1,0,0,-1,0,0.0)\"><path fill-rule=\"evenodd\" fill=\"#66cc99\" stroke=\"#555555\" stroke-width=\"0.590122974435\" opacity=\"0.6\" d=\"M 3.66025403784,13.6602540378 L 13.6602540378,-3.66025403784 L -3.66025403784,-13.6602540378 L -13.6602540378,3.66025403784 L 3.66025403784,13.6602540378 z M -2.99205953869,-8.61654458161 L -4.65646334164,-9.72549001793 L -5.76540877795,-8.06108621497 L -4.101004975,-6.95214077866 L -2.99205953869,-8.61654458161 z M 1.78848780518,-7.30685236813 L 1.64150230392,-9.30144387077 L -0.353089198722,-9.15445836952 L -0.206103697462,-7.15986686687 L 1.78848780518,-7.30685236813 z M 3.50492316709,-1.6611301432 L 2.01003553239,-2.98978019481 L 0.681385480787,-1.49489256011 L 2.17627311548,-0.166242508508 L 3.50492316709,-1.6611301432 z M -3.30412851882,-0.0523957739951 L -1.30891738735,-0.190716202099 L -1.44723781545,-2.18592733358 L -3.44244894693,-2.04760690547 L -3.30412851882,-0.0523957739951 z M -3.55649543843,-0.834722967643 L -5.4706984901,-0.255217422389 L -4.89119294485,1.65898562928 L -3.48753251164,1.2340416799 L -3.69599297963,2.32516363081 L -1.73152387879,2.70047836787 L -1.35620914173,0.736009267033 L -3.18685471911,0.386261712725 L -3.55649543843,-0.834722967643 z M -0.920978334478,3.53515459102 L 0.370670260316,5.06212672815 L 1.89764239744,3.77047813335 L 0.605993802651,2.24350599623 L -0.920978334478,3.53515459102 z M -1.90380410398,4.39695673049 L -3.69662655883,3.51051009061 L -4.58307319872,5.30333254546 L -2.79025074386,6.18977918535 L -1.90380410398,4.39695673049 z M -4.70376195144,4.30874368439 L -6.67244978056,3.95622668978 L -7.02496677517,5.9249145189 L -5.05627894605,6.27743151351 L -4.70376195144,4.30874368439 z M 2.82461925421,7.09292556855 L 1.89258861286,5.32337226797 L 0.123035312281,6.25540290931 L 1.05506595363,8.02495620989 L 2.82461925421,7.09292556855 z\" /></g></svg>",
      "text/plain": [
       "<shapely.geometry.polygon.Polygon at 0x1137d4790>"
      ]
     },
     "execution_count": 8,
     "metadata": {},
     "output_type": "execute_result"
    }
   ],
   "source": [
    "Polygon(area_points, [p.exterior.coords for p in mulp.geoms])"
   ]
  },
  {
   "cell_type": "code",
   "execution_count": 9,
   "metadata": {},
   "outputs": [
    {
     "data": {
      "text/plain": [
       "array([0, 0, 1, 2, 3, 0, 4, 5, 2, 6])"
      ]
     },
     "execution_count": 9,
     "metadata": {},
     "output_type": "execute_result"
    }
   ],
   "source": [
    "from sklearn.cluster import DBSCAN\n",
    "eps = 3\n",
    "points = np.array([p.centroid.coords[0] for p in polys])\n",
    "db = DBSCAN(eps=eps, min_samples=1).fit(points)\n",
    "db.labels_"
   ]
  },
  {
   "cell_type": "code",
   "execution_count": 10,
   "metadata": {},
   "outputs": [
    {
     "data": {
      "text/plain": [
       "array([[-3.44244895, -2.04760691],\n",
       "       [-1.44723782, -2.18592733],\n",
       "       [-1.30891739, -0.1907162 ],\n",
       "       [-3.30412852, -0.05239577]])"
      ]
     },
     "execution_count": 10,
     "metadata": {},
     "output_type": "execute_result"
    }
   ],
   "source": [
    "from trimesh.convex import hull_points\n",
    "hull_points(polys[0].exterior.coords)"
   ]
  },
  {
   "cell_type": "code",
   "execution_count": 11,
   "metadata": {},
   "outputs": [
    {
     "data": {
      "image/svg+xml": "<svg xmlns=\"http://www.w3.org/2000/svg\" xmlns:xlink=\"http://www.w3.org/1999/xlink\" width=\"100.0\" height=\"100.0\" viewBox=\"-5.66615471816 -2.38138356163 4.55269355887 5.27731815756\" preserveAspectRatio=\"xMinYMin meet\"><g transform=\"matrix(1,0,0,-1,0,0.514551034294)\"><path fill-rule=\"evenodd\" fill=\"#66cc99\" stroke=\"#555555\" stroke-width=\"0.105546363151\" opacity=\"0.6\" d=\"M -1.44723781545,-2.18592733358 L -1.30891738735,-0.190716202099 L -1.35620914173,0.736009267033 L -1.73152387879,2.70047836787 L -3.69599297963,2.32516363081 L -4.89119294485,1.65898562928 L -5.4706984901,-0.255217422389 L -3.44244894693,-2.04760690547 L -1.44723781545,-2.18592733358 z\" /></g></svg>",
      "text/plain": [
       "<shapely.geometry.polygon.Polygon at 0x113773810>"
      ]
     },
     "execution_count": 11,
     "metadata": {},
     "output_type": "execute_result"
    }
   ],
   "source": [
    "pp = np.array(polys)\n",
    "hpoints = np.concatenate([p.exterior.coords for p in pp[db.labels_==0]])\n",
    "hull = hull_points(hpoints)\n",
    "Polygon(hull)"
   ]
  },
  {
   "cell_type": "code",
   "execution_count": 12,
   "metadata": {},
   "outputs": [
    {
     "data": {
      "text/plain": [
       "array([[-11.27799675,  -0.46662326]])"
      ]
     },
     "execution_count": 12,
     "metadata": {},
     "output_type": "execute_result"
    }
   ],
   "source": [
    "from trimesh.path.polygons import sample\n",
    "face_size = 0.001\n",
    "factor = 1 / face_size\n",
    "face = Polygon(area_poly.buffer(face_size).exterior.coords, [area_poly.exterior.coords])\n",
    "sample(face, 2, factor=factor)"
   ]
  },
  {
   "cell_type": "code",
   "execution_count": 13,
   "metadata": {},
   "outputs": [
    {
     "data": {
      "text/plain": [
       "array([[[ -2.45482982, -12.96533367],\n",
       "        [-13.10141885,   3.98337321],\n",
       "        [  1.02264686, -10.95749853],\n",
       "        [ -8.78646618,   6.47443278],\n",
       "        [ -5.76159956,   8.22102527]]])"
      ]
     },
     "execution_count": 13,
     "metadata": {},
     "output_type": "execute_result"
    }
   ],
   "source": [
    "from randoor.spawner import geom\n",
    "geom.sample_from_faces([area_poly], 5, face_size)"
   ]
  },
  {
   "cell_type": "code",
   "execution_count": 14,
   "metadata": {},
   "outputs": [
    {
     "data": {
      "image/svg+xml": "<svg xmlns=\"http://www.w3.org/2000/svg\" xmlns:xlink=\"http://www.w3.org/1999/xlink\" width=\"100.0\" height=\"100.0\" viewBox=\"-14.7530743609 -14.7530743609 29.5061487217 29.5061487217\" preserveAspectRatio=\"xMinYMin meet\"><g transform=\"matrix(1,0,0,-1,0,0.0)\"><path fill-rule=\"evenodd\" fill=\"#66cc99\" stroke=\"#555555\" stroke-width=\"0.590122974435\" opacity=\"0.6\" d=\"M 3.66025403784,13.6602540378 L 13.6602540378,-3.66025403784 L -3.66025403784,-13.6602540378 L -13.6602540378,3.66025403784 L 3.66025403784,13.6602540378 z M -1.44723781545,-2.18592733358 L -3.44244894693,-2.04760690547 L -5.4706984901,-0.255217422389 L -6.67244978056,3.95622668978 L -7.02496677517,5.9249145189 L 1.05506595363,8.02495620989 L 2.82461925421,7.09292556855 L 1.89764239744,3.77047813335 L -1.44723781545,-2.18592733358 z M 2.01003553239,-2.98978019481 L 0.681385480787,-1.49489256011 L 2.17627311548,-0.166242508508 L 3.50492316709,-1.6611301432 L 2.01003553239,-2.98978019481 z M 1.64150230392,-9.30144387077 L -0.353089198722,-9.15445836952 L -0.206103697462,-7.15986686687 L 1.78848780518,-7.30685236813 L 1.64150230392,-9.30144387077 z M -4.65646334164,-9.72549001793 L -5.76540877795,-8.06108621497 L -4.101004975,-6.95214077866 L -2.99205953869,-8.61654458161 L -4.65646334164,-9.72549001793 z\" /></g></svg>",
      "text/plain": [
       "<shapely.geometry.polygon.Polygon at 0x1137d4ad0>"
      ]
     },
     "execution_count": 14,
     "metadata": {},
     "output_type": "execute_result"
    }
   ],
   "source": [
    "zone_polys, zone_hull = poly.get_clustered_zones(polys, 4)\n",
    "free_zone = Polygon(area_poly.exterior.coords, [p.exterior.coords for p in zone_hull])\n",
    "free_zone"
   ]
  },
  {
   "cell_type": "code",
   "execution_count": 15,
   "metadata": {},
   "outputs": [
    {
     "data": {
      "image/svg+xml": "<svg xmlns=\"http://www.w3.org/2000/svg\" xmlns:xlink=\"http://www.w3.org/1999/xlink\" width=\"100.0\" height=\"100.0\" viewBox=\"-12.3925824631 -12.3925824631 24.7851649263 24.7851649263\" preserveAspectRatio=\"xMinYMin meet\"><g transform=\"matrix(1,0,0,-1,0,0.0)\"><g><path fill-rule=\"evenodd\" fill=\"#66cc99\" stroke=\"#555555\" stroke-width=\"0.495703298525\" opacity=\"0.6\" d=\"M -8.45246828953,4.81944968011 L -8.24740004385,3.6742130941 L -8.21103454743,3.51718578604 L -7.00928325697,-0.69425832613 L -6.96078815447,-0.837997648666 L -6.89889809593,-0.976498148534 L -6.82416943352,-1.10851479454 L -6.73727393026,-1.23286084122 L -6.63899272133,-1.34841849688 L -6.53020929214,-1.45414897187 L -4.50195974897,-3.24653845496 L -4.38538989849,-3.34022531857 L -4.26058192709,-3.42261906061 L -4.12862623513,-3.49299983792 L -3.99067566993,-3.55075276007 L -3.84793545378,-3.59537326147 L -3.70165265431,-3.62647150957 L -3.55310528941,-3.64377581065 L -1.55789415793,-3.78209623876 L -1.39387078444,-3.7850370734 L -1.23040843844,-3.77116706979 L -1.069225538,-3.74063203804 L -0.912016538214,-3.69375298145 L -0.760434118082,-3.63102272187 L -0.616071806477,-3.5531007189 L -0.480447229997,-3.46080613718 L -0.354986158717,-3.35510923489 L -0.241007517617,-3.23712116375 L -0.139709521208,-3.10808228788 L -0.0922654914877,-3.03290381109 L 0.814125424634,-4.05270023609 L 0.924068441524,-4.16480167442 L 1.04446991515,-4.26558701357 L 1.1741703135,-4.35408563563 L 1.31192055084,-4.42944525049 L 1.45639401708,-4.49094010385 L 1.60619935376,-4.53797796668 L 1.75989385361,-4.57010583864 L 1.91599735456,-4.58701431075 L 2.07300649457,-4.58854054518 L 2.22940918979,-4.57466984347 L 2.38369919677,-4.54553578806 L 2.53439061839,-4.50141895582 L 2.6800322139,-4.44274421596 L 2.8192213751,-4.37007663832 L 2.9506176343,-4.28411605137 L 3.07295557368,-4.18569030257 L 4.56784320837,-2.85704025096 L 4.6799446467,-2.74709723407 L 4.78072998585,-2.62669576045 L 4.86922860791,-2.4969953621 L 4.94458822276,-2.35924512476 L 5.00608307613,-2.21477165852 L 5.05312093896,-2.06496632183 L 5.08524881091,-1.91127182199 L 5.10215728302,-1.75516832104 L 5.10368351746,-1.59815918103 L 5.08981281575,-1.44175648581 L 5.06067876034,-1.28746647883 L 5.0165619281,-1.1367750572 L 4.95788718824,-0.991133461698 L 4.88521961059,-0.851944300493 L 4.79925902365,-0.720548041299 L 4.70083327485,-0.598210101921 L 3.37218322324,0.896677532776 L 3.26224020635,1.00877897111 L 3.14183873273,1.10956431025 L 3.01213833438,1.19806293231 L 2.87438809704,1.27342254717 L 2.7299146308,1.33491740054 L 2.58010929411,1.38195526336 L 2.42641479427,1.41408313532 L 2.41037937439,1.41582002429 L 3.29272313573,2.98705632253 L 3.37635056969,3.15939537192 L 3.43878263067,3.34049350392 L 4.36575948743,6.66294093912 L 4.40015999286,6.81422971128 L 4.41974568419,6.96813906139 L 4.42433239712,7.12322177939 L 4.41387700277,7.27801962203 L 4.38847781324,7.43107702475 L 4.34837365719,7.58095478836 L 4.29394163411,7.72624361181 L 4.22569356846,7.86557734389 L 4.14427119702,7.99764582909 L 4.05044013456,8.12120722709 L 3.94508267484,8.2350996897 L 3.82918949436,8.33825228576 L 3.70385033702,8.42969507112 L 3.57024376728,8.50856820901 L 1.80069046671,9.44059885036 L 1.66691611277,9.50334701843 L 1.52792360662,9.55348675915 L 1.38489834314,9.59059045672 L 1.23906011052,9.61434167297 L 1.0916526873,9.62453784611 L 0.943933234836,9.62109201828 L 0.797161575606,9.60403357716 L 0.652589448865,9.57350800532 L -0.931146122664,9.16188705781 L 3.07461339179,11.4746133918 L 11.4746133918,-3.07461339179 L 3.35943950817,-7.75991121802 L 3.3841610073,-7.42444076914 L 3.38800308349,-7.26747122468 L 3.37644095317,-7.11088094215 L 3.34958596597,-6.95617797159 L 3.3076967501,-6.80485218716 L 3.2511767216,-6.6583609389 L 3.18057019925,-6.51811501761 L 3.09655716246,-6.38546506816 L 2.9999467027,-6.2616885821 L 2.8916692315,-6.14797759464 L 2.7727675201,-6.04542720475 L 2.64438665699,-5.95502502876 L 2.50776302005,-5.87764168902 L 2.3642123696,-5.81402242942 L 2.21511717687,-5.76477993818 L 2.06191331007,-5.73038844743 L 1.90607620619,-5.71117916602 L -0.0885152964549,-5.56419366476 L -0.245484840918,-5.56035158856 L -0.402075123441,-5.57191371888 L -0.556778094004,-5.59876870609 L -0.708103878429,-5.64065792196 L -0.854595126691,-5.69717795045 L -0.994841047988,-5.7677844728 L -1.12749099743,-5.85179750959 L -1.25126748349,-5.94840796936 L -1.36497847095,-6.05668544056 L -1.46752886084,-6.17558715195 L -1.55793103684,-6.30396801506 L -1.63531437657,-6.440591652 L -1.69893363618,-6.58414230245 L -1.74817612741,-6.73323749518 L -1.78256761816,-6.88644136198 L -1.80177689958,-7.04227846586 L -1.83330284381,-7.47008515384 L -2.76948193264,-6.06498442961 L -2.86285010839,-5.93874424902 L -2.96814239235,-5.82226363099 L -3.08434476227,-5.71666434754 L -3.2103381258,-5.62296337751 L -3.34490909797,-5.54206311245 L -3.48676168676,-5.47474266615 L -3.6345297742,-5.42165037129 L -3.78679027283,-5.38329753571 L -3.9420768308,-5.36005351818 L -4.09889395368,-5.35214217129 L -4.25573140685,-5.35963968564 L -4.4110787599,-5.38247385606 L -4.5634399329,-5.42042477701 L -4.71134760446,-5.47312696038 L -4.85337734285,-5.54007285533 L -4.98816132405,-5.6206177363 L -6.04708197577,-6.32614678043 L -11.4746133918,3.07461339179 L -8.45246828953,4.81944968011 z\" /><path fill-rule=\"evenodd\" fill=\"#66cc99\" stroke=\"#555555\" stroke-width=\"0.495703298525\" opacity=\"0.6\" d=\"M -1.29388055268,-10.4465068078 L -3.07461339179,-11.4746133918 L -3.44172626806,-10.838755238 L -2.10490318964,-9.94806762397 L -1.97866300905,-9.85469944822 L -1.86218239101,-9.74940716426 L -1.84410939034,-9.72951947714 L -1.81577811514,-9.80294979874 L -1.74517159279,-9.94319572004 L -1.661158556,-10.0758456695 L -1.56454809624,-10.1996221555 L -1.45627062504,-10.313333143 L -1.33736891364,-10.4158835329 L -1.29388055268,-10.4465068078 z\" /></g></g></svg>",
      "text/plain": [
       "<shapely.geometry.multipolygon.MultiPolygon at 0x111b2b210>"
      ]
     },
     "execution_count": 15,
     "metadata": {},
     "output_type": "execute_result"
    }
   ],
   "source": [
    "pat = 1.6\n",
    "keyarea_range = 0.3\n",
    "\n",
    "path_area = free_zone.buffer(-pat)\n",
    "path_area"
   ]
  },
  {
   "cell_type": "code",
   "execution_count": 16,
   "metadata": {},
   "outputs": [
    {
     "data": {
      "image/svg+xml": "<svg xmlns=\"http://www.w3.org/2000/svg\" xmlns:xlink=\"http://www.w3.org/1999/xlink\" width=\"100.0\" height=\"100.0\" viewBox=\"-9.2890574004 -4.64524333172 14.5737091939 15.1300759167\" preserveAspectRatio=\"xMinYMin meet\"><g transform=\"matrix(1,0,0,-1,0,5.83958925328)\"><g><path fill-rule=\"evenodd\" fill=\"#66cc99\" stroke=\"#555555\" stroke-width=\"0.302601518334\" opacity=\"0.6\" d=\"M -8.24740004385,3.6742130941 L -8.21103454743,3.51718578604 L -7.00928325697,-0.69425832613 L -6.96078815447,-0.837997648666 L -6.89889809593,-0.976498148534 L -6.82416943352,-1.10851479454 L -6.73727393026,-1.23286084122 L -6.63899272133,-1.34841849688 L -6.53020929214,-1.45414897187 L -4.50195974897,-3.24653845496 L -4.38538989849,-3.34022531857 L -4.26058192709,-3.42261906061 L -4.12862623513,-3.49299983792 L -3.99067566993,-3.55075276007 L -3.84793545378,-3.59537326147 L -3.70165265431,-3.62647150957 L -3.55310528941,-3.64377581065 L -1.55789415793,-3.78209623876 L -1.39387078444,-3.7850370734 L -1.23040843844,-3.77116706979 L -1.069225538,-3.74063203804 L -0.912016538214,-3.69375298145 L -0.760434118082,-3.63102272187 L -0.616071806477,-3.5531007189 L -0.480447229997,-3.46080613718 L -0.354986158717,-3.35510923489 L -0.241007517617,-3.23712116375 L -0.139709521208,-3.10808228788 L -0.0922654914877,-3.03290381109 L 0.114909593898,-3.266000158 L 0.105452033962,-3.28098634182 L -0.0148393367726,-3.4342200069 L -0.15018897308,-3.57433084139 L -0.299173995224,-3.69984591285 L -0.460228179795,-3.80944572864 L -0.631658424825,-3.90197810718 L -0.811662548732,-3.97647029043 L -0.998348235975,-4.03213917013 L -1.18975293025,-4.06839952033 L -1.38386446613,-4.08487014962 L -1.57864222215,-4.08137790848 L -3.57385335363,-3.94305748037 L -3.75025334944,-3.92250862284 L -3.92396417381,-3.88557945322 L -4.0934681805,-3.8325926078 L -4.25728447666,-3.76401101275 L -4.41398186086,-3.6804338397 L -4.56219132691,-3.58259127102 L -4.70061802436,-3.47133812049 L -6.72886756753,-1.6789486374 L -6.85804788969,-1.55339369834 L -6.97475682529,-1.41616898225 L -7.07794523541,-1.26850805182 L -7.16668552202,-1.11173828469 L -7.24017996654,-0.947268941093 L -7.29776790076,-0.776578495582 L -8.49951919121,3.43486561659 L -8.54270321822,3.6213355449 L -8.7286842183,4.65997633928 L -8.45246828953,4.81944968011 L -8.24740004385,3.6742130941 z\" /><path fill-rule=\"evenodd\" fill=\"#66cc99\" stroke=\"#555555\" stroke-width=\"0.302601518334\" opacity=\"0.6\" d=\"M 2.58010929411,1.38195526336 L 2.42641479427,1.41408313532 L 2.41037937439,1.41582002429 L 3.29272313573,2.98705632253 L 3.37635056969,3.15939537192 L 3.43878263067,3.34049350392 L 4.36575948743,6.66294093912 L 4.40015999286,6.81422971128 L 4.41974568419,6.96813906139 L 4.42433239712,7.12322177939 L 4.41387700277,7.27801962203 L 4.38847781324,7.43107702475 L 4.34837365719,7.58095478836 L 4.29394163411,7.72624361181 L 4.22569356846,7.86557734389 L 4.14427119702,7.99764582909 L 4.05044013456,8.12120722709 L 3.94508267484,8.2350996897 L 3.82918949436,8.33825228576 L 3.70385033702,8.42969507112 L 3.57024376728,8.50856820901 L 1.80069046671,9.44059885036 L 1.66691611277,9.50334701843 L 1.52792360662,9.55348675915 L 1.38489834314,9.59059045672 L 1.23906011052,9.61434167297 L 1.0916526873,9.62453784611 L 0.943933234836,9.62109201828 L 0.797161575606,9.60403357716 L 0.652589448865,9.57350800532 L -0.931146122664,9.16188705781 L 0.0452966042169,9.72563652902 L 0.577125104222,9.86386146696 L 0.748804504727,9.90011058352 L 0.923095850062,9.92036748235 L 1.09851269987,9.9244594029 L 1.27355901494,9.91235144729 L 1.44674191617,9.884146878 L 1.61658441655,9.84008623714 L 1.78163801761,9.78054529503 L 1.94049506291,9.70603184544 L 3.71004836349,8.7740012041 L 3.86870616505,8.68033935285 L 4.01754641439,8.57175104524 L 4.15516956621,8.44925733741 L 4.28028154962,8.31401003807 L 4.39170593629,8.16728087794 L 4.48839500239,8.01044955176 L 4.56943958034,7.84499074493 L 4.63407760775,7.67246026708 L 4.68170129306,7.49448042279 L 4.71186283062,7.31272475706 L 4.72427861142,7.12890231892 L 4.71883188981,6.9447415913 L 4.69557388135,6.76197423805 L 4.65472328116,6.5823188211 L 3.7277464244,3.25987138591 L 3.65360835199,3.04481735415 L 3.55430077416,2.84016473301 L 2.7121467334,1.34049640018 L 2.58010929411,1.38195526336 z\" /></g></g></svg>",
      "text/plain": [
       "<shapely.geometry.multipolygon.MultiPolygon at 0x111e57890>"
      ]
     },
     "execution_count": 16,
     "metadata": {},
     "output_type": "execute_result"
    }
   ],
   "source": [
    "path_area.intersection(zone_hull[0].buffer(pat+keyarea_range))"
   ]
  },
  {
   "cell_type": "code",
   "execution_count": 17,
   "metadata": {},
   "outputs": [
    {
     "data": {
      "image/svg+xml": "<svg xmlns=\"http://www.w3.org/2000/svg\" xmlns:xlink=\"http://www.w3.org/1999/xlink\" width=\"100.0\" height=\"100.0\" viewBox=\"-7.95791711073 -9.90508415502 18.6851135637 20.4975140596\" preserveAspectRatio=\"xMinYMin meet\"><g transform=\"matrix(1,0,0,-1,0,0.687345749574)\"><path fill-rule=\"evenodd\" fill=\"#66cc99\" stroke=\"#555555\" stroke-width=\"0.409950281192\" opacity=\"0.6\" d=\"M -7.19874992333,-8.52438837403 L -6.59172624968,7.59269786762 L 7.66845948145,9.8332627172 L 9.96802926562,-7.57018494101 L -3.14294623356,-9.14591696762 L -7.19874992333,-8.52438837403 z\" /></g></svg>",
      "text/plain": [
       "<shapely.geometry.polygon.Polygon at 0x111e4a910>"
      ]
     },
     "execution_count": 17,
     "metadata": {},
     "output_type": "execute_result"
    }
   ],
   "source": [
    "wall = poly.random_triangulation()\n",
    "wall"
   ]
  },
  {
   "cell_type": "code",
   "execution_count": 18,
   "metadata": {},
   "outputs": [
    {
     "data": {
      "image/svg+xml": "<svg xmlns=\"http://www.w3.org/2000/svg\" xmlns:xlink=\"http://www.w3.org/1999/xlink\" width=\"100.0\" height=\"100.0\" viewBox=\"-6.8388220797 -8.80967556848 16.3558469019 18.1689185035\" preserveAspectRatio=\"xMinYMin meet\"><g transform=\"matrix(1,0,0,-1,0,0.549567366536)\"><path fill-rule=\"evenodd\" fill=\"#66cc99\" stroke=\"#555555\" stroke-width=\"0.36337837007\" opacity=\"0.6\" d=\"M -6.16589917216,-7.67099305082 L -3.12657070881,-8.13675266094 L 8.8441019147,-6.69806701668 L 6.81131667067,8.68632002748 L -5.62341248891,6.73257148631 L -6.16589917216,-7.67099305082 z\" /></g></svg>",
      "text/plain": [
       "<shapely.geometry.polygon.Polygon at 0x1137d4590>"
      ]
     },
     "execution_count": 18,
     "metadata": {},
     "output_type": "execute_result"
    }
   ],
   "source": [
    "Polygon(wall.exterior.buffer(1).interiors[0])"
   ]
  },
  {
   "cell_type": "code",
   "execution_count": 19,
   "metadata": {},
   "outputs": [],
   "source": [
    "from randoor.generator import empty_room\n",
    "generator = empty_room.EmptyRoomGenerator(9, 0.05)\n",
    "config = generator.generate_new()"
   ]
  },
  {
   "cell_type": "code",
   "execution_count": 20,
   "metadata": {},
   "outputs": [
    {
     "data": {
      "image/svg+xml": "<svg xmlns=\"http://www.w3.org/2000/svg\" xmlns:xlink=\"http://www.w3.org/1999/xlink\" width=\"100.0\" height=\"100.0\" viewBox=\"-4.25027069931 -4.25301280891 8.37519731082 8.45523690432\" preserveAspectRatio=\"xMinYMin meet\"><g transform=\"matrix(1,0,0,-1,0,-0.0507887134884)\"><path fill-rule=\"evenodd\" fill=\"#66cc99\" stroke=\"#555555\" stroke-width=\"0.169104738086\" opacity=\"0.6\" d=\"M -3.8952224106,-0.123198645523 L -3.88693872233,-1.7652208329 L -3.72971765233,-2.03095423075 L -2.78481079046,-3.62310941739 L 3.29685784091,-3.93985588652 L 3.81176968913,-2.25632657598 L 3.54978869368,2.3015612795 L 2.85816825679,3.18245108575 L 2.289959014,3.32068513883 L -0.289801613303,3.57608746615 L -2.34725680944,3.81834953553 L -3.51356706843,3.88906717303 L -3.93711377693,3.68889619535 L -3.8952224106,-0.123198645523 z\" /></g></svg>",
      "text/plain": [
       "<shapely.geometry.polygon.Polygon at 0x113773050>"
      ]
     },
     "execution_count": 20,
     "metadata": {},
     "output_type": "execute_result"
    }
   ],
   "source": [
    "config.get_freespace_poly()"
   ]
  },
  {
   "cell_type": "code",
   "execution_count": 21,
   "metadata": {},
   "outputs": [
    {
     "data": {
      "image/svg+xml": "<svg xmlns=\"http://www.w3.org/2000/svg\" xmlns:xlink=\"http://www.w3.org/1999/xlink\" width=\"100.0\" height=\"100.0\" viewBox=\"-4.35918101433 -4.36515103161 8.59318177506 8.67695562808\" preserveAspectRatio=\"xMinYMin meet\"><g transform=\"matrix(1,0,0,-1,0,-0.053346435136)\"><path fill-rule=\"evenodd\" fill=\"#66cc99\" stroke=\"#555555\" stroke-width=\"0.173539112562\" opacity=\"0.6\" d=\"M -3.99521963885,-0.12400031003 L -4.03781228737,3.75191088359 L -3.53311138693,3.9904358695 L -2.33837653615,3.9179947455 L -0.279027627993,3.67550969456 L 2.30678659984,3.41950804665 L 2.91544391035,3.27143377992 L 3.6478230167,2.33863125604 L 3.91263203376,-2.26845789853 L 3.36964441517,-4.04378230464 L -2.84348091687,-3.72018928594 L -3.81574795094,-2.08193258196 L -3.98680075761,-1.79282092834 L -3.99521963885,-0.12400031003 z M -3.8952224106,-0.123198645523 L -3.88693872233,-1.7652208329 L -3.72971765233,-2.03095423075 L -2.78481079046,-3.62310941739 L 3.29685784091,-3.93985588652 L 3.81176968913,-2.25632657598 L 3.54978869368,2.3015612795 L 2.85816825679,3.18245108575 L 2.289959014,3.32068513883 L -0.289801613303,3.57608746615 L -2.34725680944,3.81834953553 L -3.51356706843,3.88906717303 L -3.93711377693,3.68889619535 L -3.8952224106,-0.123198645523 z\" /></g></svg>",
      "text/plain": [
       "<shapely.geometry.polygon.Polygon at 0x1137eb490>"
      ]
     },
     "execution_count": 21,
     "metadata": {},
     "output_type": "execute_result"
    }
   ],
   "source": [
    "config.get_collision_poly()"
   ]
  },
  {
   "cell_type": "code",
   "execution_count": 38,
   "metadata": {},
   "outputs": [
    {
     "name": "stdout",
     "output_type": "stream",
     "text": [
      "[ 0.13232276 -0.5075406 ]\n"
     ]
    },
    {
     "data": {
      "image/png": "[encoded data removed]",
      "text/plain": [
       "<Figure size 288x288 with 1 Axes>"
      ]
     },
     "metadata": {},
     "output_type": "display_data"
    }
   ],
   "source": [
    "import matplotlib.pyplot as plt\n",
    "import numpy as np\n",
    "from shapely.geometry import Polygon\n",
    "from shapely.affinity import affine_transform\n",
    "from descartes import PolygonPatch\n",
    "from randoor import utils\n",
    "\n",
    "fig = plt.figure(1, figsize=(4,4))\n",
    "plt.xlim(-1.5,1.5)\n",
    "plt.ylim(-1.5,1.5)\n",
    "ax = fig.add_subplot(111)\n",
    "\n",
    "x = 0\n",
    "y = 0.5\n",
    "yaw = np.pi / 6\n",
    "\n",
    "affine = utils.get_affine(x,y,yaw)\n",
    "\n",
    "p = Polygon(utils.get_square_horizon((0,0), 0.5))\n",
    "ax.add_patch(PolygonPatch(p, alpha=0.5, zorder=1))\n",
    "\n",
    "abcdeoo = [affine[0,0], affine[0,1], affine[1,0], affine[1,1], affine[0,2], affine[1,2]]\n",
    "pp = affine_transform(p, abcdeoo)\n",
    "ax.add_patch(PolygonPatch(pp, alpha=0.5, zorder=2))\n",
    "\n",
    "sample_xy = geom.sample_from_faces([p], face_size=0.01)\n",
    "print(sample_xy[0][0])\n",
    "# ss = Polygon(utils.get_square_horizon(sample_xy[0][0], 0.2))\n",
    "ss = poly.simple_cube(0.2, sample_xy[0][0])\n",
    "ax.add_patch(PolygonPatch(ss, color='yellow', alpha=0.5, zorder=3))\n",
    "\n",
    "plt.show()"
   ]
  },
  {
   "cell_type": "code",
   "execution_count": 23,
   "metadata": {},
   "outputs": [
    {
     "data": {
      "text/plain": [
       "<function trimesh.path.polygons.sample>"
      ]
     },
     "execution_count": 23,
     "metadata": {},
     "output_type": "execute_result"
    }
   ],
   "source": [
    "sample"
   ]
  },
  {
   "cell_type": "code",
   "execution_count": 26,
   "metadata": {},
   "outputs": [
    {
     "data": {
      "text/plain": [
       "array([[ 0.5,  0.5],\n",
       "       [ 0.5, -0.5],\n",
       "       [-0.5, -0.5],\n",
       "       [-0.5,  0.5]])"
      ]
     },
     "execution_count": 26,
     "metadata": {},
     "output_type": "execute_result"
    }
   ],
   "source": [
    "utils.get_square_horizon((0,0), 0.5)"
   ]
  },
  {
   "cell_type": "code",
   "execution_count": null,
   "metadata": {},
   "outputs": [],
   "source": []
  }
 ],
 "metadata": {
  "interpreter": {
   "hash": "33b203e14a488836ed93b692d2d39522cdda69eb434e3ffe65691b8de41f05e2"
  },
  "kernelspec": {
   "display_name": "Python 2.7.16 64-bit ('.venv': poetry)",
   "name": "python3"
  },
  "language_info": {
   "codemirror_mode": {
    "name": "ipython",
    "version": 2
   },
   "file_extension": ".py",
   "mimetype": "text/x-python",
   "name": "python",
   "nbconvert_exporter": "python",
   "pygments_lexer": "ipython2",
   "version": "2.7.16"
  },
  "orig_nbformat": 4
 },
 "nbformat": 4,
 "nbformat_minor": 2
}
