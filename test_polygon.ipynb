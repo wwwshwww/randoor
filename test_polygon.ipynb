{
 "cells": [
  {
   "cell_type": "code",
   "execution_count": 1,
   "metadata": {},
   "outputs": [
    {
     "name": "stderr",
     "output_type": "stream",
     "text": [
      "/Users/reona/workspace_local/randoor/.venv/lib/python2.7/site-packages/quaternion/numba_wrapper.py:20: UserWarning: \n",
      "\n",
      "!!!!!!!!!!!!!!!!!!!!!!!!!!!!!!!!!!!!!!!!!!!!!!!!!!!!!\n",
      "Could not import from numba, which means that some\n",
      "parts of this code may run MUCH more slowly.  You\n",
      "may wish to install numba.\n",
      "!!!!!!!!!!!!!!!!!!!!!!!!!!!!!!!!!!!!!!!!!!!!!!!!!!!!!\n",
      "\n",
      "  warnings.warn(warning_text)\n"
     ]
    }
   ],
   "source": [
    "import quaternion\n",
    "import numpy as np\n",
    "import shapely\n",
    "from shapely.geometry import Polygon"
   ]
  },
  {
   "cell_type": "code",
   "execution_count": 2,
   "metadata": {},
   "outputs": [],
   "source": [
    "from randoor import utils"
   ]
  },
  {
   "cell_type": "code",
   "execution_count": 3,
   "metadata": {},
   "outputs": [
    {
     "data": {
      "image/svg+xml": "<svg xmlns=\"http://www.w3.org/2000/svg\" xmlns:xlink=\"http://www.w3.org/1999/xlink\" width=\"100.0\" height=\"100.0\" viewBox=\"-1.52735064736 -1.52735064736 3.05470129473 3.05470129473\" preserveAspectRatio=\"xMinYMin meet\"><g transform=\"matrix(1,0,0,-1,0,0.0)\"><path fill-rule=\"evenodd\" fill=\"#66cc99\" stroke=\"#555555\" stroke-width=\"0.0610940258945\" opacity=\"0.6\" d=\"M -1.11022302463e-16,1.41421356237 L 1.41421356237,1.11022302463e-16 L 1.11022302463e-16,-1.41421356237 L -1.41421356237,-1.11022302463e-16 L -1.11022302463e-16,1.41421356237 z\" /></g></svg>",
      "text/plain": [
       "<shapely.geometry.polygon.Polygon at 0x10b640b90>"
      ]
     },
     "execution_count": 3,
     "metadata": {},
     "output_type": "execute_result"
    }
   ],
   "source": [
    "points = utils.get_square_horizon((0,0), 1, np.pi/4)\n",
    "Polygon(points)"
   ]
  },
  {
   "cell_type": "code",
   "execution_count": 4,
   "metadata": {},
   "outputs": [
    {
     "data": {
      "text/plain": [
       "array([[0, 1, 2, 0],\n",
       "       [3, 4, 5, 0],\n",
       "       [6, 7, 8, 0]])"
      ]
     },
     "execution_count": 4,
     "metadata": {},
     "output_type": "execute_result"
    }
   ],
   "source": [
    "utils.add_dimension(np.arange(9).reshape((3,3)), 0)"
   ]
  },
  {
   "cell_type": "code",
   "execution_count": 5,
   "metadata": {},
   "outputs": [],
   "source": [
    "from randoor.spawner import poly"
   ]
  },
  {
   "cell_type": "code",
   "execution_count": 6,
   "metadata": {},
   "outputs": [
    {
     "data": {
      "image/svg+xml": "<svg xmlns=\"http://www.w3.org/2000/svg\" xmlns:xlink=\"http://www.w3.org/1999/xlink\" width=\"100.0\" height=\"100.0\" viewBox=\"-14.7530743609 -14.7530743609 29.5061487217 29.5061487217\" preserveAspectRatio=\"xMinYMin meet\"><g transform=\"matrix(1,0,0,-1,0,0.0)\"><path fill-rule=\"evenodd\" fill=\"#66cc99\" stroke=\"#555555\" stroke-width=\"0.590122974435\" opacity=\"0.6\" d=\"M 3.66025403784,13.6602540378 L 13.6602540378,-3.66025403784 L -3.66025403784,-13.6602540378 L -13.6602540378,3.66025403784 L 3.66025403784,13.6602540378 z\" /></g></svg>",
      "text/plain": [
       "<shapely.geometry.polygon.Polygon at 0x118a09650>"
      ]
     },
     "execution_count": 6,
     "metadata": {},
     "output_type": "execute_result"
    }
   ],
   "source": [
    "area_points = utils.get_square_horizon((0,0), 10, np.pi/6)\n",
    "area_poly = Polygon(area_points)\n",
    "area_poly"
   ]
  },
  {
   "cell_type": "code",
   "execution_count": 7,
   "metadata": {},
   "outputs": [
    {
     "data": {
      "image/svg+xml": "<svg xmlns=\"http://www.w3.org/2000/svg\" xmlns:xlink=\"http://www.w3.org/1999/xlink\" width=\"100.0\" height=\"100.0\" viewBox=\"-7.48185623074 -10.1105695744 18.3071239383 19.3593661861\" preserveAspectRatio=\"xMinYMin meet\"><g transform=\"matrix(1,0,0,-1,0,-0.861772962651)\"><g><path fill-rule=\"evenodd\" fill=\"#66cc99\" stroke=\"#555555\" stroke-width=\"0.387187323722\" opacity=\"0.6\" d=\"M 0.135332743337,-7.3942944612 L 2.13459429406,-7.33995063175 L 2.18893812352,-9.33921218247 L 0.189676572794,-9.39355601193 L 0.135332743337,-7.3942944612 z\" /><path fill-rule=\"evenodd\" fill=\"#66cc99\" stroke=\"#555555\" stroke-width=\"0.387187323722\" opacity=\"0.6\" d=\"M -2.18159398333,-2.21224731769 L -0.18161557461,-2.22154057581 L -0.190908832729,-4.22151898453 L -2.19088724145,-4.21222572641 L -2.18159398333,-2.21224731769 z\" /><path fill-rule=\"evenodd\" fill=\"#66cc99\" stroke=\"#555555\" stroke-width=\"0.387187323722\" opacity=\"0.6\" d=\"M -5.94114804165,-3.52085037916 L -6.76484266829,-1.69834464199 L -4.94233693111,-0.874650015347 L -4.11864230447,-2.69715575252 L -5.94114804165,-3.52085037916 z\" /><path fill-rule=\"evenodd\" fill=\"#66cc99\" stroke=\"#555555\" stroke-width=\"0.387187323722\" opacity=\"0.6\" d=\"M -1.71033918807,0.966394537473 L 0.210467499015,0.409167769578 L -0.34675926888,-1.5116389175 L -2.26756595596,-0.95441214961 L -1.71033918807,0.966394537473 z\" /><path fill-rule=\"evenodd\" fill=\"#66cc99\" stroke=\"#555555\" stroke-width=\"0.387187323722\" opacity=\"0.6\" d=\"M 7.28045376745,0.747665216802 L 8.72412400812,2.13179535382 L 10.1082541451,0.688125113146 L 8.66458390447,-0.696005023871 L 7.28045376745,0.747665216802 z\" /><path fill-rule=\"evenodd\" fill=\"#66cc99\" stroke=\"#555555\" stroke-width=\"0.387187323722\" opacity=\"0.6\" d=\"M -2.14154964912,0.177303053693 L -4.05850816003,-0.393021474503 L -4.62883268823,1.5239370364 L -2.71187417732,2.0942615646 L -2.14154964912,0.177303053693 z\" /><path fill-rule=\"evenodd\" fill=\"#66cc99\" stroke=\"#555555\" stroke-width=\"0.387187323722\" opacity=\"0.6\" d=\"M -4.50642737068,2.35000991046 L -6.37522158068,3.06247619084 L -5.6627553003,4.93127040084 L -3.7939610903,4.21880412046 L -4.50642737068,2.35000991046 z\" /><path fill-rule=\"evenodd\" fill=\"#66cc99\" stroke=\"#555555\" stroke-width=\"0.387187323722\" opacity=\"0.6\" d=\"M 0.843189469771,4.78581316488 L 0.219775034404,2.88545676626 L -1.68058136422,3.50887120163 L -1.05716692885,5.40922760025 L 0.843189469771,4.78581316488 z\" /><path fill-rule=\"evenodd\" fill=\"#66cc99\" stroke=\"#555555\" stroke-width=\"0.387187323722\" opacity=\"0.6\" d=\"M 3.40844916191,6.95381104663 L 2.21175122355,5.35133981621 L 0.609279993131,6.54803775457 L 1.80597793149,8.15050898499 L 3.40844916191,6.95381104663 z\" /><path fill-rule=\"evenodd\" fill=\"#66cc99\" stroke=\"#555555\" stroke-width=\"0.387187323722\" opacity=\"0.6\" d=\"M -3.01723252677,8.53178304927 L -1.09950714562,7.96404247253 L -1.66724772236,6.04631709138 L -3.58497310351,6.61405766812 L -3.01723252677,8.53178304927 z\" /></g></g></svg>",
      "text/plain": [
       "<shapely.geometry.multipolygon.MultiPolygon at 0x118a097d0>"
      ]
     },
     "execution_count": 7,
     "metadata": {},
     "output_type": "execute_result"
    }
   ],
   "source": [
    "from shapely.ops import unary_union\n",
    "xy, yaw, polys = poly.sprinkle_cube(area_poly, 10, 2)\n",
    "mulp = unary_union(polys)\n",
    "mulp"
   ]
  },
  {
   "cell_type": "code",
   "execution_count": 8,
   "metadata": {},
   "outputs": [
    {
     "data": {
      "image/svg+xml": "<svg xmlns=\"http://www.w3.org/2000/svg\" xmlns:xlink=\"http://www.w3.org/1999/xlink\" width=\"100.0\" height=\"100.0\" viewBox=\"-14.7530743609 -14.7530743609 29.5061487217 29.5061487217\" preserveAspectRatio=\"xMinYMin meet\"><g transform=\"matrix(1,0,0,-1,0,0.0)\"><path fill-rule=\"evenodd\" fill=\"#66cc99\" stroke=\"#555555\" stroke-width=\"0.590122974435\" opacity=\"0.6\" d=\"M 3.66025403784,13.6602540378 L 13.6602540378,-3.66025403784 L -3.66025403784,-13.6602540378 L -13.6602540378,3.66025403784 L 3.66025403784,13.6602540378 z M 0.135332743337,-7.3942944612 L 2.13459429406,-7.33995063175 L 2.18893812352,-9.33921218247 L 0.189676572794,-9.39355601193 L 0.135332743337,-7.3942944612 z M -2.18159398333,-2.21224731769 L -0.18161557461,-2.22154057581 L -0.190908832729,-4.22151898453 L -2.19088724145,-4.21222572641 L -2.18159398333,-2.21224731769 z M -5.94114804165,-3.52085037916 L -6.76484266829,-1.69834464199 L -4.94233693111,-0.874650015347 L -4.11864230447,-2.69715575252 L -5.94114804165,-3.52085037916 z M -1.71033918807,0.966394537473 L 0.210467499015,0.409167769578 L -0.34675926888,-1.5116389175 L -2.26756595596,-0.95441214961 L -1.71033918807,0.966394537473 z M 7.28045376745,0.747665216802 L 8.72412400812,2.13179535382 L 10.1082541451,0.688125113146 L 8.66458390447,-0.696005023871 L 7.28045376745,0.747665216802 z M -2.14154964912,0.177303053693 L -4.05850816003,-0.393021474503 L -4.62883268823,1.5239370364 L -2.71187417732,2.0942615646 L -2.14154964912,0.177303053693 z M -4.50642737068,2.35000991046 L -6.37522158068,3.06247619084 L -5.6627553003,4.93127040084 L -3.7939610903,4.21880412046 L -4.50642737068,2.35000991046 z M 0.843189469771,4.78581316488 L 0.219775034404,2.88545676626 L -1.68058136422,3.50887120163 L -1.05716692885,5.40922760025 L 0.843189469771,4.78581316488 z M 3.40844916191,6.95381104663 L 2.21175122355,5.35133981621 L 0.609279993131,6.54803775457 L 1.80597793149,8.15050898499 L 3.40844916191,6.95381104663 z M -3.01723252677,8.53178304927 L -1.09950714562,7.96404247253 L -1.66724772236,6.04631709138 L -3.58497310351,6.61405766812 L -3.01723252677,8.53178304927 z\" /></g></svg>",
      "text/plain": [
       "<shapely.geometry.polygon.Polygon at 0x118a67890>"
      ]
     },
     "execution_count": 8,
     "metadata": {},
     "output_type": "execute_result"
    }
   ],
   "source": [
    "Polygon(area_points, [p.exterior.coords for p in mulp.geoms])"
   ]
  },
  {
   "cell_type": "code",
   "execution_count": 9,
   "metadata": {},
   "outputs": [
    {
     "data": {
      "text/plain": [
       "array([0, 1, 2, 3, 4, 5, 6, 1, 7, 1])"
      ]
     },
     "execution_count": 9,
     "metadata": {},
     "output_type": "execute_result"
    }
   ],
   "source": [
    "from sklearn.cluster import DBSCAN\n",
    "eps = 3\n",
    "points = np.array([p.centroid.coords[0] for p in polys])\n",
    "db = DBSCAN(eps=eps, min_samples=1).fit(points)\n",
    "db.labels_"
   ]
  },
  {
   "cell_type": "code",
   "execution_count": 10,
   "metadata": {},
   "outputs": [
    {
     "data": {
      "text/plain": [
       "array([[ 8.72412401,  2.13179535],\n",
       "       [ 7.28045377,  0.74766522],\n",
       "       [ 8.6645839 , -0.69600502],\n",
       "       [10.10825415,  0.68812511]])"
      ]
     },
     "execution_count": 10,
     "metadata": {},
     "output_type": "execute_result"
    }
   ],
   "source": [
    "from trimesh.convex import hull_points\n",
    "hull_points(polys[0].exterior.coords)"
   ]
  },
  {
   "cell_type": "code",
   "execution_count": 11,
   "metadata": {},
   "outputs": [
    {
     "data": {
      "image/svg+xml": "<svg xmlns=\"http://www.w3.org/2000/svg\" xmlns:xlink=\"http://www.w3.org/1999/xlink\" width=\"100.0\" height=\"100.0\" viewBox=\"7.16734175234 -0.809117038978 3.0540244079 3.0540244079\" preserveAspectRatio=\"xMinYMin meet\"><g transform=\"matrix(1,0,0,-1,0,1.43579032995)\"><path fill-rule=\"evenodd\" fill=\"#66cc99\" stroke=\"#555555\" stroke-width=\"0.0610804881581\" opacity=\"0.6\" d=\"M 8.72412400812,2.13179535382 L 7.28045376745,0.747665216802 L 8.66458390447,-0.696005023871 L 10.1082541451,0.688125113146 L 8.72412400812,2.13179535382 z\" /></g></svg>",
      "text/plain": [
       "<shapely.geometry.polygon.Polygon at 0x118a67990>"
      ]
     },
     "execution_count": 11,
     "metadata": {},
     "output_type": "execute_result"
    }
   ],
   "source": [
    "pp = np.array(polys)\n",
    "hpoints = np.concatenate([p.exterior.coords for p in pp[db.labels_==0]])\n",
    "hull = hull_points(hpoints)\n",
    "Polygon(hull)"
   ]
  },
  {
   "cell_type": "code",
   "execution_count": 12,
   "metadata": {},
   "outputs": [
    {
     "data": {
      "text/plain": [
       "array([[ -3.66434352, -13.65491096],\n",
       "       [ -3.73679614, -13.52801823]])"
      ]
     },
     "execution_count": 12,
     "metadata": {},
     "output_type": "execute_result"
    }
   ],
   "source": [
    "from trimesh.path.polygons import sample\n",
    "face_size = 0.001\n",
    "factor = 1 / face_size\n",
    "face = Polygon(area_poly.buffer(face_size).exterior.coords, [area_poly.exterior.coords])\n",
    "sample(face, 2, factor=factor)"
   ]
  },
  {
   "cell_type": "code",
   "execution_count": 13,
   "metadata": {},
   "outputs": [
    {
     "data": {
      "text/plain": [
       "array([[[ -4.96211988, -11.40646175],\n",
       "        [  9.07057862,   4.29077494],\n",
       "        [ 11.77811549,  -0.39980826],\n",
       "        [ -3.42438807, -13.52513014],\n",
       "        [  3.21831443,  -9.68983241]]])"
      ]
     },
     "execution_count": 13,
     "metadata": {},
     "output_type": "execute_result"
    }
   ],
   "source": [
    "from randoor.spawner import geom\n",
    "geom.sample_from_faces([area_poly], 5, face_size)"
   ]
  },
  {
   "cell_type": "code",
   "execution_count": 14,
   "metadata": {},
   "outputs": [
    {
     "data": {
      "image/svg+xml": "<svg xmlns=\"http://www.w3.org/2000/svg\" xmlns:xlink=\"http://www.w3.org/1999/xlink\" width=\"100.0\" height=\"100.0\" viewBox=\"-14.7530743609 -14.7530743609 29.5061487217 29.5061487217\" preserveAspectRatio=\"xMinYMin meet\"><g transform=\"matrix(1,0,0,-1,0,0.0)\"><path fill-rule=\"evenodd\" fill=\"#66cc99\" stroke=\"#555555\" stroke-width=\"0.590122974435\" opacity=\"0.6\" d=\"M 3.66025403784,13.6602540378 L 13.6602540378,-3.66025403784 L -3.66025403784,-13.6602540378 L -13.6602540378,3.66025403784 L 3.66025403784,13.6602540378 z M 8.66458390447,-0.696005023871 L 7.28045376745,0.747665216802 L 8.72412400812,2.13179535382 L 10.1082541451,0.688125113146 L 8.66458390447,-0.696005023871 z M -0.190908832729,-4.22151898453 L -2.19088724145,-4.21222572641 L -5.94114804165,-3.52085037916 L -6.76484266829,-1.69834464199 L -6.37522158068,3.06247619084 L -5.6627553003,4.93127040084 L -3.7939610903,4.21880412046 L 0.210467499015,0.409167769578 L -0.190908832729,-4.22151898453 z M 0.219775034404,2.88545676626 L -1.68058136422,3.50887120163 L -3.58497310351,6.61405766812 L -3.01723252677,8.53178304927 L 1.80597793149,8.15050898499 L 3.40844916191,6.95381104663 L 2.21175122355,5.35133981621 L 0.219775034404,2.88545676626 z M 0.189676572794,-9.39355601193 L 0.135332743337,-7.3942944612 L 2.13459429406,-7.33995063175 L 2.18893812352,-9.33921218247 L 0.189676572794,-9.39355601193 z\" /></g></svg>",
      "text/plain": [
       "<shapely.geometry.polygon.Polygon at 0x118a67a50>"
      ]
     },
     "execution_count": 14,
     "metadata": {},
     "output_type": "execute_result"
    }
   ],
   "source": [
    "zone_polys, zone_hull = poly.get_clustered_zones(polys, 4)\n",
    "free_zone = Polygon(area_poly.exterior.coords, [p.exterior.coords for p in zone_hull])\n",
    "free_zone"
   ]
  },
  {
   "cell_type": "code",
   "execution_count": 15,
   "metadata": {},
   "outputs": [
    {
     "data": {
      "image/svg+xml": "<svg xmlns=\"http://www.w3.org/2000/svg\" xmlns:xlink=\"http://www.w3.org/1999/xlink\" width=\"100.0\" height=\"100.0\" viewBox=\"-12.3925824631 -12.3925824631 24.7851649263 24.7851649263\" preserveAspectRatio=\"xMinYMin meet\"><g transform=\"matrix(1,0,0,-1,0,0.0)\"><g><path fill-rule=\"evenodd\" fill=\"#66cc99\" stroke=\"#555555\" stroke-width=\"0.495703298525\" opacity=\"0.6\" d=\"M -7.8060097543,-3.27959450117 L -11.4746133918,3.07461339179 L -7.11921171729,5.58920572099 L -7.15779066829,5.50124342514 L -7.87025694867,3.63244921515 L -7.91723737583,3.48931021889 L -7.95054690968,3.34238708342 L -7.96989024128,3.19298237029 L -8.3595113289,-1.56783846254 L -8.36453627734,-1.72965529775 L -8.35318315128,-1.89115156642 L -8.32556818693,-2.05067382823 L -8.2819741134,-2.20658885322 L -8.22284725803,-2.3573003433 L -7.8060097543,-3.27959450117 z\" /><path fill-rule=\"evenodd\" fill=\"#66cc99\" stroke=\"#555555\" stroke-width=\"0.495703298525\" opacity=\"0.6\" d=\"M -6.95117815656,-4.76020626037 L -6.92757553956,-4.78059669941 L -6.80174292048,-4.86969301436 L -6.66791887068,-4.9462640602 L -6.52734607199,-5.00959880291 L -6.38132987473,-5.05910912002 L -6.23122617623,-5.09433526178 L -2.48096537603,-5.78571060904 L -2.34023245133,-5.80524048099 L -2.19832184795,-5.81220845339 L -0.198343439225,-5.82150171151 L -0.130531481605,-5.81844905827 L -0.219336222852,-5.83409898485 L -0.370554293786,-5.87637539035 L -0.516900396007,-5.93327018627 L -0.656965136548,-6.00423544464 L -0.789399615392,-6.08858773122 L -0.912928416112,-6.18551468738 L -1.02636188883,-6.29408285356 L -1.12860760719,-6.41324665895 L -1.21868088904,-6.54185849097 L -1.29571427942,-6.67867974737 L -1.35896590469,-6.82239276466 L -1.40782661711,-6.97161350793 L -1.44182586131,-7.12490489983 L -1.46063620599,-7.28079066048 L -1.46407649724,-7.43776952477 L -1.40973266778,-9.43703107549 L -1.39776977372,-9.59359125116 L -1.37051890356,-9.74822497812 L -1.32824249806,-9.89944304905 L -1.27134770214,-10.0457891513 L -1.20038244377,-10.1858538918 L -1.11603015719,-10.3182883707 L -1.10224010138,-10.3358631416 L -3.07461339179,-11.4746133918 L -6.95117815656,-4.76020626037 z\" /><path fill-rule=\"evenodd\" fill=\"#66cc99\" stroke=\"#555555\" stroke-width=\"0.495703298525\" opacity=\"0.6\" d=\"M 3.74061858338,-7.53983737634 L 3.73400353464,-7.29647556818 L 3.72204064058,-7.13991539252 L 3.69478977041,-6.98528166556 L 3.65251336492,-6.83406359462 L 3.59561856899,-6.6877174924 L 3.52465331062,-6.54765275186 L 3.44030102404,-6.41521827302 L 3.34337406788,-6.2916894723 L 3.23480590171,-6.17825599958 L 3.11564209632,-6.07601028122 L 2.98703026429,-5.98593699937 L 2.85020900789,-5.90890360899 L 2.7064959906,-5.84565198372 L 2.55727524734,-5.7967912713 L 2.40398385543,-5.76279202709 L 2.24809809479,-5.74398168242 L 2.09111923049,-5.74054139117 L 0.0949093052174,-5.79480227149 L 0.117366033762,-5.79154019671 L 0.271441491255,-5.75326053516 L 0.420964860738,-5.69990005288 L 0.564464004087,-5.63198411257 L 0.700526094933,-5.55018138324 L 0.827811528694,-5.45529725684 L 0.945067111705,-5.34826591871 L 1.05113839958,-5.23014115002 L 1.14498106336,-5.10208595275 L 1.22567117146,-4.96536109932 L 1.29241428629,-4.82131271956 L 1.34455328594,-4.67135904736 L 1.38157483387,-4.51697645741 L 1.40311443299,-4.35968492948 L 1.80449076474,0.271001824637 L 1.81032850717,0.430256974692 L 1.80029495219,0.589302910919 L 1.77448963688,0.746561830404 L 1.73316856088,0.900473658197 L 1.67674164674,1.04951152391 L 1.60576867329,1.19219690892 L 1.52095372243,1.3271143139 L 1.42313819432,1.45292530117 L 1.31329246034,1.56838177254 L 1.23135228576,1.64633603262 L 1.23814269573,1.6513873572 L 1.357034966,1.76000581309 L 1.46440655288,1.88002532493 L 3.45638274203,4.34590837487 L 3.49372820789,4.39398146552 L 4.69042614625,5.99645269594 L 4.77809060447,6.12671835605 L 4.85256466689,6.26494937089 L 4.91313110755,6.40981450025 L 4.95920663854,6.55991861373 L 4.99034752729,6.71381612666 L 5.00625387003,6.87002492186 L 5.00677247999,7.02704062325 L 4.99189836266,7.18335108378 L 4.96177476392,7.33745094828 L 4.91669179051,7.4878561508 L 4.85708361609,7.63311820703 L 4.78352429997,7.77183816396 L 4.69672225858,7.90268007257 L 4.59751344303,8.02438385376 L 4.48685328844,8.13577743358 L 4.3658075126,8.23578803096 L 2.76333628218,9.43248596932 L 2.6391107643,9.51648471057 L 2.50756677076,9.5884843327 L 2.36985982138,9.64785237054 L 2.22719957317,9.69406731838 L 2.08083919431,9.72672321097 L 1.93206435596,9.74553318968 L 0.302830635412,9.87432387126 L 3.07461339179,11.4746133918 L 7.74037940679,3.39326959758 L 7.73535541331,3.38970499521 L 7.61681989851,3.28673154636 L 6.17314965784,1.90260140934 L 6.06527808693,1.7885052936 L 5.9691093221,1.66438531893 L 5.88556952114,1.53143682856 L 5.81546321799,1.39094018911 L 5.75946557468,1.24424846002 L 5.71811587912,1.09277436284 L 5.69181235148,0.937976675935 L 5.68080830913,0.78134618564 L 5.68520972699,0.624391329203 L 5.70497421701,0.468623667692 L 5.73991143634,0.315543328838 L 5.78968492047,0.166624559988 L 5.85381532353,0.0233015302913 L 5.93168503469,-0.113045481126 L 6.02254412606,-0.241103378011 L 6.12551757491,-0.359638892811 L 7.50964771193,-1.80330913348 L 7.62374382767,-1.91118070439 L 7.74786380233,-2.00734946922 L 7.88081229271,-2.09088927018 L 8.02130893216,-2.16099557333 L 8.16800066125,-2.21699321664 L 8.31947475842,-2.2583429122 L 8.47427244533,-2.28464643984 L 8.63090293563,-2.2956504822 L 8.78785779207,-2.29124906433 L 8.94362545358,-2.27148457432 L 9.09670579243,-2.23654735498 L 9.24562456128,-2.18677387085 L 9.38894759098,-2.12264346779 L 9.52529460239,-2.04477375663 L 9.65335249928,-1.95391466526 L 9.77188801408,-1.85094121641 L 10.4131579545,-1.23611864441 L 11.4746133918,-3.07461339179 L 3.74061858338,-7.53983737634 z\" /><path fill-rule=\"evenodd\" fill=\"#66cc99\" stroke=\"#555555\" stroke-width=\"0.495703298525\" opacity=\"0.6\" d=\"M -5.17589259172,6.45340064837 L -5.24206594335,6.47497389081 L -5.3954010792,6.50877530431 L -5.50401597148,6.52173941963 L -5.18045755575,6.70854595805 L -5.18491521768,6.6276676392 L -5.17925066776,6.47885763806 L -5.17589259172,6.45340064837 z\" /></g></g></svg>",
      "text/plain": [
       "<shapely.geometry.multipolygon.MultiPolygon at 0x118a09050>"
      ]
     },
     "execution_count": 15,
     "metadata": {},
     "output_type": "execute_result"
    }
   ],
   "source": [
    "pat = 1.6\n",
    "keyarea_range = 0.3\n",
    "\n",
    "path_area = free_zone.buffer(-pat)\n",
    "path_area"
   ]
  },
  {
   "cell_type": "code",
   "execution_count": 16,
   "metadata": {},
   "outputs": [
    {
     "data": {
      "image/svg+xml": "<svg xmlns=\"http://www.w3.org/2000/svg\" xmlns:xlink=\"http://www.w3.org/1999/xlink\" width=\"100.0\" height=\"100.0\" viewBox=\"5.13089533209 -2.84556345923 5.68669652917 6.7494452472\" preserveAspectRatio=\"xMinYMin meet\"><g transform=\"matrix(1,0,0,-1,0,1.05831832873)\"><path fill-rule=\"evenodd\" fill=\"#66cc99\" stroke=\"#555555\" stroke-width=\"0.134988904944\" opacity=\"0.6\" d=\"M 7.74037940679,3.39326959758 L 7.73535541331,3.38970499521 L 7.61681989851,3.28673154636 L 6.17314965784,1.90260140934 L 6.06527808693,1.7885052936 L 5.9691093221,1.66438531893 L 5.88556952114,1.53143682856 L 5.81546321799,1.39094018911 L 5.75946557468,1.24424846002 L 5.71811587912,1.09277436284 L 5.69181235148,0.937976675935 L 5.68080830913,0.78134618564 L 5.68520972699,0.624391329203 L 5.70497421701,0.468623667692 L 5.73991143634,0.315543328838 L 5.78968492047,0.166624559988 L 5.85381532353,0.0233015302913 L 5.93168503469,-0.113045481126 L 6.02254412606,-0.241103378011 L 6.12551757491,-0.359638892811 L 7.50964771193,-1.80330913348 L 7.62374382767,-1.91118070439 L 7.74786380233,-2.00734946922 L 7.88081229271,-2.09088927018 L 8.02130893216,-2.16099557333 L 8.16800066125,-2.21699321664 L 8.31947475842,-2.2583429122 L 8.47427244533,-2.28464643984 L 8.63090293563,-2.2956504822 L 8.78785779207,-2.29124906433 L 8.94362545358,-2.27148457432 L 9.09670579243,-2.23654735498 L 9.24562456128,-2.18677387085 L 9.38894759098,-2.12264346779 L 9.52529460239,-2.04477375663 L 9.65335249928,-1.95391466526 L 9.77188801408,-1.85094121641 L 10.4131579545,-1.23611864441 L 10.5676124077,-1.50364160477 L 9.97950753463,-2.06749175251 L 9.83874661081,-2.18977272303 L 9.68667785826,-2.29766789402 L 9.5247657822,-2.39013817602 L 9.35456968443,-2.46629302966 L 9.17772864642,-2.52539904206 L 8.99594574403,-2.56688699002 L 8.81097164599,-2.59035732192 L 8.62458775397,-2.59558400563 L 8.43858904675,-2.58251670533 L 8.25476679354,-2.55128126627 L 8.07489130314,-2.50217850279 L 7.90069487486,-2.43568130135 L 7.73385511551,-2.35243006637 L 7.57597878318,-2.25322655272 L 7.42858631327,-2.13902614449 L 7.29309717583,-2.01092865404 L 5.90896703881,-0.567258413364 L 5.78668606829,-0.426497489538 L 5.6787908973,-0.274428736988 L 5.5863206153,-0.112516660929 L 5.51016576166,0.057679436835 L 5.45105974926,0.234520474845 L 5.4095718013,0.416303377234 L 5.3861014694,0.601277475278 L 5.38087478569,0.787661367297 L 5.39394208599,0.973660074523 L 5.42517752506,1.15748232773 L 5.47428028853,1.33735781812 L 5.54077748997,1.51155424641 L 5.62402872496,1.67839400576 L 5.7232322386,1.83627033808 L 5.83743264683,1.983662808 L 5.96553013728,2.11915194544 L 7.40920037796,3.50328208246 L 7.54996130178,3.62556305297 L 7.58990302605,3.65390233437 L 7.74037940679,3.39326959758 z\" /></g></svg>",
      "text/plain": [
       "<shapely.geometry.polygon.Polygon at 0x118a676d0>"
      ]
     },
     "execution_count": 16,
     "metadata": {},
     "output_type": "execute_result"
    }
   ],
   "source": [
    "path_area.intersection(zone_hull[0].buffer(pat+keyarea_range))"
   ]
  },
  {
   "cell_type": "code",
   "execution_count": 17,
   "metadata": {},
   "outputs": [
    {
     "data": {
      "image/svg+xml": "<svg xmlns=\"http://www.w3.org/2000/svg\" xmlns:xlink=\"http://www.w3.org/1999/xlink\" width=\"100.0\" height=\"100.0\" viewBox=\"-9.22301619752 -9.98747029071 16.5560001455 14.2782700272\" preserveAspectRatio=\"xMinYMin meet\"><g transform=\"matrix(1,0,0,-1,0,-5.69667055427)\"><path fill-rule=\"evenodd\" fill=\"#66cc99\" stroke=\"#555555\" stroke-width=\"0.33112000291\" opacity=\"0.6\" d=\"M -7.40919930498,3.67761454587 L 6.51862586125,3.59513520432 L 6.7197987574,-4.09785584943 L -0.0849210882447,-9.37428510014 L -7.68396855972,-7.36135340982 L -8.60983100694,-1.29408231455 L -7.40919930498,3.67761454587 z\" /></g></svg>",
      "text/plain": [
       "<shapely.geometry.polygon.Polygon at 0x10b5f1bd0>"
      ]
     },
     "execution_count": 17,
     "metadata": {},
     "output_type": "execute_result"
    }
   ],
   "source": [
    "wall = poly.random_triangulation()\n",
    "wall"
   ]
  },
  {
   "cell_type": "code",
   "execution_count": 18,
   "metadata": {},
   "outputs": [
    {
     "data": {
      "image/svg+xml": "<svg xmlns=\"http://www.w3.org/2000/svg\" xmlns:xlink=\"http://www.w3.org/1999/xlink\" width=\"100.0\" height=\"100.0\" viewBox=\"-8.1235466132 -8.81293727156 14.362391819 12.0178193613\" preserveAspectRatio=\"xMinYMin meet\"><g transform=\"matrix(1,0,0,-1,0,-5.60805518181)\"><path fill-rule=\"evenodd\" fill=\"#66cc99\" stroke=\"#555555\" stroke-width=\"0.28724783638\" opacity=\"0.6\" d=\"M -6.62307478049,2.67294165201 L -7.59160617546,-1.33765084497 L -6.79429185997,-6.56253291543 L -0.30689392359,-8.28099683382 L 5.70690476805,-3.61785359732 L 5.54428373081,2.60088763737 L -6.62307478049,2.67294165201 z\" /></g></svg>",
      "text/plain": [
       "<shapely.geometry.polygon.Polygon at 0x118a67250>"
      ]
     },
     "execution_count": 18,
     "metadata": {},
     "output_type": "execute_result"
    }
   ],
   "source": [
    "Polygon(wall.exterior.buffer(1).interiors[0])"
   ]
  },
  {
   "cell_type": "code",
   "execution_count": 19,
   "metadata": {},
   "outputs": [],
   "source": [
    "from randoor.generator import empty_room\n",
    "generator = empty_room.EmptyRoomGenerator(9, 0.05)\n",
    "config = generator.generate_new()"
   ]
  },
  {
   "cell_type": "code",
   "execution_count": 20,
   "metadata": {},
   "outputs": [
    {
     "data": {
      "image/svg+xml": "<svg xmlns=\"http://www.w3.org/2000/svg\" xmlns:xlink=\"http://www.w3.org/1999/xlink\" width=\"100.0\" height=\"100.0\" viewBox=\"-4.24342748799 -3.98820985708 8.43037160728 8.22628148123\" preserveAspectRatio=\"xMinYMin meet\"><g transform=\"matrix(1,0,0,-1,0,0.249861767064)\"><path fill-rule=\"evenodd\" fill=\"#66cc99\" stroke=\"#555555\" stroke-width=\"0.168607432146\" opacity=\"0.6\" d=\"M -3.89534908013,-2.19977385246 L -3.80773071961,-2.39349582613 L -2.91040339305,-3.41432427761 L -1.6518458341,-3.67597387163 L 3.77148612704,-1.37537261751 L 3.87470813383,2.81519282464 L 3.49175284806,3.53587047375 L -1.9700342814,3.92583563869 L -3.21591419095,3.53285534774 L -3.53909547027,3.16919298531 L -3.93119150254,1.40355898843 L -3.89534908013,-2.19977385246 z\" /></g></svg>",
      "text/plain": [
       "<shapely.geometry.polygon.Polygon at 0x118a854d0>"
      ]
     },
     "execution_count": 20,
     "metadata": {},
     "output_type": "execute_result"
    }
   ],
   "source": [
    "config.get_freespace_poly()"
   ]
  },
  {
   "cell_type": "code",
   "execution_count": 21,
   "metadata": {},
   "outputs": [
    {
     "data": {
      "image/svg+xml": "<svg xmlns=\"http://www.w3.org/2000/svg\" xmlns:xlink=\"http://www.w3.org/1999/xlink\" width=\"100.0\" height=\"100.0\" viewBox=\"-4.35156565423 -4.10051068803 8.64715437174 8.44771531551\" preserveAspectRatio=\"xMinYMin meet\"><g transform=\"matrix(1,0,0,-1,0,0.246693939462)\"><path fill-rule=\"evenodd\" fill=\"#66cc99\" stroke=\"#555555\" stroke-width=\"0.172943087435\" opacity=\"0.6\" d=\"M -3.99513482787,-2.22181053357 L -4.03130067749,1.41403729499 L -3.63108924493,3.21621546854 L -3.27232394602,3.61991903834 L -1.98193148753,4.02693965076 L 3.55408592262,3.63167453125 L 3.97532374079,2.83895357455 L 3.86986879733,-1.44226373077 L -1.64158277511,-3.78024571129 L -2.96345955502,-3.50543227877 L -3.89269338925,-2.44830595711 L -3.99513482787,-2.22181053357 z M -3.89534908013,-2.19977385246 L -3.80773071961,-2.39349582613 L -2.91040339305,-3.41432427761 L -1.6518458341,-3.67597387163 L 3.77148612704,-1.37537261751 L 3.87470813383,2.81519282464 L 3.49175284806,3.53587047375 L -1.9700342814,3.92583563869 L -3.21591419095,3.53285534774 L -3.53909547027,3.16919298531 L -3.93119150254,1.40355898843 L -3.89534908013,-2.19977385246 z\" /></g></svg>",
      "text/plain": [
       "<shapely.geometry.polygon.Polygon at 0x118a855d0>"
      ]
     },
     "execution_count": 21,
     "metadata": {},
     "output_type": "execute_result"
    }
   ],
   "source": [
    "config.get_collision_poly()"
   ]
  },
  {
   "cell_type": "code",
   "execution_count": 23,
   "metadata": {},
   "outputs": [
    {
     "data": {
      "image/png": "[encoded data removed]",
      "text/plain": [
       "<Figure size 288x288 with 1 Axes>"
      ]
     },
     "metadata": {},
     "output_type": "display_data"
    }
   ],
   "source": [
    "import matplotlib.pyplot as plt\n",
    "import numpy as np\n",
    "from shapely.geometry import Polygon\n",
    "from shapely.affinity import affine_transform\n",
    "from descartes import PolygonPatch\n",
    "from randoor import utils\n",
    "\n",
    "fig = plt.figure(1, figsize=(4,4))\n",
    "plt.xlim(-1.5,1.5)\n",
    "plt.ylim(-1.5,1.5)\n",
    "ax = fig.add_subplot(111)\n",
    "\n",
    "x = 0\n",
    "y = 0.5\n",
    "yaw = np.pi / 6\n",
    "\n",
    "affine = utils.get_affine(x,y,yaw)\n",
    "\n",
    "p = Polygon(utils.get_square_horizon((0,0), 0.5))\n",
    "ax.add_patch(PolygonPatch(p, alpha=0.5, zorder=1))\n",
    "\n",
    "abcdeoo = [affine[0,0], affine[0,1], affine[1,0], affine[1,1], affine[0,2], affine[1,2]]\n",
    "pp = affine_transform(p, abcdeoo)\n",
    "ax.add_patch(PolygonPatch(pp, alpha=0.5, zorder=2))\n",
    "\n",
    "plt.show()"
   ]
  },
  {
   "cell_type": "code",
   "execution_count": null,
   "metadata": {},
   "outputs": [],
   "source": []
  }
 ],
 "metadata": {
  "interpreter": {
   "hash": "33b203e14a488836ed93b692d2d39522cdda69eb434e3ffe65691b8de41f05e2"
  },
  "kernelspec": {
   "display_name": "Python 2.7.16 64-bit ('.venv': poetry)",
   "name": "python3"
  },
  "language_info": {
   "codemirror_mode": {
    "name": "ipython",
    "version": 2
   },
   "file_extension": ".py",
   "mimetype": "text/x-python",
   "name": "python",
   "nbconvert_exporter": "python",
   "pygments_lexer": "ipython2",
   "version": "2.7.16"
  },
  "orig_nbformat": 4
 },
 "nbformat": 4,
 "nbformat_minor": 2
}
